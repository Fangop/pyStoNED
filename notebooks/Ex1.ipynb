{
 "cells": [
  {
   "cell_type": "code",
   "execution_count": 1,
   "metadata": {},
   "outputs": [],
   "source": [
    "# import packages\n",
    "import numpy as np\n",
    "from pystoned import CNLS\n",
    "from pystoned.plot import plot2d\n",
    "from pystoned.constant import CET_ADDI, FUN_PROD, RTS_VRS"
   ]
  },
  {
   "cell_type": "code",
   "execution_count": 2,
   "metadata": {},
   "outputs": [],
   "source": [
    "# set seed\n",
    "np.random.seed(0)  "
   ]
  },
  {
   "cell_type": "code",
   "execution_count": 3,
   "metadata": {},
   "outputs": [],
   "source": [
    "# generate DMUs: DGP\n",
    "x = np.sort(np.random.uniform(low=1, high=10, size=50))\n",
    "u = np.abs(np.random.normal(loc=0, scale=0.7, size=50))\n",
    "y_true = 3 + np.log(x)\n",
    "y = y_true - u"
   ]
  },
  {
   "cell_type": "code",
   "execution_count": 4,
   "metadata": {},
   "outputs": [
    {
     "name": "stdout",
     "output_type": "stream",
     "text": [
      "Estimating the additive model remotely with mosek solver.\n"
     ]
    }
   ],
   "source": [
    "# define the CNLS model\n",
    "model = CNLS.CNLS(y, x, z=None, cet = CET_ADDI, fun = FUN_PROD, rts = RTS_VRS)\n",
    "# solve the model with remote solver\n",
    "model.optimize('email@address')"
   ]
  },
  {
   "cell_type": "code",
   "execution_count": 5,
   "metadata": {},
   "outputs": [
    {
     "name": "stdout",
     "output_type": "stream",
     "text": [
      "epsilon : residual\n",
      "    Size=50, Index=I\n",
      "    Key : Lower : Value                 : Upper : Fixed : Stale : Domain\n",
      "      0 :  None :   0.09612683897436813 :  None : False : False :  Reals\n",
      "      1 :  None :  -0.09957013454382424 :  None : False : False :  Reals\n",
      "      2 :  None :   0.18151612247971638 :  None : False : False :  Reals\n",
      "      3 :  None :    0.2447629921186416 :  None : False : False :  Reals\n",
      "      4 :  None :  -0.31239508719251496 :  None : False : False :  Reals\n",
      "      5 :  None :  0.027832260060351555 :  None : False : False :  Reals\n",
      "      6 :  None :    -0.559599559106418 :  None : False : False :  Reals\n",
      "      7 :  None :    0.4154629827978287 :  None : False : False :  Reals\n",
      "      8 :  None :  -0.12650802676927242 :  None : False : False :  Reals\n",
      "      9 :  None :   0.14446523327144867 :  None : False : False :  Reals\n",
      "     10 :  None :   0.04004961834534759 :  None : False : False :  Reals\n",
      "     11 :  None :  -0.45585008747138644 :  None : False : False :  Reals\n",
      "     12 :  None :    0.3478025601672412 :  None : False : False :  Reals\n",
      "     13 :  None :   0.05229646047059777 :  None : False : False :  Reals\n",
      "     14 :  None :   0.27801098143639713 :  None : False : False :  Reals\n",
      "     15 :  None :   0.12318059632071243 :  None : False : False :  Reals\n",
      "     16 :  None :  -0.09425698021458384 :  None : False : False :  Reals\n",
      "     17 :  None :   0.09645329769768107 :  None : False : False :  Reals\n",
      "     18 :  None :  -0.10074667428170603 :  None : False : False :  Reals\n",
      "     19 :  None :   0.12371514094820135 :  None : False : False :  Reals\n",
      "     20 :  None :   -0.1380135843640451 :  None : False : False :  Reals\n",
      "     21 :  None :   -0.7713260848738202 :  None : False : False :  Reals\n",
      "     22 :  None :   0.32577593116270265 :  None : False : False :  Reals\n",
      "     23 :  None :   0.17180724288411575 :  None : False : False :  Reals\n",
      "     24 :  None :   -0.6735197666535799 :  None : False : False :  Reals\n",
      "     25 :  None :   0.14395797305967317 :  None : False : False :  Reals\n",
      "     26 :  None :  -0.14319596348312746 :  None : False : False :  Reals\n",
      "     27 :  None :     0.461667970572349 :  None : False : False :  Reals\n",
      "     28 :  None : -0.009228167354163652 :  None : False : False :  Reals\n",
      "     29 :  None :    0.4112937759664561 :  None : False : False :  Reals\n",
      "     30 :  None :  -0.28228415662214523 :  None : False : False :  Reals\n",
      "     31 :  None :  -0.34555774840846176 :  None : False : False :  Reals\n",
      "     32 :  None :   0.24901297654914334 :  None : False : False :  Reals\n",
      "     33 :  None :  0.053399192423778885 :  None : False : False :  Reals\n",
      "     34 :  None :    -0.070821573995274 :  None : False : False :  Reals\n",
      "     35 :  None :   0.14164486286381361 :  None : False : False :  Reals\n",
      "     36 :  None :    0.3373055400977325 :  None : False : False :  Reals\n",
      "     37 :  None :    0.5601076429681102 :  None : False : False :  Reals\n",
      "     38 :  None :  -0.21342042431274333 :  None : False : False :  Reals\n",
      "     39 :  None :  -0.02673379774440754 :  None : False : False :  Reals\n",
      "     40 :  None :   0.28562126211118066 :  None : False : False :  Reals\n",
      "     41 :  None :  -0.45873164262100463 :  None : False : False :  Reals\n",
      "     42 :  None :   -0.4031980776781703 :  None : False : False :  Reals\n",
      "     43 :  None :   -0.6655112634749489 :  None : False : False :  Reals\n",
      "     44 :  None :   -0.1508064970552292 :  None : False : False :  Reals\n",
      "     45 :  None :    0.5672479219916919 :  None : False : False :  Reals\n",
      "     46 :  None :   -0.0466558376295545 :  None : False : False :  Reals\n",
      "     47 :  None :  -0.03476233250421057 :  None : False : False :  Reals\n",
      "     48 :  None :    0.4309224575098227 :  None : False : False :  Reals\n",
      "     49 :  None :  -0.12874610311524304 :  None : False : False :  Reals\n"
     ]
    }
   ],
   "source": [
    "# display the residuals\n",
    "model.display_residual()"
   ]
  },
  {
   "cell_type": "code",
   "execution_count": 6,
   "metadata": {},
   "outputs": [
    {
     "name": "stdout",
     "output_type": "stream",
     "text": [
      "alpha : alpha\n",
      "    Size=50, Index=I\n",
      "    Key : Lower : Value               : Upper : Fixed : Stale : Domain\n",
      "      0 :  None :  -1.370923735734678 :  None : False : False :  Reals\n",
      "      1 :  None : -1.3605138588037378 :  None : False : False :  Reals\n",
      "      2 :  None :  1.9796873223521219 :  None : False : False :  Reals\n",
      "      3 :  None :  2.1334001836366157 :  None : False : False :  Reals\n",
      "      4 :  None :  2.1334019109156945 :  None : False : False :  Reals\n",
      "      5 :  None :   2.133402351279282 :  None : False : False :  Reals\n",
      "      6 :  None :   2.133402664841167 :  None : False : False :  Reals\n",
      "      7 :  None :   2.133403480640909 :  None : False : False :  Reals\n",
      "      8 :  None :  2.1334043025259546 :  None : False : False :  Reals\n",
      "      9 :  None :  2.4381983097112183 :  None : False : False :  Reals\n",
      "     10 :  None :   2.734450092256914 :  None : False : False :  Reals\n",
      "     11 :  None :  2.7344587953189943 :  None : False : False :  Reals\n",
      "     12 :  None :   2.734461827718615 :  None : False : False :  Reals\n",
      "     13 :  None :  2.7347628400846764 :  None : False : False :  Reals\n",
      "     14 :  None :   3.074933300710729 :  None : False : False :  Reals\n",
      "     15 :  None :  3.8426331596888788 :  None : False : False :  Reals\n",
      "     16 :  None :  3.8426372694349062 :  None : False : False :  Reals\n",
      "     17 :  None :   3.842638013645578 :  None : False : False :  Reals\n",
      "     18 :  None :   3.842641078412843 :  None : False : False :  Reals\n",
      "     19 :  None :  3.8426421482176347 :  None : False : False :  Reals\n",
      "     20 :  None :   3.842644643990186 :  None : False : False :  Reals\n",
      "     21 :  None :   3.842644961109882 :  None : False : False :  Reals\n",
      "     22 :  None :    3.84264571268394 :  None : False : False :  Reals\n",
      "     23 :  None :   3.842646385111738 :  None : False : False :  Reals\n",
      "     24 :  None :    3.84264743146327 :  None : False : False :  Reals\n",
      "     25 :  None :   3.842647532145895 :  None : False : False :  Reals\n",
      "     26 :  None :   3.842649892504595 :  None : False : False :  Reals\n",
      "     27 :  None :    3.84265805375258 :  None : False : False :  Reals\n",
      "     28 :  None :   3.842663244279622 :  None : False : False :  Reals\n",
      "     29 :  None :  3.8426669179186357 :  None : False : False :  Reals\n",
      "     30 :  None :   3.842670398317888 :  None : False : False :  Reals\n",
      "     31 :  None :   3.842671246088513 :  None : False : False :  Reals\n",
      "     32 :  None :   3.842682968960798 :  None : False : False :  Reals\n",
      "     33 :  None :   3.842687381174223 :  None : False : False :  Reals\n",
      "     34 :  None :  3.8426912415483194 :  None : False : False :  Reals\n",
      "     35 :  None :  3.8427504197025524 :  None : False : False :  Reals\n",
      "     36 :  None :   4.001874859744522 :  None : False : False :  Reals\n",
      "     37 :  None :   4.101344425691414 :  None : False : False :  Reals\n",
      "     38 :  None :    4.10134505557368 :  None : False : False :  Reals\n",
      "     39 :  None :  4.1013456137464095 :  None : False : False :  Reals\n",
      "     40 :  None :   4.101346885486447 :  None : False : False :  Reals\n",
      "     41 :  None :   4.101347697916231 :  None : False : False :  Reals\n",
      "     42 :  None :   4.101348512010974 :  None : False : False :  Reals\n",
      "     43 :  None :   4.101349017073611 :  None : False : False :  Reals\n",
      "     44 :  None :    4.10134947470573 :  None : False : False :  Reals\n",
      "     45 :  None :   4.101352396934136 :  None : False : False :  Reals\n",
      "     46 :  None :   4.101354796976901 :  None : False : False :  Reals\n",
      "     47 :  None :    4.10135558017861 :  None : False : False :  Reals\n",
      "     48 :  None :   4.496504353828241 :  None : False : False :  Reals\n",
      "     49 :  None :   4.556186065768952 :  None : False : False :  Reals\n"
     ]
    }
   ],
   "source": [
    "# display the alpha\n",
    "model.display_alpha()"
   ]
  },
  {
   "cell_type": "code",
   "execution_count": 7,
   "metadata": {},
   "outputs": [
    {
     "name": "stdout",
     "output_type": "stream",
     "text": [
      "beta : beta\n",
      "    Size=50, Index=beta_index\n",
      "    Key     : Lower : Value                  : Upper : Fixed : Stale : Domain\n",
      "     (0, 0) :   0.0 :     2.7684768542021816 :  None : False : False :  Reals\n",
      "     (1, 0) :   0.0 :     2.7595727626191597 :  None : False : False :  Reals\n",
      "     (2, 0) :   0.0 :     0.5934642753898148 :  None : False : False :  Reals\n",
      "     (3, 0) :   0.0 :     0.4937820929431491 :  None : False : False :  Reals\n",
      "     (4, 0) :   0.0 :     0.4937810438024808 :  None : False : False :  Reals\n",
      "     (5, 0) :   0.0 :     0.4937808134889717 :  None : False : False :  Reals\n",
      "     (6, 0) :   0.0 :     0.4937806642845963 :  None : False : False :  Reals\n",
      "     (7, 0) :   0.0 :    0.49378030596851663 :  None : False : False :  Reals\n",
      "     (8, 0) :   0.0 :     0.4937799937861378 :  None : False : False :  Reals\n",
      "     (9, 0) :   0.0 :      0.403630930892314 :  None : False : False :  Reals\n",
      "    (10, 0) :   0.0 :    0.31600850497435595 :  None : False : False :  Reals\n",
      "    (11, 0) :   0.0 :    0.31600624867012467 :  None : False : False :  Reals\n",
      "    (12, 0) :   0.0 :    0.31600553813062165 :  None : False : False :  Reals\n",
      "    (13, 0) :   0.0 :     0.3159378978345862 :  None : False : False :  Reals\n",
      "    (14, 0) :   0.0 :    0.24404966193565095 :  None : False : False :  Reals\n",
      "    (15, 0) :   0.0 :    0.08181239404928548 :  None : False : False :  Reals\n",
      "    (16, 0) :   0.0 :    0.08181154187744831 :  None : False : False :  Reals\n",
      "    (17, 0) :   0.0 :    0.08181139109902517 :  None : False : False :  Reals\n",
      "    (18, 0) :   0.0 :    0.08181077359381375 :  None : False : False :  Reals\n",
      "    (19, 0) :   0.0 :    0.08181056497548614 :  None : False : False :  Reals\n",
      "    (20, 0) :   0.0 :    0.08181008311202052 :  None : False : False :  Reals\n",
      "    (21, 0) :   0.0 :    0.08181002770031608 :  None : False : False :  Reals\n",
      "    (22, 0) :   0.0 :    0.08180989956233835 :  None : False : False :  Reals\n",
      "    (23, 0) :   0.0 :    0.08180978601326439 :  None : False : False :  Reals\n",
      "    (24, 0) :   0.0 :    0.08180961208890825 :  None : False : False :  Reals\n",
      "    (25, 0) :   0.0 :    0.08180959562758902 :  None : False : False :  Reals\n",
      "    (26, 0) :   0.0 :    0.08180922593366455 :  None : False : False :  Reals\n",
      "    (27, 0) :   0.0 :    0.08180797134412149 :  None : False : False :  Reals\n",
      "    (28, 0) :   0.0 :    0.08180717708908054 :  None : False : False :  Reals\n",
      "    (29, 0) :   0.0 :    0.08180661674229563 :  None : False : False :  Reals\n",
      "    (30, 0) :   0.0 :    0.08180608919482664 :  None : False : False :  Reals\n",
      "    (31, 0) :   0.0 :    0.08180596428585726 :  None : False : False :  Reals\n",
      "    (32, 0) :   0.0 :    0.08180428868857888 :  None : False : False :  Reals\n",
      "    (33, 0) :   0.0 :    0.08180366045177433 :  None : False : False :  Reals\n",
      "    (34, 0) :   0.0 :     0.0818031172673862 :  None : False : False :  Reals\n",
      "    (35, 0) :   0.0 :    0.08179498502776883 :  None : False : False :  Reals\n",
      "    (36, 0) :   0.0 :    0.06039780386950954 :  None : False : False :  Reals\n",
      "    (37, 0) :   0.0 :    0.04702231569622147 :  None : False : False :  Reals\n",
      "    (38, 0) :   0.0 :    0.04702223679173624 :  None : False : False :  Reals\n",
      "    (39, 0) :   0.0 :    0.04702216712462297 :  None : False : False :  Reals\n",
      "    (40, 0) :   0.0 :   0.047022009306305755 :  None : False : False :  Reals\n",
      "    (41, 0) :   0.0 :    0.04702190951746802 :  None : False : False :  Reals\n",
      "    (42, 0) :   0.0 :   0.047021811263687645 :  None : False : False :  Reals\n",
      "    (43, 0) :   0.0 :   0.047021752974396036 :  None : False : False :  Reals\n",
      "    (44, 0) :   0.0 :   0.047021702005116635 :  None : False : False :  Reals\n",
      "    (45, 0) :   0.0 :    0.04702138840551368 :  None : False : False :  Reals\n",
      "    (46, 0) :   0.0 :    0.04702113333049468 :  None : False : False :  Reals\n",
      "    (47, 0) :   0.0 :    0.04702105087254388 :  None : False : False :  Reals\n",
      "    (48, 0) :   0.0 :   0.006170206502367779 :  None : False : False :  Reals\n",
      "    (49, 0) :   0.0 : 2.5724078854226207e-07 :  None : False : False :  Reals\n"
     ]
    }
   ],
   "source": [
    "# display the beta\n",
    "model.display_beta()"
   ]
  },
  {
   "cell_type": "code",
   "execution_count": 8,
   "metadata": {},
   "outputs": [
    {
     "name": "stdout",
     "output_type": "stream",
     "text": [
      "[1.86572527 1.90120615 2.89482659 2.94286928 3.01438812 3.15279794\n",
      " 3.20013515 3.26424906 3.56212859 3.80287469 3.94756097 4.07292573\n",
      " 4.08487893 4.1409941  4.22976592 4.23638747 4.24623713 4.24664597\n",
      " 4.26031396 4.2642377  4.30868682 4.31387516 4.32564716 4.32854101\n",
      " 4.34270059 4.34298729 4.36826357 4.37513481 4.37869708 4.37921357\n",
      " 4.39562141 4.40001913 4.41538665 4.41823673 4.42646959 4.43811\n",
      " 4.45103547 4.47602309 4.47768333 4.47868734 4.48342541 4.48657126\n",
      " 4.50073196 4.51655624 4.52576534 4.54007934 4.54776087 4.54815056\n",
      " 4.55618854 4.55618859]\n"
     ]
    }
   ],
   "source": [
    "# display the frontier\n",
    "print(model.get_frontier())"
   ]
  },
  {
   "cell_type": "code",
   "execution_count": 9,
   "metadata": {},
   "outputs": [
    {
     "data": {
      "image/png": "[encoded data removed]",
      "text/plain": [
       "<Figure size 432x288 with 1 Axes>"
      ]
     },
     "metadata": {
      "needs_background": "light"
     },
     "output_type": "display_data"
    }
   ],
   "source": [
    "# Plot the CNLS estimated function\n",
    "plot2d(model, x_select=0, label_name=\"CNLS\")"
   ]
  }
 ],
 "metadata": {
  "interpreter": {
   "hash": "1baa965d5efe3ac65b79dfc60c0d706280b1da80fedb7760faf2759126c4f253"
  },
  "kernelspec": {
   "display_name": "Python 3.8.5 64-bit ('base': conda)",
   "language": "python",
   "name": "python3"
  },
  "language_info": {
   "codemirror_mode": {
    "name": "ipython",
    "version": 3
   },
   "file_extension": ".py",
   "mimetype": "text/x-python",
   "name": "python",
   "nbconvert_exporter": "python",
   "pygments_lexer": "ipython3",
   "version": "3.8.10"
  },
  "metadata": {
   "interpreter": {
    "hash": "67b44fad87ca53c90c138b8078ad3480fa8283762c443b3c07643709b319eb9a"
   }
  }
 },
 "nbformat": 4,
 "nbformat_minor": 4
}
