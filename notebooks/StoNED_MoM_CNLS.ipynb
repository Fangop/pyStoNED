{
 "cells": [
  {
   "cell_type": "markdown",
   "metadata": {},
   "source": [
    "# StoNED: Method of Moment"
   ]
  },
  {
   "cell_type": "markdown",
   "metadata": {},
   "source": [
    "The method of moments requires some additional parametric distributional assumptions. \n",
    "Following Kuosmanen et al. (2015), under the maintained assumptions of half-normal inefficiency and normal noise, \n",
    "the second and third central moments of the composite error distribution are given \n",
    "by\n",
    "\n",
    "   \\begin{align*}\n",
    "        M_2 &= \\bigg[\\frac{\\pi-2}{\\pi}\\bigg] \\sigma_u^2 + \\sigma_v^2  \\\\\n",
    "        M_3 &= \\bigg(\\sqrt{\\frac{2}{\\pi}}\\bigg)\\bigg[1-\\frac{4}{\\pi}\\bigg]\\sigma_u^2\n",
    "   \\end{align*}\n",
    "\n",
    "These central moments can be estimated by using the CNLS residuals:\n",
    "    \n",
    "   \\begin{align*}\n",
    "    \\hat{M_2} &= \\sum_{i=1}^{n}(\\hat{\\varepsilon}_i-\\bar{\\varepsilon})^{2}/n  \\\\\n",
    "    \\hat{M_3} &= \\sum_{i=1}^{n}(\\hat{\\varepsilon}_i-\\bar{\\varepsilon})^{3}/n  \n",
    "   \\end{align*}\n",
    "\n",
    "Note that the third moment $M_3$ (which measures the skewness of the distribution) \n",
    "only depends on the standard deviation parameter $\\sigma_u$ of the inefficiency distribution. \n",
    "Thus, given the estimated $\\hat{M}_3$ (which should be positive in the case of a cost \n",
    "frontier), we can estimate σu parameter by\n",
    "  \n",
    "   \\begin{align*}\n",
    "        \\hat{\\sigma}_u &= \\sqrt[3]{\\frac{\\hat{M_3}}{\\bigg(\\sqrt{\\frac{2}{\\pi}}\\bigg)\\bigg[1-\\frac{4}{\\pi}\\bigg]}} \\\\\n",
    "        \\hat{\\sigma}_v &= \\sqrt[2]{\\hat{M_2}-\\bigg[\\frac{\\pi-2}{\\pi}\\bigg] \\hat{\\sigma}_u^2 }\n",
    "   \\end{align*}"
   ]
  },
  {
   "cell_type": "code",
   "execution_count": 1,
   "metadata": {},
   "outputs": [],
   "source": [
    "# import packages\n",
    "from pystoned import CNLS, StoNED\n",
    "from pystoned.dataset import load_Finnish_electricity_firm\n",
    "from pystoned.constant import CET_MULT, FUN_COST, RTS_VRS, RED_MOM"
   ]
  },
  {
   "cell_type": "code",
   "execution_count": 2,
   "metadata": {},
   "outputs": [],
   "source": [
    "# import Finnish electricity distribution firms data\n",
    "data = load_Finnish_electricity_firm(x_select=['OPEX', 'CAPEX'], y_select=['Energy'])"
   ]
  },
  {
   "cell_type": "code",
   "execution_count": 3,
   "metadata": {},
   "outputs": [
    {
     "output_type": "stream",
     "name": "stdout",
     "text": [
      "Estimating the multiplicative model remotely with knitro solver\n"
     ]
    }
   ],
   "source": [
    "# build and optimize the CNLS model\n",
    "model = CNLS.CNLS(data.y, data.x, z=None, cet=CET_MULT, fun=FUN_COST, rts=RTS_VRS)\n",
    "model.optimize('email@address')"
   ]
  },
  {
   "cell_type": "code",
   "execution_count": 4,
   "metadata": {},
   "outputs": [
    {
     "output_type": "stream",
     "name": "stdout",
     "text": [
      "[1.22527995 1.2465569  1.15710829 1.10381701 1.12145201 1.44256348\n 1.11471103 1.20186083 1.2468081  1.40660501 1.23959906 1.20452134\n 1.1919152  1.12803616 1.17542324 1.30590389 1.19633887 1.12940287\n 1.11414339 1.18875538 1.28594873 1.54433899 1.16574689 1.23625054\n 1.23272929 1.17365284 1.12609702 1.09809819 1.80323022 1.19519167\n 1.20749973 1.50126743 1.29649857 1.1892327  1.15929846 1.07377937\n 1.12275132 1.28077141 1.29026282 1.16929384 1.21560086 1.12616919\n 1.14667032 1.27916331 1.30421547 1.09899776 1.17198462 1.1427806\n 1.1676284  1.34407979 1.26132855 1.19559185 1.26506686 1.23540726\n 1.23654544 1.40956197 1.44294743 1.42437069 1.31461526 1.0936674\n 1.25443445 1.09593576 1.36044566 1.20949721 1.16191913 1.15096541\n 1.26754816 1.14122449 1.21124183 1.19976217 1.14305494 1.23034978\n 1.3537274  1.16189102 1.35222754 1.14670027 1.24178434 1.17453758\n 1.20261236 1.15373885 1.26813674 1.35032813 1.12972972 1.14670921\n 1.16489374 1.3291303  1.32421883 1.12725195 1.24691402]\n"
     ]
    }
   ],
   "source": [
    "# Residual decomposition\n",
    "rd = StoNED.StoNED(model)\n",
    "print(rd.get_technical_inefficiency(RED_MOM))"
   ]
  },
  {
   "cell_type": "code",
   "execution_count": 5,
   "metadata": {},
   "outputs": [
    {
     "output_type": "stream",
     "name": "stdout",
     "text": [
      "[  57.78947379   45.30468085   74.9204482   875.52618579   30.83485089\n  152.08751337   52.35366134  140.65533285   71.56794351  110.32475062\n 1637.01321894 5386.32670576   99.21812717  148.57588945 3226.68603087\n  263.48292196   35.96522927   66.64357439   74.03835469  219.29465939\n  132.01584963   90.04536462   15.78281755  366.38283986   40.06233724\n   85.66289235   83.42206368 1319.5307024    41.36142024  138.4956515\n   59.06283034  256.93401133  196.82861261  177.04783881   94.25336779\n  280.69985355  193.82323841   49.4441279    26.57185973  441.57643732\n  360.61729159   25.5725651  1238.29857484   57.76523622   64.6304529\n   33.25068853  448.13247184   17.37834913  290.37696276  626.3187236\n   27.54508505  186.94737842   68.64432898  261.28711268   57.6499228\n  537.26578789  207.1381771    68.8069189    87.44909561  162.63950776\n   15.78281754 1347.19964878  437.90612331  304.08747521   89.51095932\n   42.37873274  165.10694543  453.07778996  212.93190745  261.56279167\n 1634.55164958  203.80859956  977.9495804    34.86600514   93.65658927\n  196.81590483  843.35539675   17.07856077  645.90080444  285.38319876\n   95.31925595  761.77966538  229.03026342 4844.89156914  288.74250236\n   17.27841967   18.67743214   16.57891343   76.66068045]\n"
     ]
    }
   ],
   "source": [
    "# return the StoNED frontier\n",
    "print(rd.get_frontier(RED_MOM))"
   ]
  }
 ],
 "metadata": {
  "kernelspec": {
   "name": "python388jvsc74a57bd097ae724bfa85b9b34df7982b8bb8c7216f435b92902d749e4263f71162bea840",
   "display_name": "Python 3.8.8 64-bit ('base': conda)"
  },
  "language_info": {
   "codemirror_mode": {
    "name": "ipython",
    "version": 3
   },
   "file_extension": ".py",
   "mimetype": "text/x-python",
   "name": "python",
   "nbconvert_exporter": "python",
   "pygments_lexer": "ipython3",
   "version": "3.8.8"
  }
 },
 "nbformat": 4,
 "nbformat_minor": 4
}