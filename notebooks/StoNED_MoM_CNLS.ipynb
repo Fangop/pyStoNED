{
 "cells": [
  {
   "cell_type": "markdown",
   "source": [
    "# StoNED: Method of Moment"
   ],
   "metadata": {}
  },
  {
   "cell_type": "markdown",
   "source": [
    "The method of moments requires some additional parametric distributional assumptions. Following Kuosmanen et al., (2015), under the maintained assumptions of half-normal inefficiency (i.e., $u_i \\sim N^+(0, \\sigma_u^2)$) and normal noise (i.e., $v_i \\sim N(0, \\sigma_v^2)$), the second and third central moments of the composite error (i.e., $\\varepsilon_i$) distribution are given by\r\n",
    "\\begin{align}\r\n",
    "        M_2 &= \\bigg[\\frac{\\pi-2}{\\pi}\\bigg] \\sigma_u^2 + \\sigma_v^2  \\notag \\\\\r\n",
    "        M_3 &= \\bigg(\\sqrt{\\frac{2}{\\pi}}\\bigg)\\bigg[1-\\frac{4}{\\pi}\\bigg]\\sigma_u^2 \\notag\r\n",
    "\\end{align}ign*}\r\n",
    "\r\n",
    "The second and third central moments can be estimated by using the CNLS residuals, i.e.,  $\\hat{\\varepsilon}_i^{CNLS}$:\r\n",
    "    \r\n",
    "\\begin{align}\r\n",
    "    \\hat{M_2} &= \\sum_{i=1}^{n}(\\hat{\\varepsilon}_i-\\bar{\\varepsilon})^{2}/n  \\notag \\\\\r\n",
    "    \\hat{M_3} &= \\sum_{i=1}^{n}(\\hat{\\varepsilon}_i-\\bar{\\varepsilon})^{3}/n  \\notag\r\n",
    "\\end{align}\r\n",
    "\r\n",
    "Note that the third moment $M_3$ (which measures the skewness of the distribution) only depends on the standard deviation parameter $\\sigma_u$ of the inefficiency distribution. Thus, given the estimated $\\hat{M}_3$ (which should be positive in the case of a cost frontier), we can estimate the parameter $\\sigma_u$ and $\\sigma_v$ by\r\n",
    "\\begin{align}\r\n",
    "    \\hat{\\sigma}_u &= \\sqrt[3]{\\frac{\\hat{M_3}}{\\bigg(\\sqrt{\\frac{2}{\\pi}}\\bigg)\\bigg[1-\\frac{4}{\\pi}\\bigg]}} \\notag \\\\\r\n",
    "    \\hat{\\sigma}_v &= \\sqrt[2]{\\hat{M_2}-\\bigg[\\frac{\\pi-2}{\\pi}\\bigg] \\hat{\\sigma}_u^2 } \\notag\r\n",
    "\\end{align}"
   ],
   "metadata": {}
  },
  {
   "cell_type": "code",
   "execution_count": 1,
   "source": [
    "# import packages\n",
    "from pystoned import CNLS, StoNED\n",
    "from pystoned.dataset import load_Finnish_electricity_firm\n",
    "from pystoned.constant import CET_MULT, FUN_PROD, RTS_VRS, RED_MOM"
   ],
   "outputs": [],
   "metadata": {}
  },
  {
   "cell_type": "code",
   "execution_count": 2,
   "source": [
    "# import Finnish electricity distribution firms data\n",
    "data = load_Finnish_electricity_firm(x_select=['OPEX', 'CAPEX'], y_select=['Energy'])"
   ],
   "outputs": [],
   "metadata": {}
  },
  {
   "cell_type": "code",
   "execution_count": 3,
   "source": [
    "# build and optimize the CNLS model\n",
    "model = CNLS.CNLS(data.y, data.x, z=None, cet=CET_MULT, fun=FUN_PROD, rts=RTS_VRS)\n",
    "model.optimize('email@address')"
   ],
   "outputs": [
    {
     "output_type": "stream",
     "name": "stdout",
     "text": [
      "Estimating the multiplicative model remotely with knitro solver\n"
     ]
    }
   ],
   "metadata": {}
  },
  {
   "cell_type": "code",
   "execution_count": 4,
   "source": [
    "# Residual decomposition\n",
    "rd = StoNED.StoNED(model)\n",
    "print(rd.get_unconditional_expected_inefficiency(RED_MOM))"
   ],
   "outputs": [
    {
     "output_type": "stream",
     "name": "stdout",
     "text": [
      "0.185622955597006\n"
     ]
    }
   ],
   "metadata": {}
  }
 ],
 "metadata": {
  "interpreter": {
   "hash": "916dbcbb3f70747c44a77c7bcd40155683ae19c65e1c03b4aa3499c5328201f1"
  },
  "kernelspec": {
   "name": "python3",
   "display_name": "Python 3.8.10 64-bit"
  },
  "language_info": {
   "codemirror_mode": {
    "name": "ipython",
    "version": 3
   },
   "file_extension": ".py",
   "mimetype": "text/x-python",
   "name": "python",
   "nbconvert_exporter": "python",
   "pygments_lexer": "ipython3",
   "version": "3.8.10"
  }
 },
 "nbformat": 4,
 "nbformat_minor": 4
}