{
 "cells": [
  {
   "cell_type": "markdown",
   "metadata": {},
   "source": [
    "## Production function: Multiplicative model"
   ]
  },
  {
   "cell_type": "markdown",
   "metadata": {},
   "source": [
    "Most SFA studies use Cobb-Douglas or translog functional forms where inefficiency and noise affect production in a multiplicative fashion. Note that the assumption of constant returns to scale (CRS) would also require multiplicative error structure. \n",
    "\n",
    "In the context of VRS, the log-transformed `CNLS` formulation:\n",
    "\n",
    "\\begin{align*}\n",
    "& \\underset{\\alpha, \\beta, \\varepsilon} {min} \\sum_{i=1}^n\\varepsilon_i^2 \\\\\n",
    "& \\text{s.t.} \\\\\n",
    "&  \\text{ln}y_i = \\text{ln}(\\phi_i+1) + \\varepsilon_i  \\quad \\forall i\\\\\n",
    "& \\phi_i  = \\alpha_i+\\beta_i^{'}X_i -1 \\quad \\forall i \\\\\n",
    "&  \\alpha_i + \\beta_i^{'}X_i \\le \\alpha_j + \\beta_j^{'}X_i  \\quad  \\forall i, j\\\\\n",
    "&  \\beta_i \\ge 0 \\quad  \\forall i \\\\\n",
    "\\end{align*}\n",
    "\n",
    "The CRS log-transformed `CNLS` formulation:\n",
    "\n",
    "\\begin{align*}\n",
    "& \\underset{\\alpha, \\beta, \\varepsilon} {min} \\sum_{i=1}^n\\varepsilon_i^2 \\\\\n",
    "& \\text{s.t.} \\\\\n",
    "&  \\text{ln}y_i = \\text{ln}(\\phi_i+1) + \\varepsilon_i  \\quad \\forall i\\\\\n",
    "& \\phi_i  = \\beta_i^{'}X_i -1 \\quad \\forall i \\\\\n",
    "&  \\beta_i^{'}X_i \\le \\beta_j^{'}X_i  \\quad  \\forall i, j\\\\\n",
    "&  \\beta_i \\ge 0 \\quad  \\forall i \\\\\n",
    "\\end{align*}\n",
    "\n",
    "where $\\phi_i+1$ is the CNLS estimator of $E(y_i|x_i)$. The value of one is added here to make sure that the computational algorithms do not try to take logarithm of zero. The first equality can be interpreted as the log transformed regression equation (using the natural logarithm function $ln(.)$). The rest of constraints \n",
    "are similar to additive production function model. The use of $\\phi_i$ allows the estimation of a multiplicative relationship between output and input while assuring convexity of the production possibility set in original input-output space."
   ]
  },
  {
   "cell_type": "code",
   "execution_count": 5,
   "metadata": {},
   "outputs": [],
   "source": [
    "# import packages\n",
    "from pystoned import CNLS\n",
    "from pystoned.constant import CET_MULT, FUN_PROD, FUN_COST, OPT_LOCAL, RTS_VRS, RTS_CRS\n",
    "from pystoned.dataset import load_Finnish_electricity_firm"
   ]
  },
  {
   "cell_type": "code",
   "execution_count": 2,
   "metadata": {},
   "outputs": [],
   "source": [
    "# import Finnish electricity distribution firms data\n",
    "data = load_Finnish_electricity_firm(x_select=['OPEX', 'CAPEX'],\n",
    "                                        y_select=['Energy'])"
   ]
  },
  {
   "cell_type": "code",
   "execution_count": 3,
   "metadata": {},
   "outputs": [
    {
     "name": "stdout",
     "output_type": "stream",
     "text": [
      "Estimating the multiplicative model remotely with knitro solver\n"
     ]
    }
   ],
   "source": [
    "# define and solve the Multiplicative CNLS_vrs model\n",
    "model1 = CNLS.CNLS(y=data.y, x=data.x, z=None, cet = CET_MULT, fun = FUN_PROD, rts = RTS_VRS)\n",
    "model1.optimize('email@address')"
   ]
  },
  {
   "cell_type": "code",
   "execution_count": 6,
   "metadata": {},
   "outputs": [
    {
     "name": "stdout",
     "output_type": "stream",
     "text": [
      "Estimating the multiplicative model remotely with knitro solver\n"
     ]
    }
   ],
   "source": [
    "# define and solve the Multiplicative CNLS_crs model\n",
    "model2 = CNLS.CNLS(y=data.y, x=data.x, z=None, cet = CET_MULT, fun = FUN_PROD, rts = RTS_CRS)\n",
    "model2.optimize('email@address')"
   ]
  },
  {
   "cell_type": "code",
   "execution_count": 7,
   "metadata": {},
   "outputs": [
    {
     "name": "stdout",
     "output_type": "stream",
     "text": [
      "epsilon : residual\n",
      "    Size=89, Index=I\n",
      "    Key : Lower : Value                 : Upper : Fixed : Stale : Domain\n",
      "      0 :  None :  -0.06469593002493937 :  None : False : False :  Reals\n",
      "      1 :  None :  -0.06595464073188698 :  None : False : False :  Reals\n",
      "      2 :  None :   -0.2287072993237015 :  None : False : False :  Reals\n",
      "      3 :  None :   -0.2663874485257692 :  None : False : False :  Reals\n",
      "      4 :  None :   -0.6191522125073331 :  None : False : False :  Reals\n",
      "      5 :  None :    0.5186778786696851 :  None : False : False :  Reals\n",
      "      6 :  None :   -0.5452877198791782 :  None : False : False :  Reals\n",
      "      7 :  None :  0.021317583796286375 :  None : False : False :  Reals\n",
      "      8 :  None :  0.013944401611161146 :  None : False : False :  Reals\n",
      "      9 :  None :    0.4063482258777086 :  None : False : False :  Reals\n",
      "     10 :  None :    0.2837441627017886 :  None : False : False :  Reals\n",
      "     11 :  None :   0.25098557420805534 :  None : False : False :  Reals\n",
      "     12 :  None :  -0.08603819374463316 :  None : False : False :  Reals\n",
      "     13 :  None :  -0.29986891120745107 :  None : False : False :  Reals\n",
      "     14 :  None :   0.11695904250750881 :  None : False : False :  Reals\n",
      "     15 :  None :    0.3366574151124565 :  None : False : False :  Reals\n",
      "     16 :  None :   -0.2850548544326225 :  None : False : False :  Reals\n",
      "     17 :  None :   -0.3926898115244903 :  None : False : False :  Reals\n",
      "     18 :  None :   -0.4706050897959707 :  None : False : False :  Reals\n",
      "     19 :  None :   0.02634349174417781 :  None : False : False :  Reals\n",
      "     20 :  None :    0.3662267320933098 :  None : False : False :  Reals\n",
      "     21 :  None :    0.6111873711289847 :  None : False : False :  Reals\n",
      "     22 :  None :   0.27551288435516996 :  None : False : False :  Reals\n",
      "     23 :  None :    0.2067064507128372 :  None : False : False :  Reals\n",
      "     24 :  None :  -0.15126119479077166 :  None : False : False :  Reals\n",
      "     25 :  None :  -0.16468791009945613 :  None : False : False :  Reals\n",
      "     26 :  None :    -0.365929175631809 :  None : False : False :  Reals\n",
      "     27 :  None :  -0.15823566335535738 :  None : False : False :  Reals\n",
      "     28 :  None :    0.6789062162904536 :  None : False : False :  Reals\n",
      "     29 :  None : -0.018648044880467958 :  None : False : False :  Reals\n",
      "     30 :  None :  -0.13021726996276756 :  None : False : False :  Reals\n",
      "     31 :  None :    0.6700597188543139 :  None : False : False :  Reals\n",
      "     32 :  None :   0.26411879942272903 :  None : False : False :  Reals\n",
      "     33 :  None : -0.014914483127755224 :  None : False : False :  Reals\n",
      "     34 :  None :  -0.16131526731351667 :  None : False : False :  Reals\n",
      "     35 :  None :   -0.6562287466609251 :  None : False : False :  Reals\n",
      "     36 :  None :   -0.2279903431073359 :  None : False : False :  Reals\n",
      "     37 :  None :  0.026059512417354838 :  None : False : False :  Reals\n",
      "     38 :  None :  -0.15126639561417124 :  None : False : False :  Reals\n",
      "     39 :  None :   0.01595338857636256 :  None : False : False :  Reals\n",
      "     40 :  None :    0.1453175237521571 :  None : False : False :  Reals\n",
      "     41 :  None :   -0.6828836071116204 :  None : False : False :  Reals\n",
      "     42 :  None :  -0.02928276543391392 :  None : False : False :  Reals\n",
      "     43 :  None :   0.05469116196227458 :  None : False : False :  Reals\n",
      "     44 :  None :   0.12336233994250817 :  None : False : False :  Reals\n",
      "     45 :  None :   -0.7636895438622044 :  None : False : False :  Reals\n",
      "     46 :  None :  0.026425649638924294 :  None : False : False :  Reals\n",
      "     47 :  None :      -0.7282255814241 :  None : False : False :  Reals\n",
      "     48 :  None : -0.022018030902583904 :  None : False : False :  Reals\n",
      "     49 :  None :    0.4521261578761276 :  None : False : False :  Reals\n",
      "     50 :  None :   -0.1918279782216941 :  None : False : False :  Reals\n",
      "     51 :  None :  0.041575991056077836 :  None : False : False :  Reals\n",
      "     52 :  None :   0.05844171743621021 :  None : False : False :  Reals\n",
      "     53 :  None :    0.2425716554868487 :  None : False : False :  Reals\n",
      "     54 :  None :  -0.05684373428093422 :  None : False : False :  Reals\n",
      "     55 :  None :    0.5864072619408642 :  None : False : False :  Reals\n",
      "     56 :  None :    0.6380242396870224 :  None : False : False :  Reals\n",
      "     57 :  None :   0.32773865810244834 :  None : False : False :  Reals\n",
      "     58 :  None :    0.2660754985567454 :  None : False : False :  Reals\n",
      "     59 :  None :  -0.49884961404541317 :  None : False : False :  Reals\n",
      "     60 :  None :    0.9298778238995192 :  None : False : False :  Reals\n",
      "     61 :  None :   -0.3313624393468856 :  None : False : False :  Reals\n",
      "     62 :  None :    0.4602384661034228 :  None : False : False :  Reals\n",
      "     63 :  None :   0.18915368571665156 :  None : False : False :  Reals\n",
      "     64 :  None :  -0.19312198379794954 :  None : False : False :  Reals\n",
      "     65 :  None :   -0.4001977147583587 :  None : False : False :  Reals\n",
      "     66 :  None :    0.2352026644778971 :  None : False : False :  Reals\n",
      "     67 :  None :    -0.101072859440931 :  None : False : False :  Reals\n",
      "     68 :  None :   0.07578077480852444 :  None : False : False :  Reals\n",
      "     69 :  None :   0.09170062329850699 :  None : False : False :  Reals\n",
      "     70 :  None : -0.023528671730613404 :  None : False : False :  Reals\n",
      "     71 :  None :   0.12193879280853077 :  None : False : False :  Reals\n",
      "     72 :  None :   0.49876048419060215 :  None : False : False :  Reals\n",
      "     73 :  None :  -0.39428890195469846 :  None : False : False :  Reals\n",
      "     74 :  None :    0.2863781127590163 :  None : False : False :  Reals\n",
      "     75 :  None :  0.023353199372006347 :  None : False : False :  Reals\n",
      "     76 :  None :   0.28326642163842164 :  None : False : False :  Reals\n",
      "     77 :  None :   -0.6324445665217691 :  None : False : False :  Reals\n",
      "     78 :  None :    0.1969209323388988 :  None : False : False :  Reals\n",
      "     79 :  None :  -0.05913962339540809 :  None : False : False :  Reals\n",
      "     80 :  None :   0.12914843496102363 :  None : False : False :  Reals\n",
      "     81 :  None :   0.46898939646605786 :  None : False : False :  Reals\n",
      "     82 :  None :  -0.19758934120410615 :  None : False : False :  Reals\n",
      "     83 :  None :  0.024025053611371475 :  None : False : False :  Reals\n",
      "     84 :  None : -0.034625747504862775 :  None : False : False :  Reals\n",
      "     85 :  None :  -0.20508267264137314 :  None : False : False :  Reals\n",
      "     86 :  None :  -0.19500361174831496 :  None : False : False :  Reals\n",
      "     87 :  None :   -0.8260994290056245 :  None : False : False :  Reals\n",
      "     88 :  None :  0.025113880262732084 :  None : False : False :  Reals\n",
      "None\n"
     ]
    }
   ],
   "source": [
    "# print residuals in the VRS model\n",
    "print(model1.display_residual())"
   ]
  },
  {
   "cell_type": "code",
   "execution_count": 8,
   "metadata": {},
   "outputs": [
    {
     "name": "stdout",
     "output_type": "stream",
     "text": [
      "epsilon : residual\n",
      "    Size=89, Index=I\n",
      "    Key : Lower : Value                 : Upper : Fixed : Stale : Domain\n",
      "      0 :  None : -0.060278043234594535 :  None : False : False :  Reals\n",
      "      1 :  None : -0.059626370515766795 :  None : False : False :  Reals\n",
      "      2 :  None :  -0.22358939232456868 :  None : False : False :  Reals\n",
      "      3 :  None :   -0.2600635222915635 :  None : False : False :  Reals\n",
      "      4 :  None :   -0.6202914548656867 :  None : False : False :  Reals\n",
      "      5 :  None :    0.5309663346587967 :  None : False : False :  Reals\n",
      "      6 :  None :   -0.5493318641303961 :  None : False : False :  Reals\n",
      "      7 :  None :  0.027459393491431158 :  None : False : False :  Reals\n",
      "      8 :  None :  0.005329075424645824 :  None : False : False :  Reals\n",
      "      9 :  None :    0.4125166120225176 :  None : False : False :  Reals\n",
      "     10 :  None :     0.292323097903918 :  None : False : False :  Reals\n",
      "     11 :  None :   0.23487892341759542 :  None : False : False :  Reals\n",
      "     12 :  None :  -0.09085673000690937 :  None : False : False :  Reals\n",
      "     13 :  None :   -0.3057514729455619 :  None : False : False :  Reals\n",
      "     14 :  None :   0.12202754663883214 :  None : False : False :  Reals\n",
      "     15 :  None :    0.3480687655389141 :  None : False : False :  Reals\n",
      "     16 :  None :   -0.2903752354315006 :  None : False : False :  Reals\n",
      "     17 :  None :  -0.40536269911150924 :  None : False : False :  Reals\n",
      "     18 :  None :   -0.4800531948143763 :  None : False : False :  Reals\n",
      "     19 :  None :   0.03408840419549929 :  None : False : False :  Reals\n",
      "     20 :  None :    0.3737042189046753 :  None : False : False :  Reals\n",
      "     21 :  None :    0.6257171809656886 :  None : False : False :  Reals\n",
      "     22 :  None :    0.2005746612392784 :  None : False : False :  Reals\n",
      "     23 :  None :   0.20873638884182819 :  None : False : False :  Reals\n",
      "     24 :  None :   -0.1577047281221897 :  None : False : False :  Reals\n",
      "     25 :  None :   -0.1673575360602108 :  None : False : False :  Reals\n",
      "     26 :  None :  -0.36346088306190644 :  None : False : False :  Reals\n",
      "     27 :  None :   -0.1723938912670535 :  None : False : False :  Reals\n",
      "     28 :  None :    0.6671767416396944 :  None : False : False :  Reals\n",
      "     29 :  None : -0.017623647552174142 :  None : False : False :  Reals\n",
      "     30 :  None :   -0.1360582513809969 :  None : False : False :  Reals\n",
      "     31 :  None :    0.6485500776925532 :  None : False : False :  Reals\n",
      "     32 :  None :   0.26469308769624406 :  None : False : False :  Reals\n",
      "     33 :  None : -0.019449829421707508 :  None : False : False :  Reals\n",
      "     34 :  None :  -0.15077176840986795 :  None : False : False :  Reals\n",
      "     35 :  None :   -0.6516300176603336 :  None : False : False :  Reals\n",
      "     36 :  None :   -0.2114600294009709 :  None : False : False :  Reals\n",
      "     37 :  None :  0.030416870019997093 :  None : False : False :  Reals\n",
      "     38 :  None :  -0.15700642714213955 :  None : False : False :  Reals\n",
      "     39 :  None :  0.021268897903603298 :  None : False : False :  Reals\n",
      "     40 :  None :   0.15549059853310787 :  None : False : False :  Reals\n",
      "     41 :  None :   -0.6873864943805498 :  None : False : False :  Reals\n",
      "     42 :  None : -0.019060271368054753 :  None : False : False :  Reals\n",
      "     43 :  None :   0.05721699507815107 :  None : False : False :  Reals\n",
      "     44 :  None :   0.12355268666139868 :  None : False : False :  Reals\n",
      "     45 :  None :   -0.7608512614891055 :  None : False : False :  Reals\n",
      "     46 :  None :  0.039680036874399985 :  None : False : False :  Reals\n",
      "     47 :  None :   -0.7459612814308033 :  None : False : False :  Reals\n",
      "     48 :  None : -0.012303334225117103 :  None : False : False :  Reals\n",
      "     49 :  None :   0.46598024705428964 :  None : False : False :  Reals\n",
      "     50 :  None :  -0.19297136351138436 :  None : False : False :  Reals\n",
      "     51 :  None :  0.051034677268121297 :  None : False : False :  Reals\n",
      "     52 :  None :    0.0599467993721137 :  None : False : False :  Reals\n",
      "     53 :  None :   0.26316311899131395 :  None : False : False :  Reals\n",
      "     54 :  None :  -0.06307475389089348 :  None : False : False :  Reals\n",
      "     55 :  None :    0.6065042911006941 :  None : False : False :  Reals\n",
      "     56 :  None :    0.6536595181103164 :  None : False : False :  Reals\n",
      "     57 :  None :    0.3247800118476976 :  None : False : False :  Reals\n",
      "     58 :  None :    0.2800386433640648 :  None : False : False :  Reals\n",
      "     59 :  None :  -0.49552392451743943 :  None : False : False :  Reals\n",
      "     60 :  None :    0.8309962340570931 :  None : False : False :  Reals\n",
      "     61 :  None :   -0.3292999868793846 :  None : False : False :  Reals\n",
      "     62 :  None :   0.47170855564222164 :  None : False : False :  Reals\n",
      "     63 :  None :   0.21037789101187712 :  None : False : False :  Reals\n",
      "     64 :  None :  -0.19250093065674273 :  None : False : False :  Reals\n",
      "     65 :  None :   -0.3993119360275799 :  None : False : False :  Reals\n",
      "     66 :  None :   0.25017706030636744 :  None : False : False :  Reals\n",
      "     67 :  None :  -0.08831888272300678 :  None : False : False :  Reals\n",
      "     68 :  None :   0.07488646881338137 :  None : False : False :  Reals\n",
      "     69 :  None :   0.10485694125675324 :  None : False : False :  Reals\n",
      "     70 :  None : -0.027603667145904207 :  None : False : False :  Reals\n",
      "     71 :  None :    0.1233892499007653 :  None : False : False :  Reals\n",
      "     72 :  None :    0.5058988363084326 :  None : False : False :  Reals\n",
      "     73 :  None :  -0.40822294684885435 :  None : False : False :  Reals\n",
      "     74 :  None :   0.28995549936183346 :  None : False : False :  Reals\n",
      "     75 :  None :  0.031985445669028695 :  None : False : False :  Reals\n",
      "     76 :  None :   0.28406106770413053 :  None : False : False :  Reals\n",
      "     77 :  None :   -0.6433128618843025 :  None : False : False :  Reals\n",
      "     78 :  None :    0.2094231816114921 :  None : False : False :  Reals\n",
      "     79 :  None : -0.044058653301048425 :  None : False : False :  Reals\n",
      "     80 :  None :    0.1328003659726646 :  None : False : False :  Reals\n",
      "     81 :  None :   0.48303144107450385 :  None : False : False :  Reals\n",
      "     82 :  None :   -0.1857835291000692 :  None : False : False :  Reals\n",
      "     83 :  None :  0.009152769901193507 :  None : False : False :  Reals\n",
      "     84 :  None : -0.025606271633171585 :  None : False : False :  Reals\n",
      "     85 :  None :   -0.2324489751997279 :  None : False : False :  Reals\n",
      "     86 :  None :  -0.21500437849349022 :  None : False : False :  Reals\n",
      "     87 :  None :   -0.8447609978033817 :  None : False : False :  Reals\n",
      "     88 :  None :  0.021614371542951046 :  None : False : False :  Reals\n",
      "None\n"
     ]
    }
   ],
   "source": [
    "# print residuals in the CRS model\n",
    "print(model2.display_residual())"
   ]
  }
 ],
 "metadata": {
  "kernelspec": {
   "display_name": "Python 3",
   "language": "python",
   "name": "python3"
  },
  "language_info": {
   "codemirror_mode": {
    "name": "ipython",
    "version": 3
   },
   "file_extension": ".py",
   "mimetype": "text/x-python",
   "name": "python",
   "nbconvert_exporter": "python",
   "pygments_lexer": "ipython3",
   "version": "3.8.8"
  }
 },
 "nbformat": 4,
 "nbformat_minor": 4
}
