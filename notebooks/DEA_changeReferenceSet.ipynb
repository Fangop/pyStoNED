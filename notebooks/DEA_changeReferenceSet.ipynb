{
 "cells": [
  {
   "cell_type": "markdown",
   "metadata": {},
   "source": [
    "## DEA: Change reference set"
   ]
  },
  {
   "cell_type": "markdown",
   "metadata": {},
   "source": [
    "Sometimes we need to draw a distinction between the set of **reference** DMUs that characterize the frontier and the set of **evaluated** DMUs used as in the DEA problem. However, by default, all DMUs serve both as benchmarks and evaluated units."
   ]
  },
  {
   "cell_type": "markdown",
   "metadata": {},
   "source": [
    "#### Example"
   ]
  },
  {
   "cell_type": "code",
   "execution_count": 19,
   "metadata": {},
   "outputs": [],
   "source": [
    "# import packages\n",
    "from pystoned import DEA\n",
    "from pystoned.constant import RTS_VRS, ORIENT_OO, OPT_LOCAL"
   ]
  },
  {
   "cell_type": "markdown",
   "metadata": {},
   "source": [
    "### Evaluated DMUs"
   ]
  },
  {
   "cell_type": "code",
   "execution_count": 20,
   "metadata": {},
   "outputs": [],
   "source": [
    "x = np.array([100,200,300,500,100,200,600,400,550,600])\n",
    "y = np.array([75,100,300,400,25,50,400, 260, 180, 240])"
   ]
  },
  {
   "cell_type": "markdown",
   "metadata": {},
   "source": [
    "### Reference DMUs "
   ]
  },
  {
   "cell_type": "code",
   "execution_count": 21,
   "metadata": {},
   "outputs": [],
   "source": [
    "xref = np.array([100,300,500,100,600])\n",
    "yref = np.array([75,300,400,25,400])"
   ]
  },
  {
   "cell_type": "code",
   "execution_count": 22,
   "metadata": {},
   "outputs": [
    {
     "output_type": "stream",
     "name": "stdout",
     "text": [
      "Optimizing locally.\n",
      "Estimating the additive model locally with mosek solver\n",
      "Problem\n",
      "  Name                   :                 \n",
      "  Objective sense        : max             \n",
      "  Type                   : LO (linear optimization problem)\n",
      "  Constraints            : 30              \n",
      "  Cones                  : 0               \n",
      "  Scalar variables       : 110             \n",
      "  Matrix variables       : 0               \n",
      "  Integer variables      : 0               \n",
      "\n",
      "Optimizer started.\n",
      "Presolve started.\n",
      "Linear dependency checker started.\n",
      "Linear dependency checker terminated.\n",
      "Eliminator started.\n",
      "Freed constraints in eliminator : 0\n",
      "Eliminator terminated.\n",
      "Eliminator - tries                  : 1                 time                   : 0.00            \n",
      "Lin. dep.  - tries                  : 1                 time                   : 0.01            \n",
      "Lin. dep.  - number                 : 0               \n",
      "Presolve terminated. Time: 0.02    \n",
      "Problem\n",
      "  Name                   :                 \n",
      "  Objective sense        : max             \n",
      "  Type                   : LO (linear optimization problem)\n",
      "  Constraints            : 30              \n",
      "  Cones                  : 0               \n",
      "  Scalar variables       : 110             \n",
      "  Matrix variables       : 0               \n",
      "  Integer variables      : 0               \n",
      "\n",
      "Optimizer  - threads                : 4               \n",
      "Optimizer  - solved problem         : the primal      \n",
      "Optimizer  - Constraints            : 20\n",
      "Optimizer  - Cones                  : 0\n",
      "Optimizer  - Scalar variables       : 50                conic                  : 0               \n",
      "Optimizer  - Semi-definite variables: 0                 scalarized             : 0               \n",
      "Factor     - setup time             : 0.00              dense det. time        : 0.00            \n",
      "Factor     - ML order time          : 0.00              GP order time          : 0.00            \n",
      "Factor     - nonzeros before factor : 30                after factor           : 30              \n",
      "Factor     - dense dim.             : 0                 flops                  : 3.10e+02        \n",
      "ITE PFEAS    DFEAS    GFEAS    PRSTATUS   POBJ              DOBJ              MU       TIME  \n",
      "0   1.8e+01  1.0e+02  5.6e+02  0.00e+00   9.208066239e+01   0.000000000e+00   3.7e+01  0.03  \n",
      "1   5.4e+00  3.1e+01  1.7e+02  -6.52e-01  8.065224827e+01   2.291332878e+01   1.1e+01  0.09  \n",
      "2   2.7e+00  1.6e+01  8.3e+01  1.13e+00   4.864972836e+01   2.173032091e+01   5.6e+00  0.09  \n",
      "3   1.3e+00  7.4e+00  4.0e+01  1.49e-01   3.171044120e+01   2.038197462e+01   2.7e+00  0.10  \n",
      "4   2.5e-01  1.4e+00  7.5e+00  7.28e-01   1.995314488e+01   1.759127730e+01   5.1e-01  0.10  \n",
      "5   3.3e-02  1.9e-01  1.0e+00  9.85e-01   1.817111110e+01   1.785297546e+01   6.8e-02  0.10  \n",
      "6   8.4e-05  4.8e-04  2.6e-03  9.97e-01   1.786084889e+01   1.786003705e+01   1.7e-04  0.11  \n",
      "7   8.4e-09  4.8e-08  2.6e-07  1.00e+00   1.786004282e+01   1.786004273e+01   1.7e-08  0.11  \n",
      "Basis identification started.\n",
      "Primal basis identification phase started.\n",
      "Primal basis identification phase terminated. Time: 0.00\n",
      "Dual basis identification phase started.\n",
      "Dual basis identification phase terminated. Time: 0.00\n",
      "Basis identification terminated. Time: 0.02\n",
      "Optimizer terminated. Time: 0.20    \n",
      "\n",
      "\n",
      "Interior-point solution summary\n",
      "  Problem status  : PRIMAL_AND_DUAL_FEASIBLE\n",
      "  Solution status : OPTIMAL\n",
      "  Primal.  obj: 1.7860042816e+01    nrm: 5e+02    Viol.  con: 1e-06    var: 0e+00  \n",
      "  Dual.    obj: 1.7860042734e+01    nrm: 3e+01    Viol.  con: 0e+00    var: 1e-08  \n",
      "\n",
      "Basic solution summary\n",
      "  Problem status  : PRIMAL_AND_DUAL_FEASIBLE\n",
      "  Solution status : OPTIMAL\n",
      "  Primal.  obj: 1.7860042735e+01    nrm: 5e+02    Viol.  con: 0e+00    var: 0e+00  \n",
      "  Dual.    obj: 1.7860042734e+01    nrm: 3e+01    Viol.  con: 0e+00    var: 1e-08  \n"
     ]
    }
   ],
   "source": [
    "# define and solve the DEA model\n",
    "model = DEA.DEA(y, x, rts=RTS_VRS, orient=ORIENT_OO, yref=yref, xref=xref)\n",
    "model.optimize(OPT_LOCAL)"
   ]
  },
  {
   "cell_type": "code",
   "execution_count": 23,
   "metadata": {},
   "outputs": [
    {
     "output_type": "stream",
     "name": "stdout",
     "text": [
      "theta : efficiency\n    Size=10, Index=I\n    Key : Lower : Value              : Upper : Fixed : Stale : Domain\n      0 :  None :                1.0 :  None : False : False :  Reals\n      1 :  None :              1.875 :  None : False : False :  Reals\n      2 :  None :                1.0 :  None : False : False :  Reals\n      3 :  None :                1.0 :  None : False : False :  Reals\n      4 :  None :                3.0 :  None : False : False :  Reals\n      5 :  None :               3.75 :  None : False : False :  Reals\n      6 :  None :                1.0 :  None : False : False :  Reals\n      7 :  None : 1.3461538461538463 :  None : False : False :  Reals\n      8 :  None : 2.2222222222222223 :  None : False : False :  Reals\n      9 :  None : 1.6666666666666667 :  None : False : False :  Reals\n"
     ]
    }
   ],
   "source": [
    "# display the technical efficiency\n",
    "model.display_theta()"
   ]
  },
  {
   "cell_type": "code",
   "execution_count": 24,
   "metadata": {},
   "outputs": [
    {
     "output_type": "stream",
     "name": "stdout",
     "text": [
      "lamda : intensity variables\n    Size=100, Index=lamda_index\n    Key    : Lower : Value               : Upper : Fixed : Stale : Domain\n    (0, 0) :   0.0 :                 1.0 :  None : False : False :  Reals\n    (0, 1) :   0.0 :                 0.0 :  None : False : False :  Reals\n    (0, 2) :   0.0 :                 0.0 :  None : False : False :  Reals\n    (0, 3) :   0.0 :                 0.0 :  None : False : False :  Reals\n    (0, 4) :   0.0 :                 0.0 :  None : False : False :  Reals\n    (0, 5) :   0.0 :                 0.0 :  None : False : False :  Reals\n    (0, 6) :   0.0 :                 0.0 :  None : False : False :  Reals\n    (0, 7) :   0.0 :                 0.0 :  None : False : False :  Reals\n    (0, 8) :   0.0 :                 0.0 :  None : False : False :  Reals\n    (0, 9) :   0.0 :                 0.0 :  None : False : False :  Reals\n    (1, 0) :   0.0 : 0.49999999999999994 :  None : False : False :  Reals\n    (1, 1) :   0.0 :                 0.0 :  None : False : False :  Reals\n    (1, 2) :   0.0 :                 0.5 :  None : False : False :  Reals\n    (1, 3) :   0.0 :                 0.0 :  None : False : False :  Reals\n    (1, 4) :   0.0 :                 0.0 :  None : False : False :  Reals\n    (1, 5) :   0.0 :                 0.0 :  None : False : False :  Reals\n    (1, 6) :   0.0 :                 0.0 :  None : False : False :  Reals\n    (1, 7) :   0.0 :                 0.0 :  None : False : False :  Reals\n    (1, 8) :   0.0 :                 0.0 :  None : False : False :  Reals\n    (1, 9) :   0.0 :                 0.0 :  None : False : False :  Reals\n    (2, 0) :   0.0 :                 0.0 :  None : False : False :  Reals\n    (2, 1) :   0.0 :                 0.0 :  None : False : False :  Reals\n    (2, 2) :   0.0 :                 1.0 :  None : False : False :  Reals\n    (2, 3) :   0.0 :                 0.0 :  None : False : False :  Reals\n    (2, 4) :   0.0 :                 0.0 :  None : False : False :  Reals\n    (2, 5) :   0.0 :                 0.0 :  None : False : False :  Reals\n    (2, 6) :   0.0 :                 0.0 :  None : False : False :  Reals\n    (2, 7) :   0.0 :                 0.0 :  None : False : False :  Reals\n    (2, 8) :   0.0 :                 0.0 :  None : False : False :  Reals\n    (2, 9) :   0.0 :                 0.0 :  None : False : False :  Reals\n    (3, 0) :   0.0 :                 0.0 :  None : False : False :  Reals\n    (3, 1) :   0.0 :                 0.0 :  None : False : False :  Reals\n    (3, 2) :   0.0 :                 0.0 :  None : False : False :  Reals\n    (3, 3) :   0.0 :                 1.0 :  None : False : False :  Reals\n    (3, 4) :   0.0 :                 0.0 :  None : False : False :  Reals\n    (3, 5) :   0.0 :                 0.0 :  None : False : False :  Reals\n    (3, 6) :   0.0 :                 0.0 :  None : False : False :  Reals\n    (3, 7) :   0.0 :                 0.0 :  None : False : False :  Reals\n    (3, 8) :   0.0 :                 0.0 :  None : False : False :  Reals\n    (3, 9) :   0.0 :                 0.0 :  None : False : False :  Reals\n    (4, 0) :   0.0 :                 1.0 :  None : False : False :  Reals\n    (4, 1) :   0.0 :                 0.0 :  None : False : False :  Reals\n    (4, 2) :   0.0 :                 0.0 :  None : False : False :  Reals\n    (4, 3) :   0.0 :                 0.0 :  None : False : False :  Reals\n    (4, 4) :   0.0 :                 0.0 :  None : False : False :  Reals\n    (4, 5) :   0.0 :                 0.0 :  None : False : False :  Reals\n    (4, 6) :   0.0 :                 0.0 :  None : False : False :  Reals\n    (4, 7) :   0.0 :                 0.0 :  None : False : False :  Reals\n    (4, 8) :   0.0 :                 0.0 :  None : False : False :  Reals\n    (4, 9) :   0.0 :                 0.0 :  None : False : False :  Reals\n    (5, 0) :   0.0 : 0.49999999999999994 :  None : False : False :  Reals\n    (5, 1) :   0.0 :                 0.0 :  None : False : False :  Reals\n    (5, 2) :   0.0 :                 0.5 :  None : False : False :  Reals\n    (5, 3) :   0.0 :                 0.0 :  None : False : False :  Reals\n    (5, 4) :   0.0 :                 0.0 :  None : False : False :  Reals\n    (5, 5) :   0.0 :                 0.0 :  None : False : False :  Reals\n    (5, 6) :   0.0 :                 0.0 :  None : False : False :  Reals\n    (5, 7) :   0.0 :                 0.0 :  None : False : False :  Reals\n    (5, 8) :   0.0 :                 0.0 :  None : False : False :  Reals\n    (5, 9) :   0.0 :                 0.0 :  None : False : False :  Reals\n    (6, 0) :   0.0 :                 0.0 :  None : False : False :  Reals\n    (6, 1) :   0.0 :                 0.0 :  None : False : False :  Reals\n    (6, 2) :   0.0 :                 0.0 :  None : False : False :  Reals\n    (6, 3) :   0.0 :                 1.0 :  None : False : False :  Reals\n    (6, 4) :   0.0 :                 0.0 :  None : False : False :  Reals\n    (6, 5) :   0.0 :                 0.0 :  None : False : False :  Reals\n    (6, 6) :   0.0 :                 0.0 :  None : False : False :  Reals\n    (6, 7) :   0.0 :                 0.0 :  None : False : False :  Reals\n    (6, 8) :   0.0 :                 0.0 :  None : False : False :  Reals\n    (6, 9) :   0.0 :                 0.0 :  None : False : False :  Reals\n    (7, 0) :   0.0 :                 0.0 :  None : False : False :  Reals\n    (7, 1) :   0.0 :                 0.0 :  None : False : False :  Reals\n    (7, 2) :   0.0 :                 0.5 :  None : False : False :  Reals\n    (7, 3) :   0.0 : 0.49999999999999994 :  None : False : False :  Reals\n    (7, 4) :   0.0 :                 0.0 :  None : False : False :  Reals\n    (7, 5) :   0.0 :                 0.0 :  None : False : False :  Reals\n    (7, 6) :   0.0 :                 0.0 :  None : False : False :  Reals\n    (7, 7) :   0.0 :                 0.0 :  None : False : False :  Reals\n    (7, 8) :   0.0 :                 0.0 :  None : False : False :  Reals\n    (7, 9) :   0.0 :                 0.0 :  None : False : False :  Reals\n    (8, 0) :   0.0 :                 0.0 :  None : False : False :  Reals\n    (8, 1) :   0.0 :                 0.0 :  None : False : False :  Reals\n    (8, 2) :   0.0 :                 0.0 :  None : False : False :  Reals\n    (8, 3) :   0.0 :                 1.0 :  None : False : False :  Reals\n    (8, 4) :   0.0 :                 0.0 :  None : False : False :  Reals\n    (8, 5) :   0.0 :                 0.0 :  None : False : False :  Reals\n    (8, 6) :   0.0 :                 0.0 :  None : False : False :  Reals\n    (8, 7) :   0.0 :                 0.0 :  None : False : False :  Reals\n    (8, 8) :   0.0 :                 0.0 :  None : False : False :  Reals\n    (8, 9) :   0.0 :                 0.0 :  None : False : False :  Reals\n    (9, 0) :   0.0 :                 0.0 :  None : False : False :  Reals\n    (9, 1) :   0.0 :                 0.0 :  None : False : False :  Reals\n    (9, 2) :   0.0 :                 0.0 :  None : False : False :  Reals\n    (9, 3) :   0.0 :                 1.0 :  None : False : False :  Reals\n    (9, 4) :   0.0 :                 0.0 :  None : False : False :  Reals\n    (9, 5) :   0.0 :                 0.0 :  None : False : False :  Reals\n    (9, 6) :   0.0 :                 0.0 :  None : False : False :  Reals\n    (9, 7) :   0.0 :                 0.0 :  None : False : False :  Reals\n    (9, 8) :   0.0 :                 0.0 :  None : False : False :  Reals\n    (9, 9) :   0.0 :                 0.0 :  None : False : False :  Reals\n"
     ]
    }
   ],
   "source": [
    "# display the intensity variables\n",
    "model.display_lamda()"
   ]
  }
 ],
 "metadata": {
  "kernelspec": {
   "name": "python385jvsc74a57bd094a1946ca23e1f569e799abdffc00c9e53ed85c926ab87b3c18579d13d535572",
   "display_name": "Python 3.8.5 64-bit ('base': conda)"
  },
  "language_info": {
   "codemirror_mode": {
    "name": "ipython",
    "version": 3
   },
   "file_extension": ".py",
   "mimetype": "text/x-python",
   "name": "python",
   "nbconvert_exporter": "python",
   "pygments_lexer": "ipython3",
   "version": "3.8.5"
  }
 },
 "nbformat": 4,
 "nbformat_minor": 4
}