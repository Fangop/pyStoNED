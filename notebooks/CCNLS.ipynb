{
 "cells": [
  {
   "cell_type": "markdown",
   "source": [
    "# Corrected Convex Nonparametric Least Squares (C2NLS)"
   ],
   "metadata": {}
  },
  {
   "cell_type": "markdown",
   "source": [
    "Corrected  nonparametric  least  squares (`C2NLS`) is  a  new  nonparametric  variant  \n",
    "of the COLS model in which nonparametric least squares subject to monotonicity and \n",
    "concavity constraints replace thefirst-stage parametric OLS regression. The `C2NLS`\n",
    "model assumes that the regression $f$ is monotonic increasing and globally concave, the \n",
    "inefficiencies $\\varepsilon$ are identically and independently distributed with \n",
    "mean $\\mu$ and a finitevariance $\\sigma^2$, and that the inefficiencies :$\\varepsilon$ are \n",
    "uncorrelatedwith inputs $\\bf X$.\n",
    "\n",
    "Like `COLS`, the `C2NLS` method is implemented in two stages, which can be stated as follows:\n",
    "\n",
    "* First stage: Estimate $E(y_i|x_i)$ by solving the following CNLS problem. Denote the CNLS \n",
    "residuals by $\\varepsilon^{CNLS}_i$.\n",
    "    \\begin{align*}\n",
    "      & \\underset{\\alpha, \\beta, \\varepsilon} {min} \\sum_{i=1}^n\\varepsilon_i^2 \\\\\n",
    "      & \\text{s.t.} \\\\\n",
    "      &  y_i = \\alpha_i + \\beta_i^{'}X_i + \\varepsilon_i \\quad \\forall i \\\\\n",
    "      &  \\alpha_i + \\beta_i^{'}X_i \\le \\alpha_j + \\beta_j^{'}X_i  \\quad  \\forall i, j\\\\\n",
    "      &  \\beta_i \\ge 0 \\quad  \\forall i \\\\\n",
    "    \\end{align*}\n",
    "\n",
    "* Second stage: Shift the residuals analogous to the `COLS` procedure; \n",
    "the `C2NLS` efficiency estimator is\n",
    "    \\begin{align*}\n",
    "        \\hat{\\varepsilon_i}^{C2NLS}= \\varepsilon_i^{CNLS}− \\max_h \\varepsilon_h^{CNLS},\n",
    "    \\end{align*}\n",
    "\n",
    "where values of $\\hat{\\varepsilon_i}^{C2NLS}$ range from $[0, +\\infty]$ with 0 \n",
    "indicating efficient performance. Similarly, we adjust the CNLS intercepts $\\alpha_i$ as\n",
    "    \\begin{align*}\n",
    "        \\hat{\\alpha_i}^{C2NLS}= \\alpha_i^{CNLS} + \\max_h \\varepsilon_h^{CNLS},\n",
    "    \\end{align*}\n",
    "\n",
    "where $\\alpha_i^{CNLS}$ is the optimal intercept for firmi in above CNLS problem\n",
    "and $\\alpha_i^{C2NLS}$ is the `C2NLS` estimator. Slope coefficients $\\beta_i$ \n",
    "for `C2NLS` are obtained directly as the optimal solution to the CNLS problem."
   ],
   "metadata": {}
  },
  {
   "cell_type": "markdown",
   "source": [
    "### Stage 1: Esimate $E(y_i | x_i)$ by solving the CNLS problem."
   ],
   "metadata": {}
  },
  {
   "cell_type": "code",
   "execution_count": 1,
   "source": [
    "# import packages\r\n",
    "from pystoned import CNLS\r\n",
    "from pystoned.constant import CET_ADDI, FUN_PROD, OPT_LOCAL, RTS_VRS\r\n",
    "from pystoned.dataset import load_Finnish_electricity_firm"
   ],
   "outputs": [],
   "metadata": {}
  },
  {
   "cell_type": "code",
   "execution_count": 2,
   "source": [
    "# import Finnish electricity distribution firms data\r\n",
    "data = load_Finnish_electricity_firm(x_select=['OPEX', 'CAPEX'],\r\n",
    "                                          y_select=['Energy'])"
   ],
   "outputs": [],
   "metadata": {}
  },
  {
   "cell_type": "code",
   "execution_count": 3,
   "source": [
    "# define and solve the CNLS model\r\n",
    "model = CNLS.CNLS(y=data.y, x=data.x, z=None, cet = CET_ADDI, fun = FUN_PROD, rts = RTS_VRS)\r\n",
    "model.optimize(OPT_LOCAL)"
   ],
   "outputs": [
    {
     "output_type": "stream",
     "name": "stdout",
     "text": [
      "Optimizing locally.\n",
      "Estimating the additive model locally with mosek solver\n",
      "Problem\n",
      "  Name                   :                 \n",
      "  Objective sense        : min             \n",
      "  Type                   : QO (quadratic optimization problem)\n",
      "  Constraints            : 7921            \n",
      "  Cones                  : 0               \n",
      "  Scalar variables       : 445             \n",
      "  Matrix variables       : 0               \n",
      "  Integer variables      : 0               \n",
      "\n",
      "Optimizer started.\n",
      "Quadratic to conic reformulation started.\n",
      "Quadratic to conic reformulation terminated. Time: 0.00    \n",
      "Presolve started.\n",
      "Linear dependency checker started.\n",
      "Linear dependency checker terminated.\n",
      "Eliminator started.\n",
      "Freed constraints in eliminator : 89\n",
      "Eliminator terminated.\n",
      "Eliminator started.\n",
      "Freed constraints in eliminator : 0\n",
      "Eliminator terminated.\n",
      "Eliminator - tries                  : 2                 time                   : 0.00            \n",
      "Lin. dep.  - tries                  : 1                 time                   : 0.00            \n",
      "Lin. dep.  - number                 : 0               \n",
      "Presolve terminated. Time: 0.01    \n",
      "Problem\n",
      "  Name                   :                 \n",
      "  Objective sense        : min             \n",
      "  Type                   : QO (quadratic optimization problem)\n",
      "  Constraints            : 7921            \n",
      "  Cones                  : 0               \n",
      "  Scalar variables       : 445             \n",
      "  Matrix variables       : 0               \n",
      "  Integer variables      : 0               \n",
      "\n",
      "Optimizer  - threads                : 4               \n",
      "Optimizer  - solved problem         : the dual        \n",
      "Optimizer  - Constraints            : 267\n",
      "Optimizer  - Cones                  : 1\n",
      "Optimizer  - Scalar variables       : 8100              conic                  : 90              \n",
      "Optimizer  - Semi-definite variables: 0                 scalarized             : 0               \n",
      "Factor     - setup time             : 0.00              dense det. time        : 0.00            \n",
      "Factor     - ML order time          : 0.00              GP order time          : 0.00            \n",
      "Factor     - nonzeros before factor : 3.58e+04          after factor           : 3.58e+04        \n",
      "Factor     - dense dim.             : 0                 flops                  : 6.78e+06        \n",
      "ITE PFEAS    DFEAS    GFEAS    PRSTATUS   POBJ              DOBJ              MU       TIME  \n",
      "0   9.3e+03  1.0e+00  2.0e+00  0.00e+00   5.000000000e-01   0.000000000e+00   1.0e+00  0.05  \n",
      "1   6.4e+03  6.8e-01  1.7e+00  -1.00e+00  1.678188763e+00   8.303743876e-01   6.8e-01  0.06  \n",
      "2   3.0e+03  3.3e-01  1.1e+00  -1.00e+00  1.416442735e+01   2.031383527e+01   3.3e-01  0.06  \n",
      "3   1.2e+03  1.3e-01  7.0e-01  -9.98e-01  1.579765784e+02   2.777420119e+02   1.3e-01  0.08  \n",
      "4   3.9e+02  4.1e-02  4.0e-01  -9.88e-01  2.651882392e+03   4.406844098e+03   4.1e-02  0.08  \n",
      "5   1.1e+02  1.2e-02  2.0e-01  -9.49e-01  4.331009999e+04   6.686745777e+04   1.2e-02  0.09  \n",
      "6   2.3e+01  2.4e-03  7.1e-02  -8.05e-01  6.068580079e+05   8.624970594e+05   2.4e-03  0.09  \n",
      "7   3.9e+00  4.2e-04  1.2e-02  -2.80e-01  2.639214509e+06   3.169301148e+06   4.2e-04  0.09  \n",
      "8   2.6e-01  2.8e-05  2.7e-04  5.64e-01   3.958159138e+06   4.027950687e+06   2.8e-05  0.09  \n",
      "9   5.8e-02  6.2e-06  2.6e-05  1.05e+00   3.756483405e+06   3.768885188e+06   6.2e-06  0.11  \n",
      "10  3.9e-02  4.2e-06  1.4e-05  1.22e+00   3.440202263e+06   3.447054996e+06   4.2e-06  0.11  \n",
      "11  3.1e-02  3.3e-06  9.2e-06  1.18e+00   3.382861113e+06   3.387898556e+06   3.3e-06  0.11  \n",
      "12  1.6e-02  1.7e-06  3.0e-06  1.26e+00   3.037620848e+06   3.039398943e+06   1.7e-06  0.13  \n",
      "13  1.3e-02  1.4e-06  2.0e-06  1.36e+00   2.915842495e+06   2.917070844e+06   1.4e-06  0.13  \n",
      "14  9.7e-03  1.0e-06  1.2e-06  1.39e+00   2.831989434e+06   2.832790145e+06   1.0e-06  0.13  \n",
      "15  6.2e-03  6.6e-07  5.3e-07  1.43e+00   2.675334823e+06   2.675706632e+06   6.6e-07  0.14  \n",
      "16  4.9e-03  5.3e-07  3.7e-07  1.34e+00   2.653361348e+06   2.653649488e+06   5.3e-07  0.14  \n",
      "17  3.1e-03  3.3e-07  1.6e-07  1.50e+00   2.559572808e+06   2.559708019e+06   3.3e-07  0.14  \n",
      "18  2.1e-03  2.3e-07  9.1e-08  1.27e+00   2.551534573e+06   2.551623251e+06   2.3e-07  0.16  \n",
      "19  1.4e-03  1.5e-07  4.4e-08  1.42e+00   2.523243791e+06   2.523291861e+06   1.5e-07  0.16  \n",
      "20  1.1e-03  1.2e-07  3.1e-08  1.36e+00   2.515092642e+06   2.515128214e+06   1.2e-07  0.16  \n",
      "21  8.5e-04  9.1e-08  1.9e-08  1.34e+00   2.508181178e+06   2.508205240e+06   9.1e-08  0.16  \n",
      "22  5.7e-04  6.1e-08  9.6e-09  1.31e+00   2.501656859e+06   2.501670733e+06   6.1e-08  0.17  \n",
      "23  2.9e-04  3.1e-08  3.1e-09  1.28e+00   2.496076188e+06   2.496081898e+06   3.1e-08  0.17  \n",
      "24  2.3e-04  2.4e-08  2.1e-09  1.24e+00   2.494811146e+06   2.494815346e+06   2.4e-08  0.17  \n",
      "25  7.9e-05  8.4e-09  3.7e-10  1.22e+00   2.492013637e+06   2.492014725e+06   8.4e-09  0.17  \n",
      "26  3.7e-05  4.0e-09  1.1e-10  1.15e+00   2.491297948e+06   2.491298376e+06   4.0e-09  0.19  \n",
      "27  2.2e-05  2.4e-09  5.0e-11  1.10e+00   2.491048202e+06   2.491048440e+06   2.4e-09  0.19  \n",
      "28  1.2e-05  1.3e-09  1.8e-11  1.08e+00   2.490869143e+06   2.490869257e+06   1.3e-09  0.19  \n",
      "29  9.2e-06  9.9e-10  1.2e-11  1.04e+00   2.490828853e+06   2.490828939e+06   9.9e-10  0.19  \n",
      "30  6.9e-06  7.4e-10  7.9e-12  1.04e+00   2.490791117e+06   2.490791180e+06   7.4e-10  0.20  \n",
      "31  6.3e-06  6.7e-10  6.8e-12  1.03e+00   2.490780120e+06   2.490780176e+06   6.7e-10  0.20  \n",
      "32  1.4e-06  1.5e-10  6.3e-13  1.03e+00   2.490701454e+06   2.490701464e+06   1.5e-10  0.20  \n",
      "Optimizer terminated. Time: 0.20    \n",
      "\n",
      "\n",
      "Interior-point solution summary\n",
      "  Problem status  : PRIMAL_AND_DUAL_FEASIBLE\n",
      "  Solution status : OPTIMAL\n",
      "  Primal.  obj: 2.4906994125e+06    nrm: 7e+03    Viol.  con: 3e-12    var: 0e+00  \n",
      "  Dual.    obj: 2.4907035051e+06    nrm: 4e+06    Viol.  con: 1e-04    var: 3e+00  \n"
     ]
    }
   ],
   "metadata": {}
  },
  {
   "cell_type": "markdown",
   "source": [
    "### Stage 2: Shift the residuals analogous to the COLS procedure."
   ],
   "metadata": {}
  },
  {
   "cell_type": "code",
   "execution_count": 4,
   "source": [
    "# print the shifted residuals\r\n",
    "print(model.get_adjusted_residual())"
   ],
   "outputs": [
    {
     "output_type": "stream",
     "name": "stdout",
     "text": [
      "[ -682.18627782  -677.969821    -701.60761871 -1030.2948489\n",
      "  -693.08377375  -578.36903065  -708.25622215  -693.42362295\n",
      "  -680.23132592  -622.48956836  -393.87697554     0.\n",
      "  -699.61389997  -749.39181381  -668.87734352  -604.78653799\n",
      "  -685.9227902   -709.46028649  -719.51861143  -707.16174125\n",
      "  -630.62441581  -592.37586803  -656.90311764  -655.43314542\n",
      "  -681.52553922  -702.22047859  -717.24492203 -1030.45481384\n",
      "  -612.52628325  -701.08668868  -688.3351596   -463.37794252\n",
      "  -641.78653376  -711.19536983  -703.16858258  -880.72513246\n",
      "  -748.67420776  -673.11511236  -675.62803193  -753.99127172\n",
      "  -681.35866624  -691.35475106  -916.13015122  -672.80929117\n",
      "  -667.72699191  -699.38787096  -746.59843122  -684.62298705\n",
      "  -735.33082163  -413.86974571  -677.45967495  -697.03469196\n",
      "  -674.7275703   -640.52952774  -682.28718016  -329.85557671\n",
      "  -515.39337149  -644.38251161  -650.9909378   -778.51604415\n",
      "  -646.59500263 -1283.42370244  -482.28284296  -657.97281652\n",
      "  -706.13925932  -694.5136014   -649.99971541  -807.65486353\n",
      "  -695.82904357  -692.7701566   -973.24543292  -681.93450004\n",
      "  -202.7642604   -689.18742866  -647.29440141  -696.62522944\n",
      "  -564.6159158   -683.23531056  -643.98765217  -742.32124747\n",
      "  -670.46452641  -329.98659075  -760.08351807 -1284.14201819\n",
      "  -739.22360323  -672.66547335  -673.21017945  -685.44491325\n",
      "  -680.26903767]\n"
     ]
    }
   ],
   "metadata": {}
  },
  {
   "cell_type": "code",
   "execution_count": 5,
   "source": [
    "# print the shifted intercept\r\n",
    "print(model.get_adjusted_alpha())"
   ],
   "outputs": [
    {
     "output_type": "stream",
     "name": "stdout",
     "text": [
      "[656.44793389 656.39703997 656.51998647 712.844865   656.44540447\n",
      " 661.63001773 656.46299411 661.58900868 656.48056444 661.51304923\n",
      " 768.46812234 770.2484122  656.54873873 661.57464456 781.76269274\n",
      " 661.71330543 656.41884416 656.46658428 656.47660857 661.70200268\n",
      " 662.09473856 658.23705641 654.1172952  661.75208799 656.42608435\n",
      " 656.53921294 656.53759745 712.84511062 656.41979367 661.58111205\n",
      " 656.47576784 783.71056405 661.6725422  661.60768741 659.73033992\n",
      " 661.71716281 661.68000792 656.41882376 656.39351987 661.75594332\n",
      " 661.7225447  656.39134903 712.84557504 656.4622658  656.4900164\n",
      " 656.44081156 661.74709981 656.39226184 661.71754466 712.83607904\n",
      " 656.44142718 661.67653474 656.50863699 661.72247562 656.47130572\n",
      " 701.69573976 664.99688194 656.50128979 657.28868025 661.61628086\n",
      " 654.84097662 712.84522883 661.75526607 665.53138328 656.54964294\n",
      " 656.41773531 661.65737976 661.75929358 661.69535426 661.71268946\n",
      " 712.84519736 661.68785702 712.84557152 656.4118352  656.59474032\n",
      " 664.5529263  767.98057444 656.43935212 712.84270319 661.71703426\n",
      " 656.61042684 712.84431008 661.70538677 795.08302252 661.71714563\n",
      " 656.38225713 656.39067537 656.38925598 656.52350009]\n"
     ]
    }
   ],
   "metadata": {}
  }
 ],
 "metadata": {
  "kernelspec": {
   "name": "python3",
   "display_name": "Python 3.8.8 64-bit ('base': conda)"
  },
  "language_info": {
   "codemirror_mode": {
    "name": "ipython",
    "version": 3
   },
   "file_extension": ".py",
   "mimetype": "text/x-python",
   "name": "python",
   "nbconvert_exporter": "python",
   "pygments_lexer": "ipython3",
   "version": "3.8.8"
  },
  "interpreter": {
   "hash": "d615cd69d76bbfeb794299333df0c3d566ae9a0a286576ecbdfd9810108dcdf5"
  }
 },
 "nbformat": 4,
 "nbformat_minor": 4
}