{
 "cells": [
  {
   "cell_type": "markdown",
   "metadata": {},
   "source": [
    "# Corrected Convex Nonparametric Least Squares (C2NLS)"
   ]
  },
  {
   "cell_type": "markdown",
   "metadata": {},
   "source": [
    "Corrected  nonparametric  least  squares (`C2NLS`) is  a  new  nonparametric  variant  \n",
    "of the COLS model in which nonparametric least squares subject to monotonicity and \n",
    "concavity constraints replace thefirst-stage parametric OLS regression. The `C2NLS`\n",
    "model assumes that the regression $f$ is monotonic increasing and globally concave, the \n",
    "inefficiencies $\\varepsilon$ are identically and independently distributed with \n",
    "mean $\\mu$ and a finitevariance $\\sigma^2$, and that the inefficiencies :$\\varepsilon$ are \n",
    "uncorrelatedwith inputs $\\bf X$.\n",
    "\n",
    "Like `COLS`, the `C2NLS` method is implemented in two stages, which can be stated as follows:\n",
    "\n",
    "* First stage: Estimate $E(y_i|x_i)$ by solving the following CNLS problem. Denote the CNLS \n",
    "residuals by $\\varepsilon^{CNLS}_i$.\n",
    "    \\begin{align*}\n",
    "      & \\underset{\\alpha, \\beta, \\varepsilon} {min} \\sum_{i=1}^n\\varepsilon_i^2 \\\\\n",
    "      & \\text{s.t.} \\\\\n",
    "      &  y_i = \\alpha_i + \\beta_i^{'}X_i + \\varepsilon_i \\quad \\forall i \\\\\n",
    "      &  \\alpha_i + \\beta_i^{'}X_i \\le \\alpha_j + \\beta_j^{'}X_i  \\quad  \\forall i, j\\\\\n",
    "      &  \\beta_i \\ge 0 \\quad  \\forall i \\\\\n",
    "    \\end{align*}\n",
    "\n",
    "* Second stage: Shift the residuals analogous to the `COLS` procedure; \n",
    "the `C2NLS` efficiency estimator is\n",
    "    \\begin{align*}\n",
    "        \\hat{\\varepsilon_i}^{C2NLS}= \\varepsilon_i^{CNLS}− \\max_h \\varepsilon_h^{CNLS},\n",
    "    \\end{align*}\n",
    "\n",
    "where values of $\\hat{\\varepsilon_i}^{C2NLS}$ range from $[0, +\\infty]$ with 0 \n",
    "indicating efficient performance. Similarly, we adjust the CNLS intercepts $\\alpha_i$ as\n",
    "    \\begin{align*}\n",
    "        \\hat{\\alpha_i}^{C2NLS}= \\alpha_i^{CNLS} + \\max_h \\varepsilon_h^{CNLS},\n",
    "    \\end{align*}\n",
    "\n",
    "where $\\alpha_i^{CNLS}$ is the optimal intercept for firmi in above CNLS problem\n",
    "and $\\alpha_i^{C2NLS}$ is the `C2NLS` estimator. Slope coefficients $\\beta_i$ \n",
    "for `C2NLS` are obtained directly as the optimal solution to the CNLS problem."
   ]
  },
  {
   "cell_type": "markdown",
   "metadata": {},
   "source": [
    "### Stage 1: Esimate $E(y_i | x_i)$ by solving the CNLS problem."
   ]
  },
  {
   "cell_type": "code",
   "execution_count": 1,
   "metadata": {},
   "outputs": [],
   "source": [
    "# import packages\n",
    "from pystoned import CNLS\n",
    "from pystoned.constant import CET_ADDI, FUN_PROD, OPT_LOCAL, RTS_VRS\n",
    "from pystoned.dataset import load_Finnish_electricity_firm"
   ]
  },
  {
   "cell_type": "code",
   "execution_count": 2,
   "metadata": {},
   "outputs": [],
   "source": [
    "# import Finnish electricity distribution firms data\n",
    "data = load_Finnish_electricity_firm(x_select=['Energy', 'Length', 'Customers'],\n",
    "                                        y_select=['TOTEX'])"
   ]
  },
  {
   "cell_type": "code",
   "execution_count": 3,
   "metadata": {},
   "outputs": [
    {
     "name": "stdout",
     "output_type": "stream",
     "text": [
      "Invalid email address.\n",
      "\n",
      "Estimating the additive model locally with mosek solver\n",
      "Problem\n",
      "  Name                   :                 \n",
      "  Objective sense        : min             \n",
      "  Type                   : QO (quadratic optimization problem)\n",
      "  Constraints            : 7921            \n",
      "  Cones                  : 0               \n",
      "  Scalar variables       : 534             \n",
      "  Matrix variables       : 0               \n",
      "  Integer variables      : 0               \n",
      "\n",
      "Optimizer started.\n",
      "Quadratic to conic reformulation started.\n",
      "Quadratic to conic reformulation terminated. Time: 0.00    \n",
      "Presolve started.\n",
      "Linear dependency checker started.\n",
      "Linear dependency checker terminated.\n",
      "Eliminator started.\n",
      "Freed constraints in eliminator : 89\n",
      "Eliminator terminated.\n",
      "Eliminator started.\n",
      "Freed constraints in eliminator : 0\n",
      "Eliminator terminated.\n",
      "Eliminator - tries                  : 2                 time                   : 0.00            \n",
      "Lin. dep.  - tries                  : 1                 time                   : 0.00            \n",
      "Lin. dep.  - number                 : 0               \n",
      "Presolve terminated. Time: 0.03    \n",
      "Problem\n",
      "  Name                   :                 \n",
      "  Objective sense        : min             \n",
      "  Type                   : QO (quadratic optimization problem)\n",
      "  Constraints            : 7921            \n",
      "  Cones                  : 0               \n",
      "  Scalar variables       : 534             \n",
      "  Matrix variables       : 0               \n",
      "  Integer variables      : 0               \n",
      "\n",
      "Optimizer  - threads                : 4               \n",
      "Optimizer  - solved problem         : the dual        \n",
      "Optimizer  - Constraints            : 356\n",
      "Optimizer  - Cones                  : 1\n",
      "Optimizer  - Scalar variables       : 8189              conic                  : 90              \n",
      "Optimizer  - Semi-definite variables: 0                 scalarized             : 0               \n",
      "Factor     - setup time             : 0.00              dense det. time        : 0.00            \n",
      "Factor     - ML order time          : 0.00              GP order time          : 0.00            \n",
      "Factor     - nonzeros before factor : 6.39e+04          after factor           : 6.39e+04        \n",
      "Factor     - dense dim.             : 1                 flops                  : 1.58e+07        \n",
      "ITE PFEAS    DFEAS    GFEAS    PRSTATUS   POBJ              DOBJ              MU       TIME  \n",
      "0   1.7e+05  1.0e+00  2.0e+00  0.00e+00   5.000000000e-01   0.000000000e+00   1.0e+00  0.08  \n",
      "1   9.4e+04  5.7e-01  1.5e+00  -1.00e+00  2.799171663e+00   2.255455856e+00   5.7e-01  0.13  \n",
      "2   3.2e+04  1.9e-01  8.6e-01  -1.00e+00  3.815171334e+01   6.885885731e+01   1.9e-01  0.14  \n",
      "3   8.7e+03  5.2e-02  4.5e-01  -1.00e+00  8.726573405e+02   1.683540627e+03   5.2e-02  0.16  \n",
      "4   1.6e+03  9.5e-03  1.9e-01  -9.97e-01  3.736775915e+04   6.894978361e+04   9.5e-03  0.19  \n",
      "5   1.9e+02  1.1e-03  6.4e-02  -9.84e-01  2.614431627e+06   4.693526258e+06   1.1e-03  0.20  \n",
      "6   3.9e+00  2.4e-05  4.3e-03  -8.75e-01  3.812932438e+08   6.465976837e+08   2.4e-05  0.22  \n",
      "7   2.1e-01  1.3e-06  6.0e-05  5.38e-01   4.336407411e+08   4.501854931e+08   1.3e-06  0.22  \n",
      "8   5.1e-02  3.1e-07  5.0e-06  1.01e+00   2.888484340e+08   2.904491044e+08   3.1e-07  0.23  \n",
      "9   2.4e-02  1.5e-07  1.3e-06  1.33e+00   1.603901966e+08   1.607431675e+08   1.5e-07  0.25  \n",
      "10  1.3e-02  8.1e-08  4.5e-07  1.47e+00   9.900398261e+07   9.910998944e+07   8.1e-08  0.27  \n",
      "11  9.4e-03  5.7e-08  2.4e-07  1.41e+00   7.982624527e+07   7.988397330e+07   5.7e-08  0.27  \n",
      "12  8.2e-03  4.9e-08  1.9e-07  1.37e+00   7.591795826e+07   7.596465178e+07   4.9e-08  0.28  \n",
      "13  3.6e-03  2.2e-08  5.0e-08  1.34e+00   6.029546659e+07   6.030991391e+07   2.2e-08  0.30  \n",
      "14  2.4e-03  1.4e-08  2.5e-08  1.17e+00   5.538127461e+07   5.538958732e+07   1.4e-08  0.30  \n",
      "15  1.6e-03  9.7e-09  1.3e-08  1.19e+00   5.298046181e+07   5.298547255e+07   9.7e-09  0.31  \n",
      "16  8.6e-04  5.2e-09  4.9e-09  1.19e+00   5.077149263e+07   5.077374435e+07   5.2e-09  0.31  \n",
      "17  2.6e-04  1.6e-09  7.1e-10  1.17e+00   4.921522141e+07   4.921571341e+07   1.6e-09  0.33  \n",
      "18  1.8e-04  1.1e-09  3.8e-10  1.12e+00   4.899569038e+07   4.899600614e+07   1.1e-09  0.34  \n",
      "19  7.7e-05  4.6e-10  1.0e-10  1.09e+00   4.874219085e+07   4.874231561e+07   4.6e-10  0.34  \n",
      "20  5.9e-05  3.6e-10  6.9e-11  1.05e+00   4.870433526e+07   4.870442893e+07   3.6e-10  0.36  \n",
      "21  2.2e-05  1.3e-10  1.5e-11  1.05e+00   4.862276316e+07   4.862279544e+07   1.3e-10  0.38  \n",
      "22  1.1e-05  6.5e-11  5.1e-12  1.03e+00   4.859878588e+07   4.859880122e+07   6.5e-11  0.38  \n",
      "23  4.3e-06  2.6e-11  1.3e-12  1.00e+00   4.858449416e+07   4.858450029e+07   2.6e-11  0.39  \n",
      "24  3.3e-06  2.0e-11  8.9e-13  9.22e-01   4.858239847e+07   4.858240332e+07   2.0e-11  0.41  \n",
      "25  2.6e-06  1.6e-11  6.1e-13  9.39e-01   4.858075797e+07   4.858076176e+07   1.6e-11  0.41  \n",
      "26  1.9e-06  1.1e-11  3.6e-13  9.97e-01   4.857923403e+07   4.857923663e+07   1.1e-11  0.44  \n",
      "27  7.7e-07  4.6e-12  9.6e-14  9.78e-01   4.857687413e+07   4.857687519e+07   4.6e-12  0.45  \n",
      "28  1.8e-07  1.1e-12  1.2e-14  9.99e-01   4.857561869e+07   4.857561894e+07   1.1e-12  0.45  \n",
      "Optimizer terminated. Time: 0.48    \n",
      "\n",
      "\n",
      "Interior-point solution summary\n",
      "  Problem status  : PRIMAL_AND_DUAL_FEASIBLE\n",
      "  Solution status : OPTIMAL\n",
      "  Primal.  obj: 4.8575611849e+07    nrm: 2e+05    Viol.  con: 2e-10    var: 0e+00  \n",
      "  Dual.    obj: 4.8575625780e+07    nrm: 1e+06    Viol.  con: 1e-04    var: 5e+01  \n"
     ]
    }
   ],
   "source": [
    "# define and solve the CNLS model\n",
    "model = CNLS.CNLS(y=data.y, x=data.x, z=None, cet = CET_ADDI, fun = FUN_PROD, rts = RTS_VRS)\n",
    "model.optimize(OPT_LOCAL)"
   ]
  },
  {
   "cell_type": "markdown",
   "metadata": {},
   "source": [
    "### Stage 2: Shift the residuals analogous to the COLS procedure."
   ]
  },
  {
   "cell_type": "code",
   "execution_count": 4,
   "metadata": {},
   "outputs": [
    {
     "name": "stdout",
     "output_type": "stream",
     "text": [
      "[-1922.52880811 -1832.15878068 -1717.35278479 -1733.50335564\n",
      " -1689.45633249 -2518.29793279 -1909.92398045 -1591.39988474\n",
      " -1031.67987726 -1781.51233128 -1460.09811629 -1990.0040647\n",
      " -1544.30460643 -1366.68924317     0.         -1716.26450761\n",
      " -1784.20685941 -1812.55485868 -1901.48390242 -2484.85213411\n",
      " -1812.64299218 -2816.00597835 -1911.46323307 -2608.34945324\n",
      " -1782.60012297 -1903.80108355 -1573.74740625 -1989.97689055\n",
      " -1148.83465403 -1934.5659302  -2012.55283775  -226.65128925\n",
      " -2152.05190696 -1384.40075066 -1922.42815817  -935.23150418\n",
      " -2648.84765592 -2215.99490563 -2054.99620092 -2429.59805568\n",
      " -1746.16723176 -1849.14869398 -1323.63295724 -2117.43007483\n",
      " -2187.25414872 -1838.36022747 -1890.36140173 -1843.08143328\n",
      " -2972.5730599  -3894.38005468 -1715.82040352 -1921.26525038\n",
      " -1622.80734428  -604.54211916 -1884.70652929 -4722.26832814\n",
      " -3262.78561332 -1920.31908072 -2439.89996428 -1697.7659896\n",
      " -2010.27234391 -1942.13616358 -1889.92072672 -2156.93426808\n",
      " -1459.003058   -2003.44365718 -1835.12445708 -1932.32717978\n",
      " -1785.43118002 -3462.74249322 -1989.95649161 -1796.88050094\n",
      " -5281.71074254 -2013.20096449 -2204.91838241 -1964.62466383\n",
      "  -831.33845634 -1750.10197819 -2639.99288189 -2500.2526781\n",
      " -2144.4586     -3241.38872538 -2504.53255078 -1713.06410774\n",
      " -1816.79339328 -1974.31334251 -1907.94297873 -1774.22739031\n",
      " -1872.8644036 ]\n"
     ]
    }
   ],
   "source": [
    "# print the shifted residuals\n",
    "print(model.get_adjusted_residual())"
   ]
  },
  {
   "cell_type": "code",
   "execution_count": 5,
   "metadata": {},
   "outputs": [
    {
     "name": "stdout",
     "output_type": "stream",
     "text": [
      "[ 2005.27898149  1942.14738339  1942.11176381  3180.67567736\n",
      "  2067.1089848   2077.48812335  1942.04825026  2029.28791305\n",
      "  1998.34673801  2077.50795851  3456.81619027 26535.79658587\n",
      "  2012.16426231  2019.91428478  4282.326056    2079.27506145\n",
      "  1942.05534343  1976.46592326  1942.30180489  1942.05154382\n",
      "  2407.97994793  2076.73934104  1927.91396222  1942.04487397\n",
      "  1983.28940469  1993.56793391  1984.781446    4366.4979848\n",
      "  2063.97415077  1942.03415237  1993.52784431  3187.05252087\n",
      "  2077.50888475  1964.5550187   1942.05115206  2375.91219713\n",
      "  2110.23900108  1942.0418049   1942.01650239  1942.05676928\n",
      "  1942.18242237  1943.24249579  2077.22487213  1993.57758436\n",
      "  1994.27261142  2120.89322989  1942.06735983  1894.67501003\n",
      "  1942.0522202   2077.52934445  1988.11442779  2075.8600962\n",
      "  1987.93939093  2077.51859963  1997.74776918  2077.5247139\n",
      "  2077.50988563  2013.98175543  2005.4001376   2065.5702009\n",
      "  1533.6085544   3843.23833918  2077.52783366  1942.07108152\n",
      "  1968.79749763  1943.48586286  2009.6955331   2204.58086892\n",
      "  2077.3961299   2005.40241198  4039.76098576  2077.49239579\n",
      "  2077.53748646  1942.03753661  2077.44036174  2005.43385349\n",
      "  2077.54251645  1941.66856416  2077.52154178  1942.04787041\n",
      "  1942.04763221  2077.52821776  1942.05015689  4143.07180871\n",
      "  2006.03019811  1941.7705731   1941.91083948  1872.84034245\n",
      "  1942.01446874]\n"
     ]
    }
   ],
   "source": [
    "# print the shifted intercept\n",
    "print(model.get_adjusted_alpha())"
   ]
  }
 ],
 "metadata": {
  "kernelspec": {
   "display_name": "Python 3",
   "language": "python",
   "name": "python3"
  },
  "language_info": {
   "codemirror_mode": {
    "name": "ipython",
    "version": 3
   },
   "file_extension": ".py",
   "mimetype": "text/x-python",
   "name": "python",
   "nbconvert_exporter": "python",
   "pygments_lexer": "ipython3",
   "version": "3.8.10"
  }
 },
 "nbformat": 4,
 "nbformat_minor": 4
}
