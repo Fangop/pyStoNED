{
 "cells": [
  {
   "cell_type": "markdown",
   "metadata": {},
   "source": [
    "# Calculating firm-level efficiency"
   ]
  },
  {
   "cell_type": "code",
   "execution_count": 1,
   "metadata": {},
   "outputs": [],
   "source": [
    "# import packages\n",
    "from pystoned import CNLSG, StoNED\n",
    "from pystoned.dataset import load_Finnish_electricity_firm\n",
    "from pystoned.constant import CET_MULT, FUN_COST, RTS_VRS, RED_MOM"
   ]
  },
  {
   "cell_type": "code",
   "execution_count": 2,
   "metadata": {},
   "outputs": [],
   "source": [
    "# import Finnish electricity distribution firms data\n",
    "data = load_Finnish_electricity_firm(x_select=['OPEX', 'CAPEX'], y_select=['Energy'])"
   ]
  },
  {
   "cell_type": "code",
   "execution_count": 3,
   "metadata": {},
   "outputs": [
    {
     "name": "stdout",
     "output_type": "stream",
     "text": [
      "Estimating the multiplicative model remotely with knitro solver\n",
      "Estimating the multiplicative model remotely with knitro solver\n",
      "Genetic Algorithm Convergence : 104.631574\n",
      "Estimating the multiplicative model remotely with knitro solver\n",
      "Genetic Algorithm Convergence : 79.062376\n",
      "Estimating the multiplicative model remotely with knitro solver\n",
      "Genetic Algorithm Convergence : 47.504207\n",
      "Estimating the multiplicative model remotely with knitro solver\n",
      "Genetic Algorithm Convergence : 31.715796\n",
      "Estimating the multiplicative model remotely with knitro solver\n",
      "Genetic Algorithm Convergence : 240.932319\n",
      "Estimating the multiplicative model remotely with knitro solver\n",
      "Genetic Algorithm Convergence : 27.048077\n",
      "Estimating the multiplicative model remotely with knitro solver\n",
      "Genetic Algorithm Convergence : 14.984438\n",
      "Estimating the multiplicative model remotely with knitro solver\n",
      "Genetic Algorithm Convergence : 4.709631\n",
      "Estimating the multiplicative model remotely with knitro solver\n",
      "Genetic Algorithm Convergence : 2.416562\n",
      "Estimating the multiplicative model remotely with knitro solver\n",
      "Genetic Algorithm Convergence : 3.688255\n",
      "Estimating the multiplicative model remotely with knitro solver\n",
      "Genetic Algorithm Convergence : 3.165132\n",
      "Estimating the multiplicative model remotely with knitro solver\n",
      "Genetic Algorithm Convergence : 0.607771\n",
      "Estimating the multiplicative model remotely with knitro solver\n",
      "Genetic Algorithm Convergence : 0.000000\n"
     ]
    }
   ],
   "source": [
    "# build and optimize the CNLS model\n",
    "model = CNLSG.CNLSG(data.y, data.x, z=None, cet=CET_MULT, fun=FUN_COST, rts=RTS_VRS)\n",
    "model.optimize('email@address')"
   ]
  },
  {
   "cell_type": "code",
   "execution_count": 4,
   "metadata": {},
   "outputs": [
    {
     "name": "stdout",
     "output_type": "stream",
     "text": [
      "[1.22736008 1.24956946 1.15867539 1.10080881 1.12300487 1.43842304\n",
      " 1.11314886 1.20344303 1.24704826 1.41017417 1.24129413 1.20175469\n",
      " 1.18806708 1.12914084 1.17620452 1.30998319 1.19027587 1.13033505\n",
      " 1.11388754 1.1903552  1.27648647 1.54060231 1.1649578  1.23831935\n",
      " 1.22736967 1.17180541 1.12619292 1.09671544 1.80557274 1.19659165\n",
      " 1.20524259 1.50737422 1.29834893 1.19133709 1.1597145  1.07370749\n",
      " 1.11971215 1.28314905 1.29330482 1.17025781 1.21819993 1.12661488\n",
      " 1.14715566 1.28003087 1.30386294 1.0992807  1.1738428  1.14120626\n",
      " 1.16892941 1.33777431 1.26356577 1.19801311 1.26527159 1.23063856\n",
      " 1.23480722 1.39899192 1.42952627 1.42141719 1.31165081 1.09417592\n",
      " 1.25386725 1.09589741 1.3636162  1.2052553  1.16201673 1.15099807\n",
      " 1.26193071 1.14234351 1.21000942 1.20033077 1.1393845  1.2316076\n",
      " 1.3570453  1.161872   1.35543908 1.14074727 1.24362632 1.17258806\n",
      " 1.19736756 1.15186012 1.27024465 1.33906619 1.13072897 1.14212072\n",
      " 1.16630537 1.32674141 1.32317628 1.12552156 1.24395279]\n"
     ]
    }
   ],
   "source": [
    "# Residual decomposition\n",
    "rd = StoNED.StoNED(model)\n",
    "print(rd.get_technical_inefficiency(RED_MOM))"
   ]
  }
 ],
 "metadata": {
  "interpreter": {
   "hash": "97ae724bfa85b9b34df7982b8bb8c7216f435b92902d749e4263f71162bea840"
  },
  "kernelspec": {
   "display_name": "Python 3",
   "language": "python",
   "name": "python3"
  },
  "language_info": {
   "codemirror_mode": {
    "name": "ipython",
    "version": 3
   },
   "file_extension": ".py",
   "mimetype": "text/x-python",
   "name": "python",
   "nbconvert_exporter": "python",
   "pygments_lexer": "ipython3",
   "version": "3.8.10"
  }
 },
 "nbformat": 4,
 "nbformat_minor": 2
}
