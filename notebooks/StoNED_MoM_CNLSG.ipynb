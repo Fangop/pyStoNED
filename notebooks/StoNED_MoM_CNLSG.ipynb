{
 "cells": [
  {
   "cell_type": "markdown",
   "source": [
    "# Calculating firm-level efficiency"
   ],
   "metadata": {}
  },
  {
   "cell_type": "code",
   "execution_count": 1,
   "source": [
    "# import packages\r\n",
    "from pystoned import CNLSG, StoNED\r\n",
    "from pystoned.dataset import load_Finnish_electricity_firm\r\n",
    "from pystoned.constant import CET_MULT, FUN_COST, RTS_VRS, RED_MOM"
   ],
   "outputs": [],
   "metadata": {}
  },
  {
   "cell_type": "code",
   "execution_count": 2,
   "source": [
    "# import Finnish electricity distribution firms data\r\n",
    "data = load_Finnish_electricity_firm(x_select=['Energy', 'Length', 'Customers'],\r\n",
    "                                        y_select=['TOTEX'])"
   ],
   "outputs": [],
   "metadata": {}
  },
  {
   "cell_type": "code",
   "execution_count": 3,
   "source": [
    "# build and optimize the CNLS model\r\n",
    "model = CNLSG.CNLSG(data.y, data.x, z=None, cet=CET_MULT, fun=FUN_COST, rts=RTS_VRS)\r\n",
    "model.optimize('email@address')"
   ],
   "outputs": [
    {
     "output_type": "stream",
     "name": "stdout",
     "text": [
      "Estimating the multiplicative model remotely with knitro solver\n",
      "Estimating the multiplicative model remotely with knitro solver\n",
      "Genetic Algorithm Convergence : 3786.473472\n",
      "Estimating the multiplicative model remotely with knitro solver\n",
      "Genetic Algorithm Convergence : 1572.654874\n",
      "Estimating the multiplicative model remotely with knitro solver\n",
      "Genetic Algorithm Convergence : 1356.364955\n",
      "Estimating the multiplicative model remotely with knitro solver\n",
      "Genetic Algorithm Convergence : 1575.859639\n",
      "Estimating the multiplicative model remotely with knitro solver\n",
      "Genetic Algorithm Convergence : 411.059591\n",
      "Estimating the multiplicative model remotely with knitro solver\n",
      "Genetic Algorithm Convergence : 1440.652205\n",
      "Estimating the multiplicative model remotely with knitro solver\n",
      "Genetic Algorithm Convergence : 457.522290\n",
      "Estimating the multiplicative model remotely with knitro solver\n",
      "Genetic Algorithm Convergence : 2030.835346\n",
      "Estimating the multiplicative model remotely with knitro solver\n",
      "Genetic Algorithm Convergence : 459.851252\n",
      "Estimating the multiplicative model remotely with knitro solver\n",
      "Genetic Algorithm Convergence : 489.739516\n",
      "Estimating the multiplicative model remotely with knitro solver\n",
      "Genetic Algorithm Convergence : 371.094557\n",
      "Estimating the multiplicative model remotely with knitro solver\n",
      "Genetic Algorithm Convergence : 358.350039\n",
      "Estimating the multiplicative model remotely with knitro solver\n",
      "Genetic Algorithm Convergence : 170.208162\n",
      "Estimating the multiplicative model remotely with knitro solver\n",
      "Genetic Algorithm Convergence : 110.424185\n",
      "Estimating the multiplicative model remotely with knitro solver\n",
      "Genetic Algorithm Convergence : 80.532223\n",
      "Estimating the multiplicative model remotely with knitro solver\n",
      "Genetic Algorithm Convergence : 19.817375\n",
      "Estimating the multiplicative model remotely with knitro solver\n",
      "Genetic Algorithm Convergence : 38.516092\n",
      "Estimating the multiplicative model remotely with knitro solver\n",
      "Genetic Algorithm Convergence : 10.111112\n",
      "Estimating the multiplicative model remotely with knitro solver\n",
      "Genetic Algorithm Convergence : 0.000000\n"
     ]
    }
   ],
   "metadata": {}
  },
  {
   "cell_type": "code",
   "execution_count": 4,
   "source": [
    "# Residual decomposition\r\n",
    "rd = StoNED.StoNED(model)\r\n",
    "print(rd.get_technical_inefficiency(RED_MOM))"
   ],
   "outputs": [
    {
     "output_type": "stream",
     "name": "stdout",
     "text": [
      "[1.09156319 1.08650469 1.14247297 1.09270023 1.12171169 1.06035128\n",
      " 1.07631848 1.13245426 1.2181199  1.07699786 1.08095419 1.07655227\n",
      " 1.15058289 1.18290456 1.07302121 1.06590884 1.133093   1.12612134\n",
      " 1.0789601  1.06772001 1.06302707 1.04232648 1.05321824 1.05786866\n",
      " 1.11327331 1.1031964  1.17075581 1.05596413 1.0942483  1.08618866\n",
      " 1.08127299 1.03507163 1.07647293 1.13443958 1.08806392 1.14813474\n",
      " 1.05003977 1.05377991 1.0538646  1.07712156 1.06191962 1.08089779\n",
      " 1.10550261 1.06920673 1.06520766 1.05656018 1.09268717 1.07334338\n",
      " 1.06431047 1.06047574 1.13292903 1.08858348 1.13324412 1.16914985\n",
      " 1.0928227  1.04813545 1.0503145  1.06788703 1.05271812 1.09559204\n",
      " 1.03212155 1.07489609 1.08209673 1.0973268  1.20578674 1.0606029\n",
      " 1.10480539 1.08096355 1.10151535 1.04810142 1.08101704 1.10529494\n",
      " 1.04932839 1.05723461 1.06448794 1.08095681 1.08096941 1.10116647\n",
      " 1.08462111 1.07856141 1.07215198 1.06422848 1.06544203 1.08344628\n",
      " 1.09550154 1.06122437 1.08719327 1.09467879 1.09408226]\n"
     ]
    }
   ],
   "metadata": {}
  }
 ],
 "metadata": {
  "interpreter": {
   "hash": "d615cd69d76bbfeb794299333df0c3d566ae9a0a286576ecbdfd9810108dcdf5"
  },
  "kernelspec": {
   "name": "python3",
   "display_name": "Python 3.8.8 64-bit ('base': conda)"
  },
  "language_info": {
   "codemirror_mode": {
    "name": "ipython",
    "version": 3
   },
   "file_extension": ".py",
   "mimetype": "text/x-python",
   "name": "python",
   "nbconvert_exporter": "python",
   "pygments_lexer": "ipython3",
   "version": "3.8.8"
  }
 },
 "nbformat": 4,
 "nbformat_minor": 2
}