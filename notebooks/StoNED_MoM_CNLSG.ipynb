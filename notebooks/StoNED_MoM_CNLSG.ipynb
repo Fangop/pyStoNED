{
 "cells": [
  {
   "cell_type": "markdown",
   "source": [
    "# Calculating firm-level efficiency"
   ],
   "metadata": {}
  },
  {
   "cell_type": "code",
   "execution_count": 5,
   "source": [
    "# import packages\n",
    "from pystoned import CNLSG, StoNED\n",
    "from pystoned.dataset import load_Finnish_electricity_firm\n",
    "from pystoned.constant import CET_MULT, FUN_PROD, RTS_VRS, RED_MOM"
   ],
   "outputs": [],
   "metadata": {}
  },
  {
   "cell_type": "code",
   "execution_count": 6,
   "source": [
    "# import Finnish electricity distribution firms data\n",
    "data = load_Finnish_electricity_firm(x_select=['OPEX', 'CAPEX'], y_select=['Energy'])"
   ],
   "outputs": [],
   "metadata": {}
  },
  {
   "cell_type": "code",
   "execution_count": 7,
   "source": [
    "# build and optimize the CNLS model\n",
    "model = CNLSG.CNLSG(data.y, data.x, z=None, cet=CET_MULT, fun=FUN_PROD, rts=RTS_VRS)\n",
    "model.optimize('email@address')"
   ],
   "outputs": [
    {
     "output_type": "stream",
     "name": "stdout",
     "text": [
      "Estimating the multiplicative model remotely with knitro solver\n",
      "Estimating the multiplicative model remotely with knitro solver\n",
      "Genetic Algorithm Convergence : 99466.660972\n",
      "Estimating the multiplicative model remotely with knitro solver\n",
      "Genetic Algorithm Convergence : 8725.087716\n",
      "Estimating the multiplicative model remotely with knitro solver\n",
      "Genetic Algorithm Convergence : 1626.273725\n",
      "Estimating the multiplicative model remotely with knitro solver\n",
      "Genetic Algorithm Convergence : 29.773867\n",
      "Estimating the multiplicative model remotely with knitro solver\n",
      "Genetic Algorithm Convergence : 9.399240\n",
      "Estimating the multiplicative model remotely with knitro solver\n",
      "Genetic Algorithm Convergence : 5.205715\n",
      "Estimating the multiplicative model remotely with knitro solver\n",
      "Genetic Algorithm Convergence : 6.056263\n",
      "Estimating the multiplicative model remotely with knitro solver\n",
      "Genetic Algorithm Convergence : 1.105544\n",
      "Estimating the multiplicative model remotely with knitro solver\n",
      "Genetic Algorithm Convergence : 0.000003\n"
     ]
    }
   ],
   "metadata": {}
  },
  {
   "cell_type": "code",
   "execution_count": 8,
   "source": [
    "# Residual decomposition\n",
    "rd = StoNED.StoNED(model)\n",
    "print(rd.get_technical_inefficiency(RED_MOM))"
   ],
   "outputs": [
    {
     "output_type": "stream",
     "name": "stdout",
     "text": [
      "[0.828251   0.82870651 0.80357786 0.7991593  0.73698641 0.88892073\n",
      " 0.75177112 0.84028215 0.84311659 0.88061287 0.87055599 0.86789872\n",
      " 0.82968617 0.79967446 0.85417886 0.87402377 0.79775549 0.7849064\n",
      " 0.77017241 0.84108104 0.87444828 0.89477363 0.8715359  0.86414998\n",
      " 0.817566   0.81723558 0.78275541 0.8159031  0.90312328 0.83708891\n",
      " 0.82218209 0.90696291 0.86980846 0.84015125 0.81235267 0.73144905\n",
      " 0.80117678 0.84057939 0.81636324 0.84138819 0.85494223 0.7223682\n",
      " 0.83472018 0.84423315 0.85271513 0.7081567  0.8398398  0.71491051\n",
      " 0.83449085 0.88416529 0.81142377 0.84212155 0.84475505 0.86200782\n",
      " 0.83234047 0.8933236  0.89664269 0.87502206 0.86464442 0.76091642\n",
      " 0.91578568 0.78927951 0.88525234 0.85626125 0.81169999 0.77703635\n",
      " 0.86235088 0.82295579 0.85013298 0.84740374 0.83477872 0.85458767\n",
      " 0.88962665 0.78148156 0.86990717 0.83633528 0.87255105 0.72798641\n",
      " 0.85722787 0.82740533 0.85325992 0.88558573 0.80832305 0.84249338\n",
      " 0.83308479 0.81304108 0.81197874 0.69506619 0.84283184]\n"
     ]
    }
   ],
   "metadata": {}
  }
 ],
 "metadata": {
  "interpreter": {
   "hash": "916dbcbb3f70747c44a77c7bcd40155683ae19c65e1c03b4aa3499c5328201f1"
  },
  "kernelspec": {
   "name": "python3",
   "display_name": "Python 3.8.10 64-bit"
  },
  "language_info": {
   "codemirror_mode": {
    "name": "ipython",
    "version": 3
   },
   "file_extension": ".py",
   "mimetype": "text/x-python",
   "name": "python",
   "nbconvert_exporter": "python",
   "pygments_lexer": "ipython3",
   "version": "3.8.10"
  }
 },
 "nbformat": 4,
 "nbformat_minor": 2
}