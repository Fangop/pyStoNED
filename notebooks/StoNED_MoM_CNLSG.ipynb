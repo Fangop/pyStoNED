{
 "metadata": {
  "language_info": {
   "codemirror_mode": {
    "name": "ipython",
    "version": 3
   },
   "file_extension": ".py",
   "mimetype": "text/x-python",
   "name": "python",
   "nbconvert_exporter": "python",
   "pygments_lexer": "ipython3",
   "version": "3.8.5"
  },
  "orig_nbformat": 2,
  "kernelspec": {
   "name": "python385jvsc74a57bd094a1946ca23e1f569e799abdffc00c9e53ed85c926ab87b3c18579d13d535572",
   "display_name": "Python 3.8.5 64-bit ('base': conda)"
  }
 },
 "nbformat": 4,
 "nbformat_minor": 2,
 "cells": [
  {
   "source": [
    "# StoNED: Method of Moment (CNLSG model)"
   ],
   "cell_type": "markdown",
   "metadata": {}
  },
  {
   "cell_type": "code",
   "execution_count": 1,
   "metadata": {},
   "outputs": [],
   "source": [
    "# import packages\n",
    "from pystoned import CNLSG, StoNED\n",
    "from pystoned.dataset import load_Finnish_electricity_firm\n",
    "from pystoned.constant import CET_MULT, FUN_COST, RTS_VRS, RED_MOM"
   ]
  },
  {
   "cell_type": "code",
   "execution_count": 2,
   "metadata": {},
   "outputs": [],
   "source": [
    "# import Finnish electricity distribution firms data\n",
    "data = load_Finnish_electricity_firm(x_select=['OPEX', 'CAPEX'], y_select=['Energy'])"
   ]
  },
  {
   "cell_type": "code",
   "execution_count": 4,
   "metadata": {},
   "outputs": [
    {
     "output_type": "stream",
     "name": "stdout",
     "text": [
      "Estimating the multiplicative model remotely with knitro solver\n",
      "Estimating the multiplicative model remotely with knitro solver\n",
      "Genetic Algorithm Convergence : 104.631574\n",
      "Estimating the multiplicative model remotely with knitro solver\n",
      "Genetic Algorithm Convergence : 79.062376\n",
      "Estimating the multiplicative model remotely with knitro solver\n",
      "Genetic Algorithm Convergence : 47.504207\n",
      "Estimating the multiplicative model remotely with knitro solver\n",
      "Genetic Algorithm Convergence : 31.715796\n",
      "Estimating the multiplicative model remotely with knitro solver\n",
      "Genetic Algorithm Convergence : 240.932319\n",
      "Estimating the multiplicative model remotely with knitro solver\n",
      "Genetic Algorithm Convergence : 27.048077\n",
      "Estimating the multiplicative model remotely with knitro solver\n",
      "Genetic Algorithm Convergence : 14.984438\n",
      "Estimating the multiplicative model remotely with knitro solver\n",
      "Genetic Algorithm Convergence : 4.709631\n",
      "Estimating the multiplicative model remotely with knitro solver\n",
      "Genetic Algorithm Convergence : 2.416562\n",
      "Estimating the multiplicative model remotely with knitro solver\n",
      "Genetic Algorithm Convergence : 3.688255\n",
      "Estimating the multiplicative model remotely with knitro solver\n",
      "Genetic Algorithm Convergence : 3.165132\n",
      "Estimating the multiplicative model remotely with knitro solver\n",
      "Genetic Algorithm Convergence : 0.607771\n",
      "Estimating the multiplicative model remotely with knitro solver\n",
      "Genetic Algorithm Convergence : 0.000000\n"
     ]
    }
   ],
   "source": [
    "# build and optimize the CNLS model\n",
    "model = CNLSG.CNLSG(data.y, data.x, z=None, cet=CET_MULT, fun=FUN_COST, rts=RTS_VRS)\n",
    "model.optimize('email@address')"
   ]
  },
  {
   "cell_type": "code",
   "execution_count": 5,
   "metadata": {},
   "outputs": [
    {
     "output_type": "stream",
     "name": "stdout",
     "text": [
      "[1.22736008 1.24956946 1.15867539 1.10080881 1.12300487 1.43842304\n 1.11314886 1.20344303 1.24704826 1.41017417 1.24129413 1.20175469\n 1.18806708 1.12914084 1.17620452 1.30998319 1.19027587 1.13033505\n 1.11388754 1.1903552  1.27648647 1.54060231 1.1649578  1.23831935\n 1.22736967 1.17180541 1.12619292 1.09671544 1.80557274 1.19659165\n 1.20524259 1.50737422 1.29834893 1.19133709 1.1597145  1.07370749\n 1.11971215 1.28314905 1.29330482 1.17025781 1.21819993 1.12661488\n 1.14715566 1.28003087 1.30386294 1.0992807  1.1738428  1.14120626\n 1.16892941 1.33777431 1.26356577 1.19801311 1.26527159 1.23063856\n 1.23480722 1.39899192 1.42952627 1.42141719 1.31165081 1.09417592\n 1.25386725 1.09589741 1.3636162  1.2052553  1.16201673 1.15099807\n 1.26193071 1.14234351 1.21000942 1.20033077 1.1393845  1.2316076\n 1.3570453  1.161872   1.35543908 1.14074727 1.24362632 1.17258806\n 1.19736756 1.15186012 1.27024465 1.33906619 1.13072897 1.14212072\n 1.16630537 1.32674141 1.32317628 1.12552156 1.24395279]\n"
     ]
    }
   ],
   "source": [
    "# Residual decomposition\n",
    "rd = StoNED.StoNED(model)\n",
    "print(rd.get_technical_inefficiency(RED_MOM))"
   ]
  },
  {
   "cell_type": "code",
   "execution_count": 6,
   "metadata": {},
   "outputs": [
    {
     "output_type": "stream",
     "name": "stdout",
     "text": [
      "[  57.41463835   44.95013584   74.2549499   891.10630732   30.4412565\n  153.12845224   52.65153501  139.78687534   71.47112261  109.8139072\n 1628.84406322 5422.15768363  100.26457788  147.16539023 3211.05317806\n  261.43388949   36.59016239   66.08003145   73.8411386   217.78429049\n  134.58001128   90.59333677   15.79252232  364.17949596   40.57200865\n   86.04473345   83.06784492 1327.37152768   41.34970028  137.67235534\n   59.36304894  255.20314454  196.08244046  175.55316058   93.85780213\n  278.89872153  196.51071219   49.18535403   26.40485674  439.02005067\n  357.61923952   25.41545089 1232.00143045   57.63989163   64.66769855\n   33.00562981  444.18329537   17.45195654  288.31158865  633.3603321\n   27.39294822  185.26469182   68.57634487  264.17941553   57.8444483\n  546.32589441  211.35690996   69.16213692   87.93419973  161.03893256\n   15.79252231 1340.39120087  435.79850637  307.37542371   89.2554145\n   42.25400632  167.06716178  449.31455191  213.3806159   260.70655374\n 1657.75555744  202.95002576  972.87480445   34.78221461   93.18423791\n  201.64420472  838.91255584   17.1606092   655.1067133   286.86325645\n   94.83933579  776.8819909   227.02122409 4932.22854048  286.5188017\n   17.35484075   18.71446174   16.67503027   77.14035467]\n"
     ]
    }
   ],
   "source": [
    "# return the StoNED frontier\n",
    "print(rd.get_frontier(RED_MOM))"
   ]
  }
 ]
}