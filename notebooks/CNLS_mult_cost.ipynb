{
 "cells": [
  {
   "cell_type": "markdown",
   "metadata": {},
   "source": [
    "## Cost function: Multiplicative model"
   ]
  },
  {
   "cell_type": "markdown",
   "metadata": {},
   "source": [
    "Similarly, we consider the follwing muliplicatiive cost models:\n",
    "\n",
    "1. VRS model:\n",
    "\n",
    "    \\begin{align*}\n",
    "        & \\underset{\\alpha, \\beta, \\varepsilon} {min} \\sum_{i=1}^n\\varepsilon_i^2 \\\\\n",
    "        & \\text{s.t.} \\\\\n",
    "        &  \\text{ln}y_i = \\text{ln}(\\phi_i+1) + \\varepsilon_i  \\quad \\forall i\\\\\n",
    "        & \\phi_i  = \\alpha_i+\\beta_i^{'}X_i -1 \\quad \\forall i \\\\\n",
    "        &  \\alpha_i + \\beta_i^{'}X_i \\ge \\alpha_j + \\beta_j^{'}X_i  \\quad  \\forall i, j\\\\\n",
    "        &  \\beta_i \\ge 0 \\quad  \\forall i \\\\\n",
    "    \\end{align*}\n",
    "\n",
    "\n",
    "2. CRS model:\n",
    "\n",
    "    \\begin{align*}\n",
    "        & \\underset{\\alpha, \\beta, \\varepsilon} {min} \\sum_{i=1}^n\\varepsilon_i^2 \\\\\n",
    "        & \\text{s.t.} \\\\\n",
    "        &  \\text{ln}y_i = \\text{ln}(\\phi_i+1) + \\varepsilon_i  \\quad \\forall i\\\\\n",
    "        &   \\phi_i  = \\beta_i^{'}X_i -1 \\quad \\forall i \\\\\n",
    "        &  \\beta_i^{'}X_i \\ge \\beta_j^{'}X_i  \\quad  \\forall i, j\\\\\n",
    "        &  \\beta_i \\ge 0 \\quad  \\forall i \\\\\n",
    "    \\end{align*}\n",
    "\n",
    "where $\\phi_i+1$ is the CNLS estimator of $E(y_i|x_i)$. The value of one is added here to make sure that the computational algorithms do not try to take logarithm of zero. The first equality can be interpreted as the log transformed regression equation (using the natural logarithm function $ln(.)$). The rest of constraints \n",
    "are similar to additive production function model. The use of $\\phi_i$ allows the estimation of a multiplicative relationship between output and input while assuring convexity of the production possibility set in original input-output space."
   ]
  },
  {
   "cell_type": "code",
   "execution_count": 1,
   "metadata": {},
   "outputs": [],
   "source": [
    "# import packages\n",
    "from pystoned import CNLS\n",
    "from pystoned.constant import CET_MULT, FUN_PROD, FUN_COST, OPT_LOCAL, RTS_VRS, RTS_CRS\n",
    "from pystoned.dataset import load_Finnish_electricity_firm"
   ]
  },
  {
   "cell_type": "code",
   "execution_count": 3,
   "metadata": {},
   "outputs": [],
   "source": [
    "# import Finnish electricity distribution firms data\n",
    "data = load_Finnish_electricity_firm(x_select=['Energy', 'Length', 'Customers'],\n",
    "                                        y_select=['TOTEX'])"
   ]
  },
  {
   "cell_type": "code",
   "execution_count": 4,
   "metadata": {},
   "outputs": [
    {
     "name": "stdout",
     "output_type": "stream",
     "text": [
      "Estimating the multiplicative model remotely with knitro solver\n"
     ]
    }
   ],
   "source": [
    "# define and solve the Multiplicative CNLS_vrs model\n",
    "model1 = CNLS.CNLS(y=data.y, x=data.x, z=None, cet = CET_MULT, fun = FUN_COST, rts = RTS_VRS)\n",
    "model1.optimize('email@address')"
   ]
  },
  {
   "cell_type": "code",
   "execution_count": 5,
   "metadata": {},
   "outputs": [
    {
     "name": "stdout",
     "output_type": "stream",
     "text": [
      "Estimating the multiplicative model remotely with knitro solver\n"
     ]
    }
   ],
   "source": [
    "# define and solve the Multiplicative CNLS_crs model\n",
    "model2 = CNLS.CNLS(y=data.y, x=data.x, z=None, cet = CET_MULT, fun = FUN_COST, rts = RTS_CRS)\n",
    "model2.optimize('email@address')"
   ]
  },
  {
   "cell_type": "code",
   "execution_count": 6,
   "metadata": {},
   "outputs": [
    {
     "name": "stdout",
     "output_type": "stream",
     "text": [
      "epsilon : residual\n",
      "    Size=89, Index=I\n",
      "    Key : Lower : Value                 : Upper : Fixed : Stale : Domain\n",
      "      0 :  None :   0.03795367428994332 :  None : False : False :  Reals\n",
      "      1 :  None :  0.030099796252526297 :  None : False : False :  Reals\n",
      "      2 :  None :   0.17819447919537312 :  None : False : False :  Reals\n",
      "      3 :  None :   0.05112985950892469 :  None : False : False :  Reals\n",
      "      4 :  None :   0.14101297574531713 :  None : False : False :  Reals\n",
      "      5 :  None :  -0.09569270396991976 :  None : False : False :  Reals\n",
      "      6 :  None : -0.005064620005319979 :  None : False : False :  Reals\n",
      "      7 :  None :    0.1473777171391338 :  None : False : False :  Reals\n",
      "      8 :  None :    0.3616356248626073 :  None : False : False :  Reals\n",
      "      9 :  None : -0.025806887890234602 :  None : False : False :  Reals\n",
      "     10 :  None : 0.0015072645221145837 :  None : False : False :  Reals\n",
      "     11 :  None : -0.024227755374174268 :  None : False : False :  Reals\n",
      "     12 :  None :   0.22234985876794577 :  None : False : False :  Reals\n",
      "     13 :  None :    0.2628888974906076 :  None : False : False :  Reals\n",
      "     14 :  None : -0.019533379269914632 :  None : False : False :  Reals\n",
      "     15 :  None :  -0.08507402808928481 :  None : False : False :  Reals\n",
      "     16 :  None :   0.14814722942965491 :  None : False : False :  Reals\n",
      "     17 :  None :    0.1354118124350213 :  None : False : False :  Reals\n",
      "     18 :  None : 0.0028071998069033647 :  None : False : False :  Reals\n",
      "     19 :  None : -0.058548927122207606 :  None : False : False :  Reals\n",
      "     20 :  None :  -0.07049673620381615 :  None : False : False :  Reals\n",
      "     21 :  None :  -0.26239043123702244 :  None : False : False :  Reals\n",
      "     22 :  None :  -0.09642359230650702 :  None : False : False :  Reals\n",
      "     23 :  None :  -0.10605864015145058 :  None : False : False :  Reals\n",
      "     24 :  None :   0.11995325889010229 :  None : False : False :  Reals\n",
      "     25 :  None :   0.06918205503695977 :  None : False : False :  Reals\n",
      "     26 :  None :   0.24335136160824203 :  None : False : False :  Reals\n",
      "     27 :  None :  -0.11929098848740306 :  None : False : False :  Reals\n",
      "     28 :  None :   0.06601105038996928 :  None : False : False :  Reals\n",
      "     29 :  None :  0.021077005992911336 :  None : False : False :  Reals\n",
      "     30 :  None :  -0.01435267307346776 :  None : False : False :  Reals\n",
      "     31 :  None :   -0.3238699730397439 :  None : False : False :  Reals\n",
      "     32 :  None : -0.035905895899498656 :  None : False : False :  Reals\n",
      "     33 :  None :   0.17316766011375717 :  None : False : False :  Reals\n",
      "     34 :  None :   0.03141953432078609 :  None : False : False :  Reals\n",
      "     35 :  None :    0.2123908215335336 :  None : False : False :  Reals\n",
      "     36 :  None :  -0.16065339707247814 :  None : False : False :  Reals\n",
      "     37 :  None :  -0.15000483935267922 :  None : False : False :  Reals\n",
      "     38 :  None :  -0.13875793700746886 :  None : False : False :  Reals\n",
      "     39 :  None : -0.008719723169908678 :  None : False : False :  Reals\n",
      "     40 :  None :  -0.08346136455316314 :  None : False : False :  Reals\n",
      "     41 :  None : -0.013627596600303975 :  None : False : False :  Reals\n",
      "     42 :  None :    0.0934325312783454 :  None : False : False :  Reals\n",
      "     43 :  None :  -0.06348273915897369 :  None : False : False :  Reals\n",
      "     44 :  None :  -0.09588830325459173 :  None : False : False :  Reals\n",
      "     45 :  None :  -0.12775853925561947 :  None : False : False :  Reals\n",
      "     46 :  None :  0.053820769275050404 :  None : False : False :  Reals\n",
      "     47 :  None :  -0.04385437451218799 :  None : False : False :  Reals\n",
      "     48 :  None :  -0.09121956866847175 :  None : False : False :  Reals\n",
      "     49 :  None :  -0.11361483178794232 :  None : False : False :  Reals\n",
      "     50 :  None :   0.16718402432029641 :  None : False : False :  Reals\n",
      "     51 :  None :   0.01858908887949844 :  None : False : False :  Reals\n",
      "     52 :  None :   0.17782509609793548 :  None : False : False :  Reals\n",
      "     53 :  None :   0.22957220202081596 :  None : False : False :  Reals\n",
      "     54 :  None :  0.040931398574032725 :  None : False : False :  Reals\n",
      "     55 :  None :   -0.1771257175120854 :  None : False : False :  Reals\n",
      "     56 :  None :   -0.1881877940665298 :  None : False : False :  Reals\n",
      "     57 :  None :  -0.06558943408509658 :  None : False : False :  Reals\n",
      "     58 :  None :  -0.16493602019495765 :  None : False : False :  Reals\n",
      "     59 :  None :   0.06786508993420784 :  None : False : False :  Reals\n",
      "     60 :  None :   -0.4328895236441886 :  None : False : False :  Reals\n",
      "     61 :  None :   -0.0174516440840462 :  None : False : False :  Reals\n",
      "     62 :  None : -0.007640936099916194 :  None : False : False :  Reals\n",
      "     63 :  None :   0.05189995015010069 :  None : False : False :  Reals\n",
      "     64 :  None :   0.31142829012744555 :  None : False : False :  Reals\n",
      "     65 :  None :  -0.08508251590727994 :  None : False : False :  Reals\n",
      "     66 :  None :   0.09204175356883058 :  None : False : False :  Reals\n",
      "     67 :  None :   0.00634730795504178 :  None : False : False :  Reals\n",
      "     68 :  None :   0.08194350029992122 :  None : False : False :  Reals\n",
      "     69 :  None :  -0.18769602433667423 :  None : False : False :  Reals\n",
      "     70 :  None : 0.0030671083682962956 :  None : False : False :  Reals\n",
      "     71 :  None :   0.08453715589487884 :  None : False : False :  Reals\n",
      "     72 :  None :  -0.16018079637510557 :  None : False : False :  Reals\n",
      "     73 :  None :  -0.11064259926561185 :  None : False : False :  Reals\n",
      "     74 :  None :  -0.09217289421616505 :  None : False : False :  Reals\n",
      "     75 :  None :  0.012945199137327067 :  None : False : False :  Reals\n",
      "     76 :  None :  0.010051068100317034 :  None : False : False :  Reals\n",
      "     77 :  None :   0.08147867082182919 :  None : False : False :  Reals\n",
      "     78 :  None :  0.009012975295123809 :  None : False : False :  Reals\n",
      "     79 :  None :  -0.01770406268000186 :  None : False : False :  Reals\n",
      "     80 :  None : -0.041699608290397906 :  None : False : False :  Reals\n",
      "     81 :  None :  -0.07064403099694228 :  None : False : False :  Reals\n",
      "     82 :  None : -0.060203369498919246 :  None : False : False :  Reals\n",
      "     83 :  None :  0.005645337465847157 :  None : False : False :  Reals\n",
      "     84 :  None :   0.04996837756360454 :  None : False : False :  Reals\n",
      "     85 :  None :  -0.11442525878362607 :  None : False : False :  Reals\n",
      "     86 :  None :  0.005135878657062562 :  None : False : False :  Reals\n",
      "     87 :  None :   0.06779444707858785 :  None : False : False :  Reals\n",
      "     88 :  None :   0.04860152062781719 :  None : False : False :  Reals\n",
      "None\n"
     ]
    }
   ],
   "source": [
    "# print residuals in the VRS model\n",
    "print(model1.display_residual())"
   ]
  },
  {
   "cell_type": "code",
   "execution_count": 7,
   "metadata": {},
   "outputs": [
    {
     "name": "stdout",
     "output_type": "stream",
     "text": [
      "epsilon : residual\n",
      "    Size=89, Index=I\n",
      "    Key : Lower : Value                  : Upper : Fixed : Stale : Domain\n",
      "      0 :  None :    0.03591704717267953 :  None : False : False :  Reals\n",
      "      1 :  None :   0.026035484542682643 :  None : False : False :  Reals\n",
      "      2 :  None :    0.20219661941345635 :  None : False : False :  Reals\n",
      "      3 :  None : -0.0045179666249699265 :  None : False : False :  Reals\n",
      "      4 :  None :     0.1743005220320725 :  None : False : False :  Reals\n",
      "      5 :  None :   -0.11912248826002586 :  None : False : False :  Reals\n",
      "      6 :  None :  -0.011301337924798364 :  None : False : False :  Reals\n",
      "      7 :  None :    0.11921720099425545 :  None : False : False :  Reals\n",
      "      8 :  None :     0.3736984392690635 :  None : False : False :  Reals\n",
      "      9 :  None :   -0.04018422502166597 :  None : False : False :  Reals\n",
      "     10 :  None :   0.023039552309336752 :  None : False : False :  Reals\n",
      "     11 :  None :    -0.0777953929762331 :  None : False : False :  Reals\n",
      "     12 :  None :    0.24790125238774152 :  None : False : False :  Reals\n",
      "     13 :  None :     0.2596200669540639 :  None : False : False :  Reals\n",
      "     14 :  None :   -0.02513006093833979 :  None : False : False :  Reals\n",
      "     15 :  None :   -0.14458385123384998 :  None : False : False :  Reals\n",
      "     16 :  None :     0.1949539829970314 :  None : False : False :  Reals\n",
      "     17 :  None :    0.16927398014579115 :  None : False : False :  Reals\n",
      "     18 :  None :   -0.01384278354947081 :  None : False : False :  Reals\n",
      "     19 :  None :   -0.09871992745123907 :  None : False : False :  Reals\n",
      "     20 :  None :     -0.126965366209655 :  None : False : False :  Reals\n",
      "     21 :  None :    -0.2605131617033169 :  None : False : False :  Reals\n",
      "     22 :  None :     0.1870139606106983 :  None : False : False :  Reals\n",
      "     23 :  None :   -0.09403670735330362 :  None : False : False :  Reals\n",
      "     24 :  None :     0.1215275887566145 :  None : False : False :  Reals\n",
      "     25 :  None :    0.06493156283998495 :  None : False : False :  Reals\n",
      "     26 :  None :    0.24369436539421457 :  None : False : False :  Reals\n",
      "     27 :  None :   -0.19088082648066615 :  None : False : False :  Reals\n",
      "     28 :  None :    0.10527360615077878 :  None : False : False :  Reals\n",
      "     29 :  None :   0.027718400318067365 :  None : False : False :  Reals\n",
      "     30 :  None : -0.0015586774299809632 :  None : False : False :  Reals\n",
      "     31 :  None :    -0.4311354052895594 :  None : False : False :  Reals\n",
      "     32 :  None :   -0.04509779697483499 :  None : False : False :  Reals\n",
      "     33 :  None :    0.21595498648320027 :  None : False : False :  Reals\n",
      "     34 :  None :  -0.004019776841513714 :  None : False : False :  Reals\n",
      "     35 :  None :    0.15996072958531807 :  None : False : False :  Reals\n",
      "     36 :  None :   -0.21593312348348623 :  None : False : False :  Reals\n",
      "     37 :  None :   -0.15266743137864436 :  None : False : False :  Reals\n",
      "     38 :  None :   -0.11504899556022168 :  None : False : False :  Reals\n",
      "     39 :  None :   -0.03704671454023573 :  None : False : False :  Reals\n",
      "     40 :  None :    -0.0482515340293333 :  None : False : False :  Reals\n",
      "     41 :  None :    0.04513426259413777 :  None : False : False :  Reals\n",
      "     42 :  None :    0.06501278810371704 :  None : False : False :  Reals\n",
      "     43 :  None :    -0.0618406580082286 :  None : False : False :  Reals\n",
      "     44 :  None :   -0.08923651353686513 :  None : False : False :  Reals\n",
      "     45 :  None :   -0.13083338901721636 :  None : False : False :  Reals\n",
      "     46 :  None :   0.027324350026388822 :  None : False : False :  Reals\n",
      "     47 :  None :    0.08403226107111847 :  None : False : False :  Reals\n",
      "     48 :  None :     -0.137313144453932 :  None : False : False :  Reals\n",
      "     49 :  None :   -0.13258987122582686 :  None : False : False :  Reals\n",
      "     50 :  None :    0.19606224336452097 :  None : False : False :  Reals\n",
      "     51 :  None :  -0.022727172327686312 :  None : False : False :  Reals\n",
      "     52 :  None :    0.20040744543403075 :  None : False : False :  Reals\n",
      "     53 :  None :    0.19989379992767878 :  None : False : False :  Reals\n",
      "     54 :  None :   0.042871532784555424 :  None : False : False :  Reals\n",
      "     55 :  None :   -0.21797092377325755 :  None : False : False :  Reals\n",
      "     56 :  None :   -0.22973008338347084 :  None : False : False :  Reals\n",
      "     57 :  None :   -0.08861547168005503 :  None : False : False :  Reals\n",
      "     58 :  None :   -0.19033982160784035 :  None : False : False :  Reals\n",
      "     59 :  None :   0.020233546412917594 :  None : False : False :  Reals\n",
      "     60 :  None :   -0.21417276043588213 :  None : False : False :  Reals\n",
      "     61 :  None :    -0.0803789798711226 :  None : False : False :  Reals\n",
      "     62 :  None :  -0.035759452547876026 :  None : False : False :  Reals\n",
      "     63 :  None :   0.015523992228319426 :  None : False : False :  Reals\n",
      "     64 :  None :     0.3659391611596937 :  None : False : False :  Reals\n",
      "     65 :  None :   -0.10950723326978662 :  None : False : False :  Reals\n",
      "     66 :  None :    0.08123883851981689 :  None : False : False :  Reals\n",
      "     67 :  None :  -0.048854681000159134 :  None : False : False :  Reals\n",
      "     68 :  None :      0.082178552028299 :  None : False : False :  Reals\n",
      "     69 :  None :   -0.23932799224880497 :  None : False : False :  Reals\n",
      "     70 :  None :   -0.04868088475779095 :  None : False : False :  Reals\n",
      "     71 :  None :    0.08118297420539017 :  None : False : False :  Reals\n",
      "     72 :  None :    -0.1928829421129328 :  None : False : False :  Reals\n",
      "     73 :  None :   -0.09633579403739102 :  None : False : False :  Reals\n",
      "     74 :  None :     -0.087733028883703 :  None : False : False :  Reals\n",
      "     75 :  None :  -0.041012111554442926 :  None : False : False :  Reals\n",
      "     76 :  None :  -0.012189766457848545 :  None : False : False :  Reals\n",
      "     77 :  None :    0.17398609634796858 :  None : False : False :  Reals\n",
      "     78 :  None :  -0.015222244374543755 :  None : False : False :  Reals\n",
      "     79 :  None :  -0.060237097274469506 :  None : False : False :  Reals\n",
      "     80 :  None :    -0.0451992624636515 :  None : False : False :  Reals\n",
      "     81 :  None :   -0.09176905278451342 :  None : False : False :  Reals\n",
      "     82 :  None :   -0.11527209132705149 :  None : False : False :  Reals\n",
      "     83 :  None :    0.03226917690066403 :  None : False : False :  Reals\n",
      "     84 :  None : -0.0006124509845649502 :  None : False : False :  Reals\n",
      "     85 :  None :  -0.020518690964472727 :  None : False : False :  Reals\n",
      "     86 :  None :     0.0980378685219775 :  None : False : False :  Reals\n",
      "     87 :  None :    0.27427407993107755 :  None : False : False :  Reals\n",
      "     88 :  None :    0.07738478945809676 :  None : False : False :  Reals\n",
      "None\n"
     ]
    }
   ],
   "source": [
    "# print residuals in the CRS model\n",
    "print(model2.display_residual())"
   ]
  }
 ],
 "metadata": {
  "kernelspec": {
   "display_name": "Python 3",
   "language": "python",
   "name": "python3"
  },
  "language_info": {
   "codemirror_mode": {
    "name": "ipython",
    "version": 3
   },
   "file_extension": ".py",
   "mimetype": "text/x-python",
   "name": "python",
   "nbconvert_exporter": "python",
   "pygments_lexer": "ipython3",
   "version": "3.8.8"
  }
 },
 "nbformat": 4,
 "nbformat_minor": 4
}