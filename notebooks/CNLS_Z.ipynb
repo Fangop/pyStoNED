{
 "cells": [
  {
   "cell_type": "markdown",
   "metadata": {},
   "source": [
    "# CNLS with Z variables"
   ]
  },
  {
   "cell_type": "markdown",
   "metadata": {},
   "source": [
    "In practice, a firm’s ability to operate efficiently often depends on operational conditions \n",
    "and practices, such as the production environment and the firm specific \n",
    "characteristics for  example  technology  selection  or  managerial  \n",
    "practices.  Banker  and  Natarajan (2008) refer to both variables that \n",
    "characterize operational conditions and practices as `contextual variables`.\n",
    "\n",
    "* Contextual variables are often (but not always) **external factors** that are beyond the control of firms\n",
    "\n",
    "    - Examples: competition, regulation, weather, location\n",
    "\n",
    "    - Need to adjust efficiency estimates for operating environment\n",
    "\n",
    "    - Policy makers may influence the operating environment\n",
    "\n",
    "* Contextual variables can also be **internal factors**\n",
    "\n",
    "    - Examples: management practices, ownership\n",
    "    \n",
    "    - Better understanding of the impacts of internal factors can help the firm to improve performance\n",
    "\n",
    "\n",
    "By introducing the contextual variables $z_i$, the multiplicative model (2.5)\n",
    "is reformulated as an partial log-linear model to take the operational conditions and \n",
    "practices into account.\n",
    "\n",
    "    \\begin{align*}\n",
    "    \\ln y_i = \\ln f(\\boldsymbol{x_i}) + \\boldsymbol{\\delta}^{'}\\boldsymbol{z}_i + v_i - u_i\n",
    "    \\end{align*}\n",
    "\n",
    "where parameter vector $\\boldsymbol{\\delta}=(\\delta_1...\\delta_r)$ represents the marginal effects of contextual variables on output. All other variables maintain their previous definitions. Further, we can also introduce the contextual variables to additive model. In this section, we take the multiplicative production model as our stating point.\n",
    "\n",
    "Following Johnson and Kuosmanen (2011), we incorporate the contextual variables in the \n",
    "multiplicative CNLS estimation and redefine it as follows:\n",
    "\n",
    "   \\begin{align*}\n",
    "        & \\underset{\\alpha, \\beta, \\varepsilon} {min} \\sum_{i=1}^n\\varepsilon_i^2 \\\\\n",
    "        & \\text{s.t.} \\\\\n",
    "        &  \\text{ln} y_i = \\text{ln}(\\phi_i+1) + \\delta^{'}z_i + \\varepsilon_i  \\quad \\forall i\\\\\n",
    "        &   \\phi_i  = \\alpha_i + \\beta_i^{'}X_i -1 \\quad \\forall i \\\\\n",
    "        &  \\alpha_i + \\beta_i^{'}X_i \\le \\alpha_j + \\beta_j^{'}X_i  \\quad  \\forall i, j\\\\\n",
    "        &  \\beta_i \\ge 0 \\quad  \\forall i \\\\\n",
    "   \\end{align*}\n",
    "\n",
    "Denote by $\\boldsymbol{\\hat{\\delta}}$ the coefficients of the contextual variables obtained \n",
    "as the optimal solution to above nonlinear problem. Johnson and Kuosmanen (2011) examine the \n",
    "statistical properties of this estimator in detail, showing its unbiasedness, consistency, \n",
    "and asymptotic efficiency."
   ]
  },
  {
   "cell_type": "code",
   "execution_count": 10,
   "metadata": {},
   "outputs": [],
   "source": [
    "# import packages\n",
    "from pystoned import CNLS\n",
    "from pystoned.constant import CET_MULT, FUN_COST, RTS_CRS, RED_MOM\n",
    "from pystoned.dataset import load_Finnish_electricity_firm"
   ]
  },
  {
   "cell_type": "code",
   "execution_count": 11,
   "metadata": {},
   "outputs": [],
   "source": [
    "# import all data (including the contextual varibale)\n",
    "data = load_Finnish_electricity_firm(x_select=['Energy', 'Length', 'Customers'],                                                       y_select=['TOTEX'],\n",
    "                                     z_select=['PerUndGr'])"
   ]
  },
  {
   "cell_type": "code",
   "execution_count": 12,
   "metadata": {},
   "outputs": [
    {
     "output_type": "stream",
     "name": "stdout",
     "text": [
      "Estimating the multiplicative model remotely with knitro solver\n"
     ]
    }
   ],
   "source": [
    "# define and solve the CNLS-Z model\n",
    "model = CNLS.CNLS(y=data.y, x=data.x, z=data.z, cet = CET_MULT, fun = FUN_COST, rts = RTS_CRS) \n",
    "model.optimize('email@address')"
   ]
  },
  {
   "cell_type": "code",
   "execution_count": 13,
   "metadata": {},
   "outputs": [
    {
     "output_type": "stream",
     "name": "stdout",
     "text": [
      "lamda : z coefficient\n    Size=1, Index=K\n    Key : Lower : Value              : Upper : Fixed : Stale : Domain\n      0 :  None : 0.3609227173656651 :  None : False : False :  Reals\n"
     ]
    }
   ],
   "source": [
    "# display the coefficient of contextual variable\n",
    "model.display_lamda()"
   ]
  }
 ],
 "metadata": {
  "kernelspec": {
   "name": "python3",
   "display_name": "Python 3.8.10 64-bit ('base': conda)"
  },
  "language_info": {
   "codemirror_mode": {
    "name": "ipython",
    "version": 3
   },
   "file_extension": ".py",
   "mimetype": "text/x-python",
   "name": "python",
   "nbconvert_exporter": "python",
   "pygments_lexer": "ipython3",
   "version": "3.8.10"
  },
  "interpreter": {
   "hash": "97ae724bfa85b9b34df7982b8bb8c7216f435b92902d749e4263f71162bea840"
  }
 },
 "nbformat": 4,
 "nbformat_minor": 4
}