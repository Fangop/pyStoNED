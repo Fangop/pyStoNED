{
 "cells": [
  {
   "source": [
    "# StoNED: CNLSDDF"
   ],
   "cell_type": "markdown",
   "metadata": {}
  },
  {
   "cell_type": "code",
   "execution_count": 1,
   "metadata": {},
   "outputs": [],
   "source": [
    "# import packages\n",
    "from pystoned import CNLSDDF, StoNED\n",
    "from pystoned.constant import FUN_PROD, OPT_LOCAL, RED_KDE\n",
    "from pystoned import dataset as dataset"
   ]
  },
  {
   "cell_type": "code",
   "execution_count": 2,
   "metadata": {},
   "outputs": [],
   "source": [
    "# import the GHG example data\n",
    "data = dataset.load_GHG_abatement_cost()"
   ]
  },
  {
   "cell_type": "code",
   "execution_count": 3,
   "metadata": {},
   "outputs": [
    {
     "output_type": "stream",
     "name": "stdout",
     "text": [
      "Optimizing locally.\n",
      "Estimating the additive model locally with mosek solver\n",
      "Problem\n",
      "  Name                   :                 \n",
      "  Objective sense        : min             \n",
      "  Type                   : QO (quadratic optimization problem)\n",
      "  Constraints            : 28392           \n",
      "  Cones                  : 0               \n",
      "  Scalar variables       : 1008            \n",
      "  Matrix variables       : 0               \n",
      "  Integer variables      : 0               \n",
      "\n",
      "Optimizer started.\n",
      "Quadratic to conic reformulation started.\n",
      "Quadratic to conic reformulation terminated. Time: 0.02    \n",
      "Presolve started.\n",
      "Linear dependency checker started.\n",
      "Linear dependency checker terminated.\n",
      "Eliminator started.\n",
      "Freed constraints in eliminator : 0\n",
      "Eliminator terminated.\n",
      "Eliminator started.\n",
      "Freed constraints in eliminator : 0\n",
      "Eliminator terminated.\n",
      "Eliminator - tries                  : 2                 time                   : 0.00            \n",
      "Lin. dep.  - tries                  : 1                 time                   : 0.01            \n",
      "Lin. dep.  - number                 : 0               \n",
      "Presolve terminated. Time: 0.15    \n",
      "Problem\n",
      "  Name                   :                 \n",
      "  Objective sense        : min             \n",
      "  Type                   : QO (quadratic optimization problem)\n",
      "  Constraints            : 28392           \n",
      "  Cones                  : 0               \n",
      "  Scalar variables       : 1008            \n",
      "  Matrix variables       : 0               \n",
      "  Integer variables      : 0               \n",
      "\n",
      "Optimizer  - threads                : 4               \n",
      "Optimizer  - solved problem         : the dual        \n",
      "Optimizer  - Constraints            : 1008\n",
      "Optimizer  - Cones                  : 2\n",
      "Optimizer  - Scalar variables       : 29234             conic                  : 506             \n",
      "Optimizer  - Semi-definite variables: 0                 scalarized             : 0               \n",
      "Factor     - setup time             : 0.08              dense det. time        : 0.00            \n",
      "Factor     - ML order time          : 0.01              GP order time          : 0.00            \n",
      "Factor     - nonzeros before factor : 1.59e+05          after factor           : 1.59e+05        \n",
      "Factor     - dense dim.             : 2                 flops                  : 2.77e+07        \n",
      "ITE PFEAS    DFEAS    GFEAS    PRSTATUS   POBJ              DOBJ              MU       TIME  \n",
      "0   1.0e+00  1.0e+00  2.0e+00  0.00e+00   5.000000000e-01   0.000000000e+00   1.0e+00  0.36  \n",
      "1   9.3e-01  9.3e-01  1.9e+00  -9.77e-01  2.467100183e+00   8.387675890e-01   9.3e-01  0.60  \n",
      "2   9.3e-01  9.3e-01  2.0e+00  -1.19e+00  2.721917790e+00   1.001534729e+00   9.3e-01  0.64  \n",
      "3   9.0e-01  9.0e-01  1.8e+00  -9.98e-01  2.602109780e+00   9.570054421e-01   9.0e-01  0.68  \n",
      "4   7.7e-01  7.7e-01  1.7e+00  -1.02e+00  3.321255978e+00   1.721728313e+00   7.7e-01  0.75  \n",
      "5   4.9e-01  4.9e-01  1.4e+00  -1.01e+00  6.308996200e+01   6.297572868e+01   4.9e-01  0.85  \n",
      "6   2.3e-01  2.3e-01  9.4e-01  -1.01e+00  1.613050011e+03   1.745094357e+03   2.3e-01  0.97  \n",
      "7   1.1e-01  1.1e-01  6.7e-01  -1.01e+00  1.336029321e+04   1.445711293e+04   1.1e-01  1.00  \n",
      "8   5.6e-02  5.6e-02  4.7e-01  -1.01e+00  8.476163597e+04   9.139923378e+04   5.6e-02  1.04  \n",
      "9   1.5e-02  1.5e-02  2.6e-01  -1.04e+00  1.654828637e+06   1.783290118e+06   1.5e-02  1.08  \n",
      "10  1.0e-02  1.0e-02  2.1e-01  -1.08e+00  2.214355765e+06   2.448485898e+06   1.0e-02  1.11  \n",
      "11  5.2e-03  5.2e-03  1.6e-01  -1.07e+00  5.684700392e+06   6.468010019e+06   5.2e-03  1.15  \n",
      "12  3.1e-03  3.1e-03  1.3e-01  -1.11e+00  1.446069997e+07   1.680531556e+07   3.1e-03  1.20  \n",
      "13  1.8e-03  1.8e-03  1.1e-01  -1.27e+00  6.882138192e+07   8.062031159e+07   1.8e-03  1.25  \n",
      "14  4.8e-04  4.8e-04  1.7e-01  -1.62e+00  2.499470960e+10   3.291928528e+10   4.8e-04  1.29  \n",
      "15  3.7e-04  3.7e-04  9.9e-01  -1.10e+01  3.330316197e+12   9.636035855e+12   3.7e-04  1.31  \n",
      "16  2.4e-04  2.4e-04  5.0e-01  -1.39e+01  6.687017437e+11   2.444470744e+12   2.4e-04  1.35  \n",
      "17  4.2e-05  4.2e-05  2.3e-01  -1.10e+00  3.319566139e+13   1.217402506e+14   4.2e-05  1.39  \n",
      "18  5.5e-06  5.5e-06  8.9e-02  -1.02e+00  2.620364341e+15   9.590359100e+15   5.5e-06  1.43  \n",
      "19  7.0e-07  7.0e-07  2.5e-02  -8.07e-01  6.671589234e+16   2.425204596e+17   7.0e-07  1.50  \n",
      "20  1.5e-07  3.3e-07  7.6e-03  -4.39e-01  2.594647168e+17   9.247663437e+17   1.5e-07  1.58  \n",
      "21  5.2e-08  1.7e-07  2.8e-03  -4.12e-01  3.698686722e+17   1.262352280e+18   5.2e-08  1.64  \n",
      "22  2.5e-08  7.5e-08  8.0e-04  3.66e-01   7.150567634e+16   2.040866895e+17   2.5e-08  1.74  \n",
      "23  3.3e-09  3.2e-08  2.2e-05  8.40e-01   5.526075904e+15   6.789086191e+15   3.3e-09  1.80  \n",
      "24  2.8e-09  2.7e-08  1.7e-05  2.62e+00   4.070081841e+15   4.930107765e+15   2.8e-09  1.90  \n",
      "25  2.8e-09  2.7e-08  1.7e-05  1.92e+00   4.026873386e+15   4.867825620e+15   2.8e-09  2.01  \n",
      "26  2.8e-09  2.7e-08  1.6e-05  1.90e+00   4.021519283e+15   4.860092249e+15   2.8e-09  2.11  \n",
      "27  2.8e-09  2.7e-08  1.6e-05  1.83e+00   4.021519283e+15   4.860092249e+15   2.8e-09  2.19  \n",
      "28  2.8e-09  2.7e-08  1.6e-05  1.83e+00   4.021519283e+15   4.860092249e+15   2.8e-09  2.27  \n",
      "Optimizer terminated. Time: 2.47    \n",
      "\n",
      "\n",
      "Interior-point solution summary\n",
      "  Problem status  : UNKNOWN\n",
      "  Solution status : UNKNOWN\n",
      "  Primal.  obj: 3.3242525114e+15    nrm: 3e+08    Viol.  con: 4e-02    var: 0e+00  \n",
      "  Dual.    obj: 5.5176827288e+15    nrm: 2e+15    Viol.  con: 3e+06    var: 2e+15  \n",
      "WARNING: Loading a SolverResults object with a warning status into\n",
      "    model.name=\"unknown\";\n",
      "      - termination condition: unknown\n",
      "      - message from solver:  Optimization terminated with rescode.trm_stall\n",
      "        response code.Check MOSEK response code documentation for more\n",
      "        information. The solution status is unknown.\n"
     ]
    }
   ],
   "source": [
    "# define and solve the CNLS-DDF model\n",
    "model = CNLSDDF.CNLSDDF(y=data.y, x=data.x, b=data.b, fun=FUN_PROD, gx=[0.0, 0.0], gb=-1.0, gy=1.0)\n",
    "model.optimize(OPT_LOCAL)"
   ]
  },
  {
   "cell_type": "code",
   "execution_count": 5,
   "metadata": {},
   "outputs": [
    {
     "output_type": "stream",
     "name": "stdout",
     "text": [
      "-5.121324079046201e-15\n"
     ]
    }
   ],
   "source": [
    "# Residual decomposition\n",
    "rd = StoNED.StoNED(model)\n",
    "print(rd.get_unconditional_expected_inefficiency(RED_KDE))"
   ]
  }
 ],
 "metadata": {
  "kernelspec": {
   "name": "python385jvsc74a57bd094a1946ca23e1f569e799abdffc00c9e53ed85c926ab87b3c18579d13d535572",
   "display_name": "Python 3.8.5 64-bit ('base': conda)"
  }
 },
 "nbformat": 4,
 "nbformat_minor": 4
}