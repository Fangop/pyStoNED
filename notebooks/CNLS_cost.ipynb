{
 "cells": [
  {
   "cell_type": "markdown",
   "metadata": {},
   "source": [
    "## Cost function: Additive model"
   ]
  },
  {
   "cell_type": "markdown",
   "metadata": {},
   "source": [
    "We now consider the `CNLS` builds upon the assumption that the true but unknown cost function $f$ belongs to the set of continuous, monotonic increasing and globally convex functions, imposing exactly the same production axioms as standard DEA. "
   ]
  },
  {
   "cell_type": "markdown",
   "metadata": {},
   "source": [
    "+ The multivariate `CNLS` formulation is defined as:\n",
    "\n",
    "\\begin{align*}\n",
    "& \\underset{\\alpha, \\beta, \\varepsilon} {min} \\sum_{i=1}^n\\varepsilon_i^2 \\\\\n",
    "& \\text{s.t.} \\\\\n",
    "&  y_i = \\alpha_i + \\beta_i^{'}X_i + \\varepsilon_i \\quad \\forall i \\\\\n",
    "&  \\alpha_i + \\beta_i^{'}X_i \\ge \\alpha_j + \\beta_j^{'}X_i  \\quad  \\forall i, j\\\\\n",
    "&  \\beta_i \\ge 0 \\quad  \\forall i \\\\\n",
    "\\end{align*}"
   ]
  },
  {
   "cell_type": "markdown",
   "metadata": {},
   "source": [
    "   where $\\alpha_i$ and $\\beta_i$ define the intercept and slope parameters of tangent hyperplanes that characterize the estimated piece-wise linear frontier. $\\varepsilon_i$ denotes the CNLS residuals. The first constraint can be interpreted as a multivariate regression equation, the second constraint imposes concavity, and the third constraint imposes monotonicity."
   ]
  },
  {
   "cell_type": "code",
   "execution_count": 7,
   "metadata": {},
   "outputs": [],
   "source": [
    "# import packages\n",
    "from pystoned import CNLS\n",
    "from pystoned.constant import CET_ADDI, FUN_COST, OPT_LOCAL, RTS_VRS\n",
    "from pystoned.dataset import load_Finnish_electricity_firm"
   ]
  },
  {
   "cell_type": "code",
   "execution_count": 8,
   "metadata": {},
   "outputs": [],
   "source": [
    "# import Finnish electricity distribution firms data\n",
    "data = load_Finnish_electricity_firm(x_select=['Energy', 'Length', 'Customers'],\n",
    "                                    y_select=['TOTEX'])"
   ]
  },
  {
   "cell_type": "code",
   "execution_count": 9,
   "metadata": {},
   "outputs": [],
   "source": [
    "# define and solve the CNLS model\n",
    "model = CNLS.CNLS(y=data.y, x=data.x, z=None, cet = CET_ADDI, fun = FUN_COST, rts = RTS_VRS)"
   ]
  },
  {
   "cell_type": "code",
   "execution_count": 10,
   "metadata": {},
   "outputs": [
    {
     "name": "stdout",
     "output_type": "stream",
     "text": [
      "Invalid email address.\n",
      "\n",
      "Estimating the additive model locally with mosek solver\n",
      "Problem\n",
      "  Name                   :                 \n",
      "  Objective sense        : min             \n",
      "  Type                   : QO (quadratic optimization problem)\n",
      "  Constraints            : 7921            \n",
      "  Cones                  : 0               \n",
      "  Scalar variables       : 534             \n",
      "  Matrix variables       : 0               \n",
      "  Integer variables      : 0               \n",
      "\n",
      "Optimizer started.\n",
      "Quadratic to conic reformulation started.\n",
      "Quadratic to conic reformulation terminated. Time: 0.00    \n",
      "Presolve started.\n",
      "Linear dependency checker started.\n",
      "Linear dependency checker terminated.\n",
      "Eliminator started.\n",
      "Freed constraints in eliminator : 89\n",
      "Eliminator terminated.\n",
      "Eliminator started.\n",
      "Freed constraints in eliminator : 0\n",
      "Eliminator terminated.\n",
      "Eliminator - tries                  : 2                 time                   : 0.00            \n",
      "Lin. dep.  - tries                  : 1                 time                   : 0.00            \n",
      "Lin. dep.  - number                 : 0               \n",
      "Presolve terminated. Time: 0.02    \n",
      "Problem\n",
      "  Name                   :                 \n",
      "  Objective sense        : min             \n",
      "  Type                   : QO (quadratic optimization problem)\n",
      "  Constraints            : 7921            \n",
      "  Cones                  : 0               \n",
      "  Scalar variables       : 534             \n",
      "  Matrix variables       : 0               \n",
      "  Integer variables      : 0               \n",
      "\n",
      "Optimizer  - threads                : 4               \n",
      "Optimizer  - solved problem         : the dual        \n",
      "Optimizer  - Constraints            : 356\n",
      "Optimizer  - Cones                  : 1\n",
      "Optimizer  - Scalar variables       : 8189              conic                  : 90              \n",
      "Optimizer  - Semi-definite variables: 0                 scalarized             : 0               \n",
      "Factor     - setup time             : 0.01              dense det. time        : 0.00            \n",
      "Factor     - ML order time          : 0.00              GP order time          : 0.00            \n",
      "Factor     - nonzeros before factor : 6.39e+04          after factor           : 6.39e+04        \n",
      "Factor     - dense dim.             : 1                 flops                  : 1.58e+07        \n",
      "ITE PFEAS    DFEAS    GFEAS    PRSTATUS   POBJ              DOBJ              MU       TIME  \n",
      "0   1.7e+05  1.0e+00  2.0e+00  0.00e+00   5.000000000e-01   0.000000000e+00   1.0e+00  0.05  \n",
      "1   1.3e+05  8.0e-01  1.8e+00  -1.00e+00  1.557659352e+00   5.088116083e-01   8.0e-01  0.08  \n",
      "2   4.3e+04  2.6e-01  1.0e+00  -1.00e+00  8.347155642e+01   1.078517413e+02   2.6e-01  0.08  \n",
      "3   1.5e+04  8.7e-02  5.8e-01  -9.99e-01  1.789990434e+03   2.359433388e+03   8.7e-02  0.09  \n",
      "4   3.7e+03  2.2e-02  2.9e-01  -9.97e-01  4.614636114e+04   5.930849141e+04   2.2e-02  0.09  \n",
      "5   7.4e+02  4.4e-03  1.3e-01  -9.86e-01  1.410207545e+06   1.772027015e+06   4.4e-03  0.11  \n",
      "6   5.4e+01  3.2e-04  2.7e-02  -9.29e-01  1.388707640e+08   1.705912715e+08   3.2e-04  0.11  \n",
      "7   7.3e-01  4.4e-06  2.7e-04  -3.10e-01  9.914275091e+08   1.033131075e+09   4.4e-06  0.13  \n",
      "8   3.2e-01  1.9e-06  7.2e-05  8.81e-01   4.727963586e+08   4.837401124e+08   1.9e-06  0.13  \n",
      "9   2.7e-01  1.6e-06  5.6e-05  9.37e-01   2.797712739e+08   2.868091512e+08   1.6e-06  0.14  \n",
      "10  2.4e-01  1.4e-06  4.5e-05  9.90e-01   3.834039066e+08   3.902884197e+08   1.4e-06  0.14  \n",
      "11  9.1e-02  5.5e-07  8.9e-06  9.28e-01   1.005054682e+08   1.014280784e+08   5.5e-07  0.16  \n",
      "12  2.6e-02  1.6e-07  1.2e-06  1.01e+00   7.209747704e+07   7.227124504e+07   1.6e-07  0.16  \n",
      "13  1.4e-02  8.3e-08  4.1e-07  1.06e+00   6.275858498e+07   6.282726458e+07   8.3e-08  0.17  \n",
      "14  9.3e-03  5.6e-08  2.1e-07  1.10e+00   5.727730736e+07   5.731633619e+07   5.6e-08  0.17  \n",
      "15  4.3e-03  2.6e-08  6.2e-08  1.10e+00   5.133443483e+07   5.134900668e+07   2.6e-08  0.17  \n",
      "16  3.4e-03  2.1e-08  4.2e-08  1.09e+00   5.008478384e+07   5.009525475e+07   2.1e-08  0.19  \n",
      "17  1.7e-03  1.0e-08  1.4e-08  1.12e+00   4.777404661e+07   4.777827131e+07   1.0e-08  0.19  \n",
      "18  9.6e-04  5.8e-09  5.3e-09  1.13e+00   4.667065140e+07   4.667265706e+07   5.8e-09  0.20  \n",
      "19  4.5e-04  2.7e-09  1.5e-09  1.12e+00   4.599095439e+07   4.599173298e+07   2.7e-09  0.20  \n",
      "20  3.1e-04  1.9e-09  8.6e-10  1.10e+00   4.580465818e+07   4.580515861e+07   1.9e-09  0.22  \n",
      "21  1.5e-04  9.1e-10  2.7e-10  1.09e+00   4.562218535e+07   4.562239944e+07   9.1e-10  0.22  \n",
      "22  5.8e-05  3.5e-10  6.2e-11  1.06e+00   4.552383267e+07   4.552390599e+07   3.5e-10  0.23  \n",
      "23  2.2e-05  1.3e-10  1.4e-11  1.03e+00   4.548803734e+07   4.548806309e+07   1.3e-10  0.23  \n",
      "24  1.7e-05  1.0e-10  9.2e-12  1.02e+00   4.548350357e+07   4.548352296e+07   1.0e-10  0.23  \n",
      "25  5.4e-06  3.2e-11  1.6e-12  1.01e+00   4.547345796e+07   4.547346361e+07   3.2e-11  0.25  \n",
      "26  2.3e-06  1.4e-11  4.2e-13  1.01e+00   4.547107679e+07   4.547107907e+07   1.4e-11  0.25  \n",
      "27  1.4e-06  8.4e-12  2.0e-13  1.00e+00   4.547045025e+07   4.547045163e+07   8.4e-12  0.27  \n",
      "28  6.1e-07  3.7e-12  6.1e-14  1.00e+00   4.546994971e+07   4.546995032e+07   3.7e-12  0.28  \n",
      "Optimizer terminated. Time: 0.30    \n",
      "\n",
      "\n",
      "Interior-point solution summary\n",
      "  Problem status  : PRIMAL_AND_DUAL_FEASIBLE\n",
      "  Solution status : OPTIMAL\n",
      "  Primal.  obj: 4.5469899936e+07    nrm: 1e+05    Viol.  con: 1e-10    var: 0e+00  \n",
      "  Dual.    obj: 4.5470000099e+07    nrm: 1e+07    Viol.  con: 3e-04    var: 1e+02  \n"
     ]
    }
   ],
   "source": [
    "# estimate the model: 1) local estimation; 2) remote estimation\n",
    "model.optimize(OPT_LOCAL)"
   ]
  },
  {
   "cell_type": "code",
   "execution_count": 11,
   "metadata": {},
   "outputs": [
    {
     "name": "stdout",
     "output_type": "stream",
     "text": [
      "epsilon : residual\n",
      "    Size=89, Index=I\n",
      "    Key : Lower : Value               : Upper : Fixed : Stale : Domain\n",
      "      0 :  None :  -5.860963574807329 :  None : False : False :  Reals\n",
      "      1 :  None :  -7.973971091954354 :  None : False : False :  Reals\n",
      "      2 :  None :  192.97667611260476 :  None : False : False :  Reals\n",
      "      3 :  None :  1372.8796922181318 :  None : False : False :  Reals\n",
      "      4 :  None :   75.60623288579359 :  None : False : False :  Reals\n",
      "      5 :  None :  -325.4151203208762 :  None : False : False :  Reals\n",
      "      6 :  None :  -81.02130907583773 :  None : False : False :  Reals\n",
      "      7 :  None :   489.7439744910216 :  None : False : False :  Reals\n",
      "      8 :  None :  225.92496401970948 :  None : False : False :  Reals\n",
      "      9 :  None :  -47.13266641489599 :  None : False : False :  Reals\n",
      "     10 :  None :  1018.6878082952317 :  None : False : False :  Reals\n",
      "     11 :  None : -1709.1009846904635 :  None : False : False :  Reals\n",
      "     12 :  None :   239.2182048903162 :  None : False : False :  Reals\n",
      "     13 :  None :   604.8419176935299 :  None : False : False :  Reals\n",
      "     14 :  None :   -215.114944623856 :  None : False : False :  Reals\n",
      "     15 :  None :  -348.6378779007546 :  None : False : False :  Reals\n",
      "     16 :  None :  16.290661771049145 :  None : False : False :  Reals\n",
      "     17 :  None :   43.09695923933759 :  None : False : False :  Reals\n",
      "     18 :  None :  -63.91289075944837 :  None : False : False :  Reals\n",
      "     19 :  None : -306.87191506049294 :  None : False : False :  Reals\n",
      "     20 :  None :  -216.2530138960833 :  None : False : False :  Reals\n",
      "     21 :  None :  -655.4530680512275 :  None : False : False :  Reals\n",
      "     22 :  None :     -319.9919242897 :  None : False : False :  Reals\n",
      "     23 :  None :  -214.7113849558582 :  None : False : False :  Reals\n",
      "     24 :  None :   83.01287818297646 :  None : False : False :  Reals\n",
      "     25 :  None :   78.88947953203206 :  None : False : False :  Reals\n",
      "     26 :  None :   360.8709488401405 :  None : False : False :  Reals\n",
      "     27 :  None : -2800.5158405617585 :  None : False : False :  Reals\n",
      "     28 :  None :  -72.36291560930886 :  None : False : False :  Reals\n",
      "     29 :  None :    89.8187337442182 :  None : False : False :  Reals\n",
      "     30 :  None :  -92.40664437642658 :  None : False : False :  Reals\n",
      "     31 :  None :  -969.8822373641515 :  None : False : False :  Reals\n",
      "     32 :  None :  -47.28788336518437 :  None : False : False :  Reals\n",
      "     33 :  None :   413.6738015447645 :  None : False : False :  Reals\n",
      "     34 :  None :   47.65325678695035 :  None : False : False :  Reals\n",
      "     35 :  None :  1143.1492852777028 :  None : False : False :  Reals\n",
      "     36 :  None :  -712.3296450510261 :  None : False : False :  Reals\n",
      "     37 :  None :  -292.2345155498433 :  None : False : False :  Reals\n",
      "     38 :  None : -225.26855496146572 :  None : False : False :  Reals\n",
      "     39 :  None :  195.27222980891656 :  None : False : False :  Reals\n",
      "     40 :  None : -19.736116644858157 :  None : False : False :  Reals\n",
      "     41 :  None :  -95.36257684202474 :  None : False : False :  Reals\n",
      "     42 :  None :   3084.768610036266 :  None : False : False :  Reals\n",
      "     43 :  None : -161.71901929660044 :  None : False : False :  Reals\n",
      "     44 :  None : -213.36725335064284 :  None : False : False :  Reals\n",
      "     45 :  None : -224.70701100494284 :  None : False : False :  Reals\n",
      "     46 :  None :   787.0951023858634 :  None : False : False :  Reals\n",
      "     47 :  None : -144.64605877161284 :  None : False : False :  Reals\n",
      "     48 :  None : -426.94634020909234 :  None : False : False :  Reals\n",
      "     49 :  None :  -947.5990804460616 :  None : False : False :  Reals\n",
      "     50 :  None :   91.42848531038999 :  None : False : False :  Reals\n",
      "     51 :  None :  120.00894835748932 :  None : False : False :  Reals\n",
      "     52 :  None :  125.03625490916465 :  None : False : False :  Reals\n",
      "     53 :  None :   1448.730263354012 :  None : False : False :  Reals\n",
      "     54 :  None :  -8.867044565740116 :  None : False : False :  Reals\n",
      "     55 :  None : -1216.8922766636588 :  None : False : False :  Reals\n",
      "     56 :  None :  -942.6295099790486 :  None : False : False :  Reals\n",
      "     57 :  None : -164.67971866562584 :  None : False : False :  Reals\n",
      "     58 :  None : -410.07286597290204 :  None : False : False :  Reals\n",
      "     59 :  None :  244.11837052583405 :  None : False : False :  Reals\n",
      "     60 :  None : -469.39123697668515 :  None : False : False :  Reals\n",
      "     61 :  None :    223.164761586635 :  None : False : False :  Reals\n",
      "     62 :  None :  287.90486260585203 :  None : False : False :  Reals\n",
      "     63 :  None :   567.0979515203871 :  None : False : False :  Reals\n",
      "     64 :  None :  289.96059938389817 :  None : False : False :  Reals\n",
      "     65 :  None : -190.47411625598397 :  None : False : False :  Reals\n",
      "     66 :  None :   331.2270346714299 :  None : False : False :  Reals\n",
      "     67 :  None :   297.0807214282486 :  None : False : False :  Reals\n",
      "     68 :  None :  289.28877986955285 :  None : False : False :  Reals\n",
      "     69 :  None :  -990.6873515950565 :  None : False : False :  Reals\n",
      "     70 :  None :   894.0567364753515 :  None : False : False :  Reals\n",
      "     71 :  None :    321.213117558917 :  None : False : False :  Reals\n",
      "     72 :  None : -1793.4085020657876 :  None : False : False :  Reals\n",
      "     73 :  None :  -192.2633146324374 :  None : False : False :  Reals\n",
      "     74 :  None : -212.09686642926908 :  None : False : False :  Reals\n",
      "     75 :  None :   119.7106094236924 :  None : False : False :  Reals\n",
      "     76 :  None :   755.2960082061218 :  None : False : False :  Reals\n",
      "     77 :  None : -12.681954601991038 :  None : False : False :  Reals\n",
      "     78 :  None :     554.22103833246 :  None : False : False :  Reals\n",
      "     79 :  None :  14.036839232260718 :  None : False : False :  Reals\n",
      "     80 :  None :  -90.55919841492505 :  None : False : False :  Reals\n",
      "     81 :  None : -257.16043457822525 :  None : False : False :  Reals\n",
      "     82 :  None : -247.93596415671618 :  None : False : False :  Reals\n",
      "     83 :  None :  1745.3151293204282 :  None : False : False :  Reals\n",
      "     84 :  None :   422.4528739478619 :  None : False : False :  Reals\n",
      "     85 :  None :  -250.6629661367076 :  None : False : False :  Reals\n",
      "     86 :  None : -179.52208012107326 :  None : False : False :  Reals\n",
      "     87 :  None :   -111.381876331532 :  None : False : False :  Reals\n",
      "     88 :  None : 0.38142911644831656 :  None : False : False :  Reals\n"
     ]
    }
   ],
   "source": [
    "# display residuals\n",
    "model.display_residual()"
   ]
  }
 ],
 "metadata": {
  "kernelspec": {
   "display_name": "Python 3",
   "language": "python",
   "name": "python3"
  },
  "language_info": {
   "codemirror_mode": {
    "name": "ipython",
    "version": 3
   },
   "file_extension": ".py",
   "mimetype": "text/x-python",
   "name": "python",
   "nbconvert_exporter": "python",
   "pygments_lexer": "ipython3",
   "version": "3.8.8"
  }
 },
 "nbformat": 4,
 "nbformat_minor": 4
}
