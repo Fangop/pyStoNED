{
 "cells": [
  {
   "cell_type": "markdown",
   "metadata": {},
   "source": [
    "## Cost function"
   ]
  },
  {
   "cell_type": "markdown",
   "metadata": {},
   "source": [
    "We now consider the `CNLS` builds upon the assumption that the true but unknown cost function $f$ belongs to the set of continuous, monotonic increasing and globally convex functions, imposing exactly the same production axioms as standard DEA. "
   ]
  },
  {
   "cell_type": "markdown",
   "metadata": {},
   "source": [
    "+ The multivariate `CNLS` formulation is defined as:\n",
    "\n",
    "\\begin{align*}\n",
    "& \\underset{\\alpha, \\beta, \\varepsilon} {min} \\sum_{i=1}^n\\varepsilon_i^2 \\\\\n",
    "& \\text{s.t.} \\\\\n",
    "&  y_i = \\alpha_i + \\beta_i^{'}X_i + \\varepsilon_i \\quad \\forall i \\\\\n",
    "&  \\alpha_i + \\beta_i^{'}X_i \\ge \\alpha_j + \\beta_j^{'}X_i  \\quad  \\forall i, j\\\\\n",
    "&  \\beta_i \\ge 0 \\quad  \\forall i \\\\\n",
    "\\end{align*}"
   ]
  },
  {
   "cell_type": "markdown",
   "metadata": {},
   "source": [
    "   where $\\alpha_i$ and $\\beta_i$ define the intercept and slope parameters of tangent hyperplanes that characterize the estimated piece-wise linear frontier. $\\varepsilon_i$ denotes the CNLS residuals. The first constraint can be interpreted as a multivariate regression equation, the second constraint imposes concavity, and the third constraint imposes monotonicity."
   ]
  },
  {
   "cell_type": "code",
   "execution_count": 1,
   "metadata": {},
   "outputs": [],
   "source": [
    "# import packages\n",
    "from pystoned import CNLS\n",
    "from pystoned.constant import CET_ADDI, FUN_COST, OPT_LOCAL, RTS_VRS\n",
    "from pystoned.dataset import load_Finnish_electricity_firm"
   ]
  },
  {
   "cell_type": "code",
   "execution_count": 2,
   "metadata": {},
   "outputs": [],
   "source": [
    "# import Finnish electricity distribution firms data\n",
    "data = load_Finnish_electricity_firm(x_select=['Energy', 'Length', 'Customers'],\n",
    "                                    y_select=['TOTEX'])"
   ]
  },
  {
   "cell_type": "code",
   "execution_count": 3,
   "metadata": {},
   "outputs": [
    {
     "output_type": "stream",
     "name": "stdout",
     "text": [
      "Estimating the additive model remotely with mosek solver\n"
     ]
    }
   ],
   "source": [
    "# define and solve the CNLS model\n",
    "model = CNLS.CNLS(y=data.y, x=data.x, z=None, cet = CET_ADDI, fun = FUN_COST, rts = RTS_VRS)\n",
    "\n",
    "# Please replace with your own email address reqired by NEOS server (see https://twitter.com/NeosOpt/status/1336360894884966401)\n",
    "model.optimize('email@address')"
   ]
  },
  {
   "cell_type": "code",
   "execution_count": 4,
   "metadata": {},
   "outputs": [
    {
     "output_type": "stream",
     "name": "stdout",
     "text": [
      "[-5.86078800e+00 -7.97423574e+00  1.92976743e+02  1.37287973e+03\n  7.56061694e+01 -3.25415289e+02 -8.10214941e+01  4.89744160e+02\n  2.25924914e+02 -4.71325721e+01  1.01868778e+03 -1.70910103e+03\n  2.39218178e+02  6.04842121e+02 -2.15114922e+02 -3.48637847e+02\n  1.62907429e+01  4.30970562e+01 -6.39131104e+01 -3.06872067e+02\n -2.16252883e+02 -6.55452894e+02 -3.19992003e+02 -2.14711313e+02\n  8.30129211e+01  7.88897174e+01  3.60871103e+02 -2.80051577e+03\n -7.23629331e+01  8.98186822e+01 -9.24066026e+01 -9.69882193e+02\n -4.72877324e+01  4.13673769e+02  4.76532128e+01  1.14314921e+03\n -7.12329733e+02 -2.92234328e+02 -2.25268474e+02  1.95272142e+02\n -1.97362216e+01 -9.53625622e+01  3.08476865e+03 -1.61718780e+02\n -2.13367047e+02 -2.24707266e+02  7.87095017e+02 -1.44646477e+02\n -4.26946313e+02 -9.47599015e+02  9.14284498e+01  1.20009087e+02\n  1.25036256e+02  1.44873034e+03 -8.86691394e+00 -1.21689225e+03\n -9.42629511e+02 -1.64679493e+02 -4.10072662e+02  2.44118246e+02\n -4.69391300e+02  2.23164834e+02  2.87904910e+02  5.67098000e+02\n  2.89960538e+02 -1.90474364e+02  3.31226811e+02  2.97080762e+02\n  2.89288712e+02 -9.90687361e+02  8.94056784e+02  3.21213122e+02\n -1.79340854e+03 -1.92263505e+02 -2.12096716e+02  1.19710607e+02\n  7.55296021e+02 -1.26821644e+01  5.54221076e+02  1.40369039e+01\n -9.05591876e+01 -2.57160408e+02 -2.47935956e+02  1.74531510e+03\n  4.22452906e+02 -2.50662975e+02 -1.79522106e+02 -1.11382059e+02\n  3.81114864e-01]\n"
     ]
    }
   ],
   "source": [
    "# print the residuals\n",
    "print(model.get_residual())"
   ]
  }
 ],
 "metadata": {
  "kernelspec": {
   "display_name": "Python 3",
   "language": "python",
   "name": "python3"
  },
  "language_info": {
   "codemirror_mode": {
    "name": "ipython",
    "version": 3
   },
   "file_extension": ".py",
   "mimetype": "text/x-python",
   "name": "python",
   "nbconvert_exporter": "python",
   "pygments_lexer": "ipython3",
   "version": "3.8.8-final"
  }
 },
 "nbformat": 4,
 "nbformat_minor": 4
}