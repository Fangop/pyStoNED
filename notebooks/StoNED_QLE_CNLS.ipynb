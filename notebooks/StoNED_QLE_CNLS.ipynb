{
 "cells": [
  {
   "cell_type": "markdown",
   "metadata": {},
   "source": [
    "# StoNED: Quasi-likelihood Estimation"
   ]
  },
  {
   "cell_type": "markdown",
   "metadata": {},
   "source": [
    "Quassi-likelihood approach is alternative to decomposing the $\\sigma_u$ and $\\sigma_v$ suggested\n",
    "by Fan et al. (1996). In this method we apply the standard maximum likelihood method to \n",
    "estimate the parameters $\\sigma_u$ and $\\sigma_v$, taking the shape of `CNLS` curve\n",
    "as given. The quasi-likelihood function is formulated as\n",
    "   \\begin{align*}\n",
    "        \\text{ln} L(\\lambda) & = -n\\text{ln}(\\hat{\\sigma}) + \\sum \\text{ln} \\Phi\\bigg[\\frac{-\\hat{\\varepsilon}_i \\lambda}{\\hat{\\sigma}}\\bigg] - \\frac{1}{2\\hat{\\sigma}^2}\\sum\\hat{\\varepsilon}_i^2 \n",
    "    \\end{align*}\n",
    "\n",
    "where\n",
    "\n",
    "   \\begin{align*}\n",
    "        \\hat{\\varepsilon}_i &= \\hat{\\varepsilon}_i^{CNLS}-(\\sqrt{2}\\lambda\\hat{\\sigma})/[\\pi(1+\\lambda^2)]^{1/2}    \\\\\n",
    "        \\hat{\\sigma} &= \\Bigg\\{\\frac{1}{n}\\sum(\\hat{\\varepsilon}_i^{CNLS})^2 / \\bigg[1 - \\frac{2\\lambda^2}{\\pi(1+\\lambda^2)}\\bigg]  \\Bigg\\}  \n",
    "   \\end{align*}"
   ]
  },
  {
   "cell_type": "code",
   "execution_count": 1,
   "metadata": {},
   "outputs": [],
   "source": [
    "# import packages\n",
    "from pystoned import CNLS, StoNED\n",
    "from pystoned.dataset import load_Finnish_electricity_firm\n",
    "from pystoned.constant import CET_MULT, FUN_COST, RTS_VRS, RED_QLE"
   ]
  },
  {
   "cell_type": "code",
   "execution_count": 2,
   "metadata": {},
   "outputs": [],
   "source": [
    "# import Finnish electricity distribution firms data\n",
    "data = load_Finnish_electricity_firm(x_select=['OPEX', 'CAPEX'], y_select=['Energy'])"
   ]
  },
  {
   "cell_type": "code",
   "execution_count": 3,
   "metadata": {},
   "outputs": [
    {
     "output_type": "stream",
     "name": "stdout",
     "text": [
      "Estimating the multiplicative model remotely with knitro solver\n"
     ]
    }
   ],
   "source": [
    "# build and optimize the CNLS model\n",
    "model = CNLS.CNLS(data.y, data.x, z=None, cet=CET_MULT, fun=FUN_COST, rts=RTS_VRS)\n",
    "model.optimize('sheng.dai@aalto.fi')"
   ]
  },
  {
   "cell_type": "code",
   "execution_count": 4,
   "metadata": {},
   "outputs": [
    {
     "output_type": "stream",
     "name": "stdout",
     "text": [
      "[1.21295289 1.23180263 1.15185982 1.1027752  1.11920229 1.4042608\n 1.11294793 1.19210859 1.23202478 1.37261442 1.22564622 1.19448271\n 1.18321756 1.12528388 1.16841171 1.28411154 1.18717538 1.12654307\n 1.11241991 1.18038717 1.26655325 1.49410087 1.15968267 1.22268086\n 1.21956065 1.16681712 1.12349544 1.09740006 1.72381362 1.1861495\n 1.1971385  1.45603025 1.27583855 1.18081491 1.15384601 1.07423363\n 1.12040451 1.26199388 1.27035104 1.16288631 1.20435203 1.12356204\n 1.14236542 1.26057733 1.28262668 1.09824726 1.16531357 1.1388145\n 1.16138265 1.31766324 1.24485215 1.1865074  1.24815074 1.2219338\n 1.22294208 1.37521518 1.40459896 1.38824417 1.29177086 1.09321775\n 1.23876503 1.0953609  1.33204189 1.19891847 1.15622004 1.14627813\n 1.2503394  1.13739186 1.20047237 1.1902346  1.13906518 1.21745101\n 1.32613933 1.15619459 1.32482159 1.14239273 1.22758053 1.16761414\n 1.1927794  1.14880022 1.25085848 1.32315284 1.12684405 1.14240089\n 1.1589114  1.30452801 1.3002119  1.12456088 1.23211844]\n"
     ]
    }
   ],
   "source": [
    "# Residual decomposition\n",
    "rd = StoNED.StoNED(model)\n",
    "print(rd.get_technical_inefficiency(RED_QLE))"
   ]
  },
  {
   "cell_type": "code",
   "execution_count": 5,
   "metadata": {},
   "outputs": [
    {
     "output_type": "stream",
     "name": "stdout",
     "text": [
      "[  58.39479141   45.77922612   75.70520474  884.69691174   31.15783148\n  153.68055871   52.90204137  142.12863146   72.31758414  111.48035061\n 1654.16016424 5442.74595047  100.25739049  150.13215218 3260.48405292\n  266.24278193   36.34194817   67.34163456   74.81387171  221.59166805\n  133.3986537    90.98854756   15.94813515  370.22052818   40.48197142\n   86.56017095   84.29587065 1333.35216731   41.79466171  139.94632846\n   59.68148577  259.62527453  198.89029996  178.90233185   95.24062759\n  283.6400528   195.85344589   49.96203194   26.85018749  446.20174329\n  364.3945885    25.84042572 1251.26917134   58.37029996   65.30742657\n   33.59897389  452.82644919   17.56037918  293.41852518  632.87911833\n   27.83360689  188.90556449   69.36334612  264.02397258   58.25377869\n  542.8933949   209.3078523    69.52763909   88.36508386  164.34308028\n   15.94813515 1361.31093293  442.49298446  307.27264882   90.44854462\n   42.82263008  166.8363632   457.8235672   215.16226926  264.30253917\n 1651.67281109  205.943399    988.19314335   35.23121019   94.63759809\n  198.87745908  852.18914879   17.25745068  652.66631228  288.37245386\n   96.31768043  769.75894991  231.42924795 4895.63953486  291.76694458\n   17.45940301   18.87306948   16.75256977   77.46366511]\n"
     ]
    }
   ],
   "source": [
    "# return the StoNED frontier\n",
    "print(rd.get_frontier(RED_QLE))"
   ]
  }
 ],
 "metadata": {
  "kernelspec": {
   "name": "python388jvsc74a57bd097ae724bfa85b9b34df7982b8bb8c7216f435b92902d749e4263f71162bea840",
   "display_name": "Python 3.8.8 64-bit ('base': conda)"
  },
  "language_info": {
   "codemirror_mode": {
    "name": "ipython",
    "version": 3
   },
   "file_extension": ".py",
   "mimetype": "text/x-python",
   "name": "python",
   "nbconvert_exporter": "python",
   "pygments_lexer": "ipython3",
   "version": "3.8.8"
  }
 },
 "nbformat": 4,
 "nbformat_minor": 4
}