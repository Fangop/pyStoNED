{
 "cells": [
  {
   "cell_type": "markdown",
   "source": [
    "# StoNED: Quasi-likelihood Estimation"
   ],
   "metadata": {}
  },
  {
   "cell_type": "markdown",
   "source": [
    "Quassi-likelihood approach is alternative approach to decomposing the $\\sigma_u$ and $\\sigma_v$ suggested by Fan et al. (1996). In this method we apply the standard maximum likelihood method to estimate the parameters $\\sigma_u$ and $\\sigma_v$, taking the shape of CNLS curve as given. The quasi-likelihood function is formulated as \n",
    "\\begin{align}\n",
    "        \\ln L(\\lambda) & = -n\\ln(\\hat{\\sigma}) + \\sum \\ln\\Phi\\bigg[\\frac{-\\hat{\\varepsilon}_i \\lambda}{\\hat{\\sigma}}\\bigg] - \\frac{1}{2\\hat{\\sigma}^2}\\sum\\hat{\\varepsilon}_i^2  \\notag\n",
    "\\end{align}\n",
    "where\n",
    "\\begin{align}\n",
    "    \\hat{\\varepsilon}_i &= \\hat{\\varepsilon}_i^{CNLS}-(\\sqrt{2}\\lambda\\hat{\\sigma})/[\\pi(1+\\lambda^2)]^{1/2}   \\notag  \\\\\n",
    "    \\hat{\\sigma} &= \\Bigg\\{\\frac{1}{n}\\sum(\\hat{\\varepsilon}_i^{CNLS})^2 / \\bigg[1 - \\frac{2\\lambda^2}{\\pi(1+\\lambda^2)}\\bigg]  \\Bigg\\}   \\notag\n",
    "\\end{align}\n",
    "Note that the quasi-likelihood function only consists of a single parameter $\\lambda$ (i.e., the signal-to-noise ratio $\\lambda = \\sigma_u/\\sigma_v$).  The symbol $\\Phi$ represents the cumulative distribution function of the standard normal distribution. In the pyStoNED package, we use the Broyden–Fletcher–Goldfarb–Shanno (BFGS) algorithm to solve the maximum likelihood function."
   ],
   "metadata": {}
  },
  {
   "cell_type": "code",
   "execution_count": 1,
   "source": [
    "# import packages\n",
    "from pystoned import CNLS, StoNED\n",
    "from pystoned.dataset import load_Finnish_electricity_firm\n",
    "from pystoned.constant import CET_MULT, FUN_PROD, RTS_VRS, RED_QLE"
   ],
   "outputs": [],
   "metadata": {}
  },
  {
   "cell_type": "code",
   "execution_count": 2,
   "source": [
    "# import Finnish electricity distribution firms data\n",
    "data = load_Finnish_electricity_firm(x_select=['OPEX', 'CAPEX'], y_select=['Energy'])"
   ],
   "outputs": [],
   "metadata": {}
  },
  {
   "cell_type": "code",
   "execution_count": 3,
   "source": [
    "# build and optimize the CNLS model\n",
    "model = CNLS.CNLS(data.y, data.x, z=None, cet=CET_MULT, fun=FUN_PROD, rts=RTS_VRS)\n",
    "model.optimize('email@address')"
   ],
   "outputs": [
    {
     "output_type": "stream",
     "name": "stdout",
     "text": [
      "Estimating the multiplicative model remotely with knitro solver\n"
     ]
    }
   ],
   "metadata": {}
  },
  {
   "cell_type": "code",
   "execution_count": 4,
   "source": [
    "# print unconditional expected inefficiency (mu)\n",
    "rd = StoNED.StoNED(model)\n",
    "print(rd.get_unconditional_expected_inefficiency(RED_QLE))"
   ],
   "outputs": [
    {
     "output_type": "stream",
     "name": "stdout",
     "text": [
      "0.19898264125799783\n"
     ]
    }
   ],
   "metadata": {}
  }
 ],
 "metadata": {
  "interpreter": {
   "hash": "916dbcbb3f70747c44a77c7bcd40155683ae19c65e1c03b4aa3499c5328201f1"
  },
  "kernelspec": {
   "name": "python3",
   "display_name": "Python 3.8.10 64-bit"
  },
  "language_info": {
   "codemirror_mode": {
    "name": "ipython",
    "version": 3
   },
   "file_extension": ".py",
   "mimetype": "text/x-python",
   "name": "python",
   "nbconvert_exporter": "python",
   "pygments_lexer": "ipython3",
   "version": "3.8.10"
  }
 },
 "nbformat": 4,
 "nbformat_minor": 4
}