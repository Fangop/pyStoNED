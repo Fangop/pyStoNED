{
 "cells": [
  {
   "cell_type": "markdown",
   "source": [
    "# StoNED: Quasi-likelihood Estimation"
   ],
   "metadata": {}
  },
  {
   "cell_type": "markdown",
   "source": [
    "Quassi-likelihood approach is alternative approach to decomposing the $\\sigma_u$ and $\\sigma_v$ suggested by Fan et al. (1996). In this method we apply the standard maximum likelihood method to estimate the parameters $\\sigma_u$ and $\\sigma_v$, taking the shape of CNLS curve as given. The quasi-likelihood function is formulated as \n",
    "\\begin{align}\n",
    "        \\ln L(\\lambda) & = -n\\ln(\\hat{\\sigma}) + \\sum \\ln\\Phi\\bigg[\\frac{-\\hat{\\varepsilon}_i \\lambda}{\\hat{\\sigma}}\\bigg] - \\frac{1}{2\\hat{\\sigma}^2}\\sum\\hat{\\varepsilon}_i^2  \\notag\n",
    "\\end{align}\n",
    "where\n",
    "\\begin{align}\n",
    "    \\hat{\\varepsilon}_i &= \\hat{\\varepsilon}_i^{CNLS}-(\\sqrt{2}\\lambda\\hat{\\sigma})/[\\pi(1+\\lambda^2)]^{1/2}   \\notag  \\\\\n",
    "    \\hat{\\sigma} &= \\Bigg\\{\\frac{1}{n}\\sum(\\hat{\\varepsilon}_i^{CNLS})^2 / \\bigg[1 - \\frac{2\\lambda^2}{\\pi(1+\\lambda^2)}\\bigg]  \\Bigg\\}   \\notag\n",
    "\\end{align}\n",
    "Note that the quasi-likelihood function only consists of a single parameter $\\lambda$ (i.e., the signal-to-noise ratio $\\lambda = \\sigma_u/\\sigma_v$).  The symbol $\\Phi$ represents the cumulative distribution function of the standard normal distribution. In the pyStoNED package, we use the Broyden–Fletcher–Goldfarb–Shanno (BFGS) algorithm to solve the maximum likelihood function."
   ],
   "metadata": {}
  },
  {
   "cell_type": "code",
   "execution_count": 1,
   "source": [
    "# import packages\r\n",
    "from pystoned import CNLS, StoNED\r\n",
    "from pystoned.dataset import load_Finnish_electricity_firm\r\n",
    "from pystoned.constant import CET_MULT, FUN_COST, RTS_VRS, RED_QLE"
   ],
   "outputs": [],
   "metadata": {}
  },
  {
   "cell_type": "code",
   "execution_count": 2,
   "source": [
    "# import Finnish electricity distribution firms data\r\n",
    "data = load_Finnish_electricity_firm(x_select=['Energy', 'Length', 'Customers'],\r\n",
    "                                        y_select=['TOTEX'])"
   ],
   "outputs": [],
   "metadata": {}
  },
  {
   "cell_type": "code",
   "execution_count": 3,
   "source": [
    "# build and optimize the CNLS model\r\n",
    "model = CNLS.CNLS(data.y, data.x, z=None, cet=CET_MULT, fun=FUN_COST, rts=RTS_VRS)\r\n",
    "model.optimize('email@address')"
   ],
   "outputs": [
    {
     "output_type": "stream",
     "name": "stdout",
     "text": [
      "Estimating the multiplicative model remotely with knitro solver\n"
     ]
    }
   ],
   "metadata": {}
  },
  {
   "cell_type": "code",
   "execution_count": 4,
   "source": [
    "# print unconditional expected inefficiency (mu)\r\n",
    "rd = StoNED.StoNED(model)\r\n",
    "print(rd.get_unconditional_expected_inefficiency(RED_QLE))"
   ],
   "outputs": [
    {
     "output_type": "stream",
     "name": "stdout",
     "text": [
      "0.05799094523088806\n"
     ]
    }
   ],
   "metadata": {}
  }
 ],
 "metadata": {
  "interpreter": {
   "hash": "d615cd69d76bbfeb794299333df0c3d566ae9a0a286576ecbdfd9810108dcdf5"
  },
  "kernelspec": {
   "name": "python3",
   "display_name": "Python 3.8.8 64-bit ('base': conda)"
  },
  "language_info": {
   "codemirror_mode": {
    "name": "ipython",
    "version": 3
   },
   "file_extension": ".py",
   "mimetype": "text/x-python",
   "name": "python",
   "nbconvert_exporter": "python",
   "pygments_lexer": "ipython3",
   "version": "3.8.8"
  }
 },
 "nbformat": 4,
 "nbformat_minor": 4
}