{
 "cells": [
  {
   "cell_type": "markdown",
   "source": [
    "# JLMS estimator"
   ],
   "metadata": {}
  },
  {
   "cell_type": "markdown",
   "source": [
    "After estimating the expected inefficiency $\\mu$ using methods of moment (MOM) or quasi-likelihood estimation (QLE),[^1] \n",
    "we then employ JLMS estimator proposed by Jondrow et al. (1982) to estimate the firm-specific inefficiencies (Johnson and Kuosmanen, 2015). Under the assumption of a normally distributed error term and a half-normally distributed inefficiency term, JLMS formulates the conditional distribution of inefficiency $u_i$, given $\\hat{\\varepsilon}_i$, and propose the inefficiency estimator as the conditional mean $E[u_i \\, | \\, \\hat{\\varepsilon}_i]$. \n",
    "\n",
    "Following Kumbhakar and Lovell (2000), the conditional expected value of inefficiency $E[u_i  \\, | \\, \\hat{\\varepsilon}_i]$ for production function and cost function are shown as follow, respectively:\n",
    "\n",
    "- Production function\n",
    " \\begin{align}\n",
    "            E[u_i  \\, | \\, \\hat{\\varepsilon}_i] = \\mu_{*i} + \\sigma_* \\Bigg[ \\frac{\\phi(-\\mu_{*i}/\\sigma_*)}{1-\\Phi(-\\mu_{*i}/\\sigma_*)} \\Bigg] = \\sigma_* \\Bigg[ \\frac{\\phi(\\varepsilon_i \\lambda/\\sigma)}{1-\\Phi(\\varepsilon_i \\lambda/\\sigma)} - \\frac{\\varepsilon_i \\lambda}{\\sigma} \\Bigg]  \\notag\n",
    "\\end{align}\n",
    "where $\\mu_*= -\\varepsilon \\sigma_u^2/\\sigma^2$, $\\sigma_*^2 = \\sigma_u^2\\sigma_v^2/\\sigma^2$, $\\lambda = \\sigma_u/\\sigma_v$, and $\\sigma^2 = \\sigma_u^2 +\\sigma_v^2$. The symbol $\\phi$ is the standard normal density function, and the symbol $\\Phi$ denotes the cumulative distribution function of the standard normal distribution.\n",
    "\n",
    "- Cost function\n",
    "\\begin{align}\n",
    "         E[u_i \\mid \\hat{\\varepsilon}_i] = \\mu_{*i} + \\sigma_* \\Bigg[ \\frac{\\phi(-\\mu_{*i}/\\sigma_*)}{1-\\Phi(-\\mu_{*i}/\\sigma_*)} \\Bigg] = \\sigma_* \\Bigg[ \\frac{\\phi(\\varepsilon_i \\lambda/\\sigma)}{1-\\Phi(-\\varepsilon_i \\lambda/\\sigma)} + \\frac{\\varepsilon_i \\lambda}{\\sigma} \\Bigg]  \\notag\n",
    "\\end{align}\n",
    "where $\\mu_*= \\varepsilon \\sigma_u^2/\\sigma^2$, $\\sigma_*^2 = \\sigma_u^2\\sigma_v^2/\\sigma^2$, $\\lambda = \\sigma_u/\\sigma_v$, and $\\sigma^2 = \\sigma_u^2 +\\sigma_v^2$.\n",
    " \n",
    "The firm-level technical efficiency (TE) is then measured based on the estimated conditional mean. For different model, the technical efficiency is calculated as \n",
    "\n",
    "- Production function\n",
    "     - Multiplicative model: $\\text{TE} = \\exp(-E[u_i \\mid  \\varepsilon_i])$ \n",
    "     - Additive model: $\\text{TE} = \\frac{y - E[u_i \\mid  \\varepsilon_i]}{y}$\n",
    "\n",
    "- Cost function\n",
    "     - Multiplicative model: $\\text{TE} = \\exp(E[u_i \\mid  \\varepsilon_i])$\n",
    "     - Additive model: $\\text{TE} = \\frac{y+ E[u_i \\mid  \\varepsilon_i]}{y}$\n",
    "\n",
    "\n",
    "[^1]: For the expected inefficiency $\\mu$ estimated by kernel deconvolution, Dai (2016) proposes a non-parametric strategy where the Richardson–Lucy blind deconvolution algorithm is used to identify firm-specific inefficiencies. However, the pyStoNED package only supports the parametric estimation of firm-specific inefficiencies due to the fact that the parametric method is more widely used in efficiency analysis literature."
   ],
   "metadata": {}
  },
  {
   "cell_type": "code",
   "execution_count": 1,
   "source": [
    "# import packages\r\n",
    "from pystoned import CNLS, StoNED\r\n",
    "from pystoned.dataset import load_Finnish_electricity_firm\r\n",
    "from pystoned.constant import CET_MULT, FUN_COST, RTS_VRS, RED_MOM"
   ],
   "outputs": [],
   "metadata": {}
  },
  {
   "cell_type": "code",
   "execution_count": 2,
   "source": [
    "# import Finnish electricity distribution firms data\r\n",
    "data = load_Finnish_electricity_firm(x_select=['Energy', 'Length', 'Customers'],\r\n",
    "                                        y_select=['TOTEX'])"
   ],
   "outputs": [],
   "metadata": {}
  },
  {
   "cell_type": "code",
   "execution_count": 3,
   "source": [
    "# build and optimize the CNLS model\r\n",
    "model = CNLS.CNLS(data.y, data.x, z=None, cet=CET_MULT, fun=FUN_COST, rts=RTS_VRS)\r\n",
    "model.optimize('email@address')"
   ],
   "outputs": [
    {
     "output_type": "stream",
     "name": "stdout",
     "text": [
      "Estimating the multiplicative model remotely with knitro solver\n"
     ]
    }
   ],
   "metadata": {}
  },
  {
   "cell_type": "code",
   "execution_count": 4,
   "source": [
    "# print firm-level efficiency using MOM method\r\n",
    "rd = StoNED.StoNED(model)\r\n",
    "print(rd.get_technical_inefficiency(RED_MOM))  "
   ],
   "outputs": [
    {
     "output_type": "stream",
     "name": "stdout",
     "text": [
      "[1.02974326 1.029505   1.03407182 1.03011172 1.03285089 1.02624282\n",
      " 1.02854464 1.03305965 1.04092431 1.02800385 1.02872512 1.0280623\n",
      " 1.03559318 1.03706433 1.02816317 1.02650431 1.03308583 1.03267399\n",
      " 1.02875203 1.02714635 1.02686427 1.02263686 1.02622747 1.02599716\n",
      " 1.03218263 1.03064465 1.03635069 1.0256767  1.03054531 1.02926002\n",
      " 1.02830563 1.02147671 1.02774054 1.033895   1.02955276 1.0352305\n",
      " 1.02473928 1.02499033 1.02524073 1.02844457 1.02654617 1.02832187\n",
      " 1.03135671 1.02703929 1.02624351 1.02549227 1.03018191 1.02753261\n",
      " 1.02635672 1.02582275 1.03370637 1.0291995  1.03406306 1.0358534\n",
      " 1.02982632 1.0243852  1.02415055 1.02698376 1.02465662 1.03059053\n",
      " 1.01963396 1.02821336 1.02848349 1.03013613 1.03890488 1.02649393\n",
      " 1.0313203  1.02886076 1.03101364 1.02416407 1.02877712 1.03109434\n",
      " 1.02474801 1.02589096 1.02633595 1.02903242 1.02895268 1.03100541\n",
      " 1.02893157 1.02822082 1.02758003 1.02685103 1.02711099 1.02886028\n",
      " 1.03008647 1.0258056  1.02883011 1.03059918 1.03003701]\n"
     ]
    }
   ],
   "metadata": {}
  }
 ],
 "metadata": {
  "kernelspec": {
   "name": "python3",
   "display_name": "Python 3.8.8 64-bit ('base': conda)"
  },
  "language_info": {
   "codemirror_mode": {
    "name": "ipython",
    "version": 3
   },
   "file_extension": ".py",
   "mimetype": "text/x-python",
   "name": "python",
   "nbconvert_exporter": "python",
   "pygments_lexer": "ipython3",
   "version": "3.8.8"
  },
  "interpreter": {
   "hash": "d615cd69d76bbfeb794299333df0c3d566ae9a0a286576ecbdfd9810108dcdf5"
  }
 },
 "nbformat": 4,
 "nbformat_minor": 5
}