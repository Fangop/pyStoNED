{
 "cells": [
  {
   "cell_type": "markdown",
   "source": [
    "# JLMS estimator"
   ],
   "metadata": {}
  },
  {
   "cell_type": "markdown",
   "source": [
    "After estimating the expected inefficiency $\\mu$ using methods of moment (MOM) or quasi-likelihood estimation (QLE),[^1] \n",
    "we then employ JLMS estimator proposed by Jondrow et al. (1982) to estimate the firm-specific inefficiencies (Johnson and Kuosmanen, 2015). Under the assumption of a normally distributed error term and a half-normally distributed inefficiency term, JLMS formulates the conditional distribution of inefficiency $u_i$, given $\\hat{\\varepsilon}_i$, and propose the inefficiency estimator as the conditional mean $E[u_i \\, | \\, \\hat{\\varepsilon}_i]$. \n",
    "\n",
    "Following Kumbhakar and Lovell (2000), the conditional expected value of inefficiency $E[u_i  \\, | \\, \\hat{\\varepsilon}_i]$ for production function and cost function are shown as follow, respectively:\n",
    "\n",
    "- Production function\n",
    " \\begin{align}\n",
    "            E[u_i  \\, | \\, \\hat{\\varepsilon}_i] = \\mu_{*i} + \\sigma_* \\Bigg[ \\frac{\\phi(-\\mu_{*i}/\\sigma_*)}{1-\\Phi(-\\mu_{*i}/\\sigma_*)} \\Bigg] = \\sigma_* \\Bigg[ \\frac{\\phi(\\varepsilon_i \\lambda/\\sigma)}{1-\\Phi(\\varepsilon_i \\lambda/\\sigma)} - \\frac{\\varepsilon_i \\lambda}{\\sigma} \\Bigg]  \\notag\n",
    "\\end{align}\n",
    "where $\\mu_*= -\\varepsilon \\sigma_u^2/\\sigma^2$, $\\sigma_*^2 = \\sigma_u^2\\sigma_v^2/\\sigma^2$, $\\lambda = \\sigma_u/\\sigma_v$, and $\\sigma^2 = \\sigma_u^2 +\\sigma_v^2$. The symbol $\\phi$ is the standard normal density function, and the symbol $\\Phi$ denotes the cumulative distribution function of the standard normal distribution.\n",
    "\n",
    "- Cost function\n",
    "\\begin{align}\n",
    "         E[u_i \\mid \\hat{\\varepsilon}_i] = \\mu_{*i} + \\sigma_* \\Bigg[ \\frac{\\phi(-\\mu_{*i}/\\sigma_*)}{1-\\Phi(-\\mu_{*i}/\\sigma_*)} \\Bigg] = \\sigma_* \\Bigg[ \\frac{\\phi(\\varepsilon_i \\lambda/\\sigma)}{1-\\Phi(-\\varepsilon_i \\lambda/\\sigma)} + \\frac{\\varepsilon_i \\lambda}{\\sigma} \\Bigg]  \\notag\n",
    "\\end{align}\n",
    "where $\\mu_*= \\varepsilon \\sigma_u^2/\\sigma^2$, $\\sigma_*^2 = \\sigma_u^2\\sigma_v^2/\\sigma^2$, $\\lambda = \\sigma_u/\\sigma_v$, and $\\sigma^2 = \\sigma_u^2 +\\sigma_v^2$.\n",
    " \n",
    "The firm-level technical efficiency (TE) is then measured based on the estimated conditional mean. For different model, the technical efficiency is calculated as \n",
    "\n",
    "- Production function\n",
    "     - Multiplicative model: $\\text{TE} = \\exp(-E[u_i \\mid  \\varepsilon_i])$ \n",
    "     - Additive model: $\\text{TE} = \\frac{y - E[u_i \\mid  \\varepsilon_i]}{y}$\n",
    "\n",
    "- Cost function\n",
    "     - Multiplicative model: $\\text{TE} = \\exp(E[u_i \\mid  \\varepsilon_i])$\n",
    "     - Additive model: $\\text{TE} = \\frac{y+ E[u_i \\mid  \\varepsilon_i]}{y}$\n",
    "\n",
    "\n",
    "[^1]: For the expected inefficiency $\\mu$ estimated by kernel deconvolution, Dai (2016) proposes a non-parametric strategy where the Richardson–Lucy blind deconvolution algorithm is used to identify firm-specific inefficiencies. However, the pyStoNED package only supports the parametric estimation of firm-specific inefficiencies due to the fact that the parametric method is more widely used in efficiency analysis literature."
   ],
   "metadata": {}
  },
  {
   "cell_type": "code",
   "execution_count": 1,
   "source": [
    "# import packages\n",
    "from pystoned import CNLS, StoNED\n",
    "from pystoned.dataset import load_Finnish_electricity_firm\n",
    "from pystoned.constant import CET_MULT, FUN_PROD, RTS_VRS, RED_MOM"
   ],
   "outputs": [],
   "metadata": {}
  },
  {
   "cell_type": "code",
   "execution_count": 2,
   "source": [
    "# import Finnish electricity distribution firms data\n",
    "data = load_Finnish_electricity_firm(x_select=['OPEX', 'CAPEX'], y_select=['Energy'])"
   ],
   "outputs": [],
   "metadata": {}
  },
  {
   "cell_type": "code",
   "execution_count": 3,
   "source": [
    "# build and optimize the CNLS model\n",
    "model = CNLS.CNLS(data.y, data.x, z=None, cet=CET_MULT, fun=FUN_PROD, rts=RTS_VRS)\n",
    "model.optimize('email@address')"
   ],
   "outputs": [
    {
     "output_type": "stream",
     "name": "stdout",
     "text": [
      "Estimating the multiplicative model remotely with knitro solver\n"
     ]
    }
   ],
   "metadata": {}
  },
  {
   "cell_type": "code",
   "execution_count": 4,
   "source": [
    "# print firm-level efficiency using MOM method\n",
    "rd = StoNED.StoNED(model)\n",
    "print(rd.get_technical_inefficiency(RED_MOM))  "
   ],
   "outputs": [
    {
     "output_type": "stream",
     "name": "stdout",
     "text": [
      "[0.83008591 0.82991819 0.8066805  0.80087014 0.73929874 0.89018884\n",
      " 0.7531562  0.84113701 0.84022334 0.8810948  0.86994179 0.86672563\n",
      " 0.8272157  0.79557528 0.85246654 0.87492035 0.7979323  0.78025069\n",
      " 0.7666947  0.84175722 0.87759156 0.89694954 0.86914353 0.862216\n",
      " 0.81811668 0.81618373 0.78476134 0.81711429 0.90151798 0.83610623\n",
      " 0.82110583 0.90094017 0.86802781 0.83658471 0.81667048 0.73218943\n",
      " 0.8067897  0.84172205 0.8181155  0.84047268 0.85563599 0.72701881\n",
      " 0.83473745 0.84520266 0.85318858 0.71109172 0.84176715 0.71812574\n",
      " 0.83567323 0.88492429 0.8122116  0.84361952 0.84565209 0.86588378\n",
      " 0.83113019 0.89519934 0.89879649 0.87409946 0.86821966 0.76163348\n",
      " 0.91601776 0.79047842 0.88558492 0.86037328 0.8120207  0.77896869\n",
      " 0.86514019 0.82516043 0.84771035 0.84956937 0.83547894 0.8530288\n",
      " 0.88865027 0.77997755 0.87019475 0.84138751 0.86989563 0.73676043\n",
      " 0.86119189 0.83082505 0.85383845 0.88629155 0.81135777 0.84147109\n",
      " 0.8340442  0.81024314 0.81174219 0.69857613 0.84160628]\n"
     ]
    }
   ],
   "metadata": {}
  }
 ],
 "metadata": {
  "kernelspec": {
   "name": "python3",
   "display_name": "Python 3.8.10 64-bit"
  },
  "language_info": {
   "codemirror_mode": {
    "name": "ipython",
    "version": 3
   },
   "file_extension": ".py",
   "mimetype": "text/x-python",
   "name": "python",
   "nbconvert_exporter": "python",
   "pygments_lexer": "ipython3",
   "version": "3.8.10"
  },
  "interpreter": {
   "hash": "31f2aee4e71d21fbe5cf8b01ff0e069b9275f58929596ceb00d14d90e3e16cd6"
  }
 },
 "nbformat": 4,
 "nbformat_minor": 5
}