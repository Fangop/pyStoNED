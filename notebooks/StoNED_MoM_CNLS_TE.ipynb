{
 "cells": [
  {
   "cell_type": "markdown",
   "id": "80b7eeca",
   "metadata": {},
   "source": [
    "# JLMS estimator"
   ]
  },
  {
   "cell_type": "markdown",
   "id": "54d96dc3",
   "metadata": {},
   "source": [
    "After estimating the expected inefficiency $\\mu$ using methods of moment (MOM) or quasi-likelihood estimation (QLE),[^1] \n",
    "we then employ JLMS estimator proposed by Jondrow et al. (1982) to estimate the firm-specific inefficiencies (Johnson and Kuosmanen, 2015). Under the assumption of a normally distributed error term and a half-normally distributed inefficiency term, JLMS formulates the conditional distribution of inefficiency $u_i$, given $\\hat{\\varepsilon}_i$, and propose the inefficiency estimator as the conditional mean $E[u_i \\, | \\, \\hat{\\varepsilon}_i]$. \n",
    "\n",
    "Following Kumbhakar and Lovell (2000), the conditional expected value of inefficiency $E[u_i  \\, | \\, \\hat{\\varepsilon}_i]$ for production function and cost function are shown as follow, respectively:\n",
    "\n",
    "- Production function\n",
    " \\begin{align}\n",
    "            E[u_i  \\, | \\, \\hat{\\varepsilon}_i] = \\mu_{*i} + \\sigma_* \\Bigg[ \\frac{\\phi(-\\mu_{*i}/\\sigma_*)}{1-\\Phi(-\\mu_{*i}/\\sigma_*)} \\Bigg] = \\sigma_* \\Bigg[ \\frac{\\phi(\\varepsilon_i \\lambda/\\sigma)}{1-\\Phi(\\varepsilon_i \\lambda/\\sigma)} - \\frac{\\varepsilon_i \\lambda}{\\sigma} \\Bigg]  \\notag\n",
    "\\end{align}\n",
    "where $\\mu_*= -\\varepsilon \\sigma_u^2/\\sigma^2$, $\\sigma_*^2 = \\sigma_u^2\\sigma_v^2/\\sigma^2$, $\\lambda = \\sigma_u/\\sigma_v$, and $\\sigma^2 = \\sigma_u^2 +\\sigma_v^2$. The symbol $\\phi$ is the standard normal density function, and the symbol $\\Phi$ denotes the cumulative distribution function of the standard normal distribution.\n",
    "\n",
    "- Cost function\n",
    "\\begin{align}\n",
    "         E[u_i \\mid \\hat{\\varepsilon}_i] = \\mu_{*i} + \\sigma_* \\Bigg[ \\frac{\\phi(-\\mu_{*i}/\\sigma_*)}{1-\\Phi(-\\mu_{*i}/\\sigma_*)} \\Bigg] = \\sigma_* \\Bigg[ \\frac{\\phi(\\varepsilon_i \\lambda/\\sigma)}{1-\\Phi(-\\varepsilon_i \\lambda/\\sigma)} + \\frac{\\varepsilon_i \\lambda}{\\sigma} \\Bigg]  \\notag\n",
    "\\end{align}\n",
    "where $\\mu_*= \\varepsilon \\sigma_u^2/\\sigma^2$, $\\sigma_*^2 = \\sigma_u^2\\sigma_v^2/\\sigma^2$, $\\lambda = \\sigma_u/\\sigma_v$, and $\\sigma^2 = \\sigma_u^2 +\\sigma_v^2$.\n",
    " \n",
    "The firm-level technical efficiency (TE) is then measured based on the estimated conditional mean. For different model, the technical efficiency is calculated as \n",
    "\n",
    "- Production function\n",
    "     - Multiplicative model: $\\text{TE} = \\exp(-E[u_i \\mid  \\varepsilon_i])$ \n",
    "     - Additive model: $\\text{TE} = \\frac{y - E[u_i \\mid  \\varepsilon_i]}{y}$\n",
    "\n",
    "- Cost function\n",
    "     - Multiplicative model: $\\text{TE} = \\exp(E[u_i \\mid  \\varepsilon_i])$\n",
    "     - Additive model: $\\text{TE} = \\frac{y+ E[u_i \\mid  \\varepsilon_i]}{y}$\n",
    "\n",
    "\n",
    "[^1]: For the expected inefficiency $\\mu$ estimated by kernel deconvolution, Dai (2016) proposes a non-parametric strategy where the Richardson–Lucy blind deconvolution algorithm is used to identify firm-specific inefficiencies. However, the pyStoNED package only supports the parametric estimation of firm-specific inefficiencies due to the fact that the parametric method is more widely used in efficiency analysis literature."
   ]
  },
  {
   "cell_type": "code",
   "execution_count": 1,
   "id": "a72249e8",
   "metadata": {},
   "outputs": [],
   "source": [
    "# import packages\n",
    "from pystoned import CNLS, StoNED\n",
    "from pystoned.dataset import load_Finnish_electricity_firm\n",
    "from pystoned.constant import CET_MULT, FUN_COST, RTS_VRS, RED_MOM"
   ]
  },
  {
   "cell_type": "code",
   "execution_count": 2,
   "id": "4094e923",
   "metadata": {},
   "outputs": [],
   "source": [
    "# import Finnish electricity distribution firms data\n",
    "data = load_Finnish_electricity_firm(x_select=['OPEX', 'CAPEX'], y_select=['Energy'])"
   ]
  },
  {
   "cell_type": "code",
   "execution_count": 3,
   "id": "c9f80126",
   "metadata": {},
   "outputs": [
    {
     "name": "stdout",
     "output_type": "stream",
     "text": [
      "Estimating the multiplicative model remotely with knitro solver\n"
     ]
    }
   ],
   "source": [
    "# build and optimize the CNLS model\n",
    "model = CNLS.CNLS(data.y, data.x, z=None, cet=CET_MULT, fun=FUN_COST, rts=RTS_VRS)\n",
    "model.optimize('email@address')"
   ]
  },
  {
   "cell_type": "code",
   "execution_count": 4,
   "id": "09dcf1a0",
   "metadata": {},
   "outputs": [
    {
     "name": "stdout",
     "output_type": "stream",
     "text": [
      "[1.22527995 1.2465569  1.15710829 1.10381701 1.12145201 1.44256348\n",
      " 1.11471103 1.20186083 1.2468081  1.40660501 1.23959906 1.20452134\n",
      " 1.1919152  1.12803616 1.17542324 1.30590389 1.19633887 1.12940287\n",
      " 1.11414339 1.18875538 1.28594873 1.54433899 1.16574689 1.23625054\n",
      " 1.23272929 1.17365284 1.12609702 1.09809819 1.80323022 1.19519167\n",
      " 1.20749973 1.50126743 1.29649857 1.1892327  1.15929846 1.07377937\n",
      " 1.12275132 1.28077141 1.29026282 1.16929384 1.21560086 1.12616919\n",
      " 1.14667032 1.27916331 1.30421547 1.09899776 1.17198462 1.1427806\n",
      " 1.1676284  1.34407979 1.26132855 1.19559185 1.26506686 1.23540726\n",
      " 1.23654544 1.40956197 1.44294743 1.42437069 1.31461526 1.0936674\n",
      " 1.25443445 1.09593576 1.36044566 1.20949722 1.16191913 1.15096541\n",
      " 1.26754816 1.14122449 1.21124183 1.19976217 1.14305494 1.23034978\n",
      " 1.3537274  1.16189102 1.35222754 1.14670027 1.24178434 1.17453758\n",
      " 1.20261236 1.15373885 1.26813674 1.35032813 1.12972972 1.14670921\n",
      " 1.16489374 1.3291303  1.32421883 1.12725195 1.24691402]\n"
     ]
    }
   ],
   "source": [
    "# print firm-level efficiency using MOM method\n",
    "rd = StoNED.StoNED(model)\n",
    "print(rd.get_technical_inefficiency(RED_MOM))  "
   ]
  }
 ],
 "metadata": {
  "kernelspec": {
   "display_name": "Python 3",
   "language": "python",
   "name": "python3"
  },
  "language_info": {
   "codemirror_mode": {
    "name": "ipython",
    "version": 3
   },
   "file_extension": ".py",
   "mimetype": "text/x-python",
   "name": "python",
   "nbconvert_exporter": "python",
   "pygments_lexer": "ipython3",
   "version": "3.8.10"
  }
 },
 "nbformat": 4,
 "nbformat_minor": 5
}
