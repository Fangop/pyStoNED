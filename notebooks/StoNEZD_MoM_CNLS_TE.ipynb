{
 "cells": [
  {
   "cell_type": "markdown",
   "metadata": {},
   "source": [
    "# StoNED: Method of Moment"
   ]
  },
  {
   "cell_type": "markdown",
   "metadata": {},
   "source": [
    "The method of moments requires some additional parametric distributional assumptions. Following Kuosmanen et al., (2015), under the maintained assumptions of half-normal inefficiency (i.e., $u_i \\sim N^+(0, \\sigma_u^2)$) and normal noise (i.e., $v_i \\sim N(0, \\sigma_v^2)$), the second and third central moments of the composite error (i.e., $\\varepsilon_i$) distribution are given by\n",
    "\\begin{align}\n",
    "        M_2 &= \\bigg[\\frac{\\pi-2}{\\pi}\\bigg] \\sigma_u^2 + \\sigma_v^2  \\notag \\\\\n",
    "        M_3 &= \\bigg(\\sqrt{\\frac{2}{\\pi}}\\bigg)\\bigg[1-\\frac{4}{\\pi}\\bigg]\\sigma_u^2 \\notag\n",
    "\\end{align}ign*}\n",
    "\n",
    "The second and third central moments can be estimated by using the CNLS residuals, i.e.,  $\\hat{\\varepsilon}_i^{CNLS}$:\n",
    "    \n",
    "\\begin{align}\n",
    "    \\hat{M_2} &= \\sum_{i=1}^{n}(\\hat{\\varepsilon}_i-\\bar{\\varepsilon})^{2}/n  \\notag \\\\\n",
    "    \\hat{M_3} &= \\sum_{i=1}^{n}(\\hat{\\varepsilon}_i-\\bar{\\varepsilon})^{3}/n  \\notag\n",
    "\\end{align}\n",
    "\n",
    "Note that the third moment $M_3$ (which measures the skewness of the distribution) only depends on the standard deviation parameter $\\sigma_u$ of the inefficiency distribution. Thus, given the estimated $\\hat{M}_3$ (which should be positive in the case of a cost frontier), we can estimate the parameter $\\sigma_u$ and $\\sigma_v$ by\n",
    "\\begin{align}\n",
    "    \\hat{\\sigma}_u &= \\sqrt[3]{\\frac{\\hat{M_3}}{\\bigg(\\sqrt{\\frac{2}{\\pi}}\\bigg)\\bigg[1-\\frac{4}{\\pi}\\bigg]}} \\notag \\\\\n",
    "    \\hat{\\sigma}_v &= \\sqrt[2]{\\hat{M_2}-\\bigg[\\frac{\\pi-2}{\\pi}\\bigg] \\hat{\\sigma}_u^2 } \\notag\n",
    "\\end{align}"
   ]
  },
  {
   "cell_type": "code",
   "execution_count": 1,
   "metadata": {},
   "outputs": [],
   "source": [
    "# import packages\n",
    "from pystoned import CNLS, StoNED\n",
    "from pystoned.dataset import load_Finnish_electricity_firm\n",
    "from pystoned.constant import CET_MULT, FUN_COST, RTS_VRS, RED_MOM"
   ]
  },
  {
   "cell_type": "code",
   "execution_count": 2,
   "metadata": {},
   "outputs": [],
   "source": [
    "# import Finnish electricity distribution firms data\n",
    "data=load_Finnish_electricity_firm(x_select=['Energy','Length','Customers'],y_select=['TOTEX'], z_select=['PerUndGr'])"
   ]
  },
  {
   "cell_type": "code",
   "execution_count": 3,
   "metadata": {},
   "outputs": [
    {
     "name": "stdout",
     "output_type": "stream",
     "text": [
      "Estimating the multiplicative model remotely with knitro solver\n"
     ]
    }
   ],
   "source": [
    "# build and optimize the CNLS model\n",
    "model = CNLS.CNLS(y=data.y, x=data.x, z=data.z, cet=CET_MULT, fun=FUN_COST, rts=RTS_VRS)\n",
    "model.optimize('email@address')"
   ]
  },
  {
   "cell_type": "code",
   "execution_count": 4,
   "metadata": {},
   "outputs": [
    {
     "name": "stdout",
     "output_type": "stream",
     "text": [
      "[1.03110069 1.02940641 1.02886856 1.02977033 1.03447988 1.02600838\n",
      " 1.02809928 1.03574493 1.03443714 1.02644129 1.02910756 1.02754098\n",
      " 1.03592103 1.03732912 1.02715653 1.02715595 1.0321722  1.03773464\n",
      " 1.02979406 1.02691427 1.02797169 1.02183266 1.02716714 1.02497356\n",
      " 1.03399859 1.02931315 1.03722305 1.02443859 1.03241827 1.02740196\n",
      " 1.02658728 1.02319016 1.02861923 1.03475875 1.02884159 1.03600548\n",
      " 1.02437404 1.02359412 1.02383879 1.02916917 1.02845275 1.0271191\n",
      " 1.03423078 1.02546533 1.02513411 1.02484374 1.03110362 1.02798777\n",
      " 1.02612372 1.0252437  1.03674169 1.03142129 1.03220031 1.03794564\n",
      " 1.03098638 1.02357904 1.02551354 1.02788463 1.0237205  1.02872199\n",
      " 1.01970074 1.02831762 1.02851414 1.03199127 1.03648808 1.02672559\n",
      " 1.03372928 1.02790119 1.02976371 1.02232842 1.02926001 1.02996183\n",
      " 1.02552388 1.02555446 1.02511515 1.02924324 1.03002739 1.02993207\n",
      " 1.02879936 1.02812672 1.02825729 1.02636067 1.02614243 1.02914286\n",
      " 1.03093234 1.02679628 1.02743418 1.03236693 1.02948783]\n"
     ]
    }
   ],
   "source": [
    "# Residual decomposition\n",
    "rd = StoNED.StoNED(model)\n",
    "print(rd.get_technical_inefficiency(RED_MOM))"
   ]
  }
 ],
 "metadata": {
  "interpreter": {
   "hash": "97ae724bfa85b9b34df7982b8bb8c7216f435b92902d749e4263f71162bea840"
  },
  "kernelspec": {
   "display_name": "Python 3",
   "language": "python",
   "name": "python3"
  },
  "language_info": {
   "codemirror_mode": {
    "name": "ipython",
    "version": 3
   },
   "file_extension": ".py",
   "mimetype": "text/x-python",
   "name": "python",
   "nbconvert_exporter": "python",
   "pygments_lexer": "ipython3",
   "version": "3.8.10"
  }
 },
 "nbformat": 4,
 "nbformat_minor": 4
}
