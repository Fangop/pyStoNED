{
 "cells": [
  {
   "cell_type": "markdown",
   "metadata": {},
   "source": [
    "## Isotonic CQR"
   ]
  },
  {
   "cell_type": "markdown",
   "metadata": {},
   "source": [
    "ICQR estimator:\n",
    "\n",
    "    \\begin{alignat*}{2}\n",
    "    \\underset{\\mathbf{\\alpha},\\mathbf{\\beta },{{\\mathbf{\\varepsilon }}^{\\text{+}}},{{\\mathbf{\\varepsilon }}^{-}}}{\\mathop{\\min }}&\\,\n",
    "    \\tau \\sum\\limits_{i=1}^{n}{\\varepsilon _{i}^{+}}+(1-\\tau )\\sum\\limits_{i=1}^{n}{\\varepsilon _{i}^{-}}  &{}& \\\\ \n",
    "    & \\text{s.t.} \\\\\n",
    "    & y_i=\\mathbf{\\alpha}_i+ \\beta_i^{'}x_i+\\varepsilon _i^{+}-\\varepsilon _i^{-} &\\quad& \\forall i\\\\\n",
    "    & p_{ih}(\\mathbf{\\alpha}_i+\\beta_{i}^{'}x_i) \\le p_{ih}(\\mathbf{\\alpha}_h+\\beta _h^{'}x_i)  &{}& \\forall i,h \\\\\n",
    "    & \\beta_i\\ge 0 &{}& \\forall i \\\\\n",
    "    & \\varepsilon _i^{+}\\ge 0,\\ \\varepsilon_i^{-} \\ge 0 &{}& \\forall i\n",
    "    \\end{alignat*}"
   ]
  },
  {
   "cell_type": "code",
   "execution_count": 4,
   "metadata": {},
   "outputs": [],
   "source": [
    "# import packages\n",
    "from pystoned import ICQER\n",
    "from pystoned.constant import CET_ADDI, FUN_PROD, OPT_LOCAL, RTS_VRS\n",
    "from pystoned.dataset import load_Finnish_electricity_firm"
   ]
  },
  {
   "cell_type": "code",
   "execution_count": 5,
   "metadata": {},
   "outputs": [],
   "source": [
    "# import Finnish electricity distribution firms data\n",
    "data = load_Finnish_electricity_firm(x_select=['OPEX', 'CAPEX'], y_select=['Energy'])"
   ]
  },
  {
   "cell_type": "code",
   "execution_count": 6,
   "metadata": {},
   "outputs": [
    {
     "output_type": "stream",
     "name": "stdout",
     "text": [
      "Optimizing locally.\n",
      "Estimating the additive model locally with mosek solver\n",
      "Problem\n",
      "  Name                   :                 \n",
      "  Objective sense        : min             \n",
      "  Type                   : LO (linear optimization problem)\n",
      "  Constraints            : 3803            \n",
      "  Cones                  : 0               \n",
      "  Scalar variables       : 623             \n",
      "  Matrix variables       : 0               \n",
      "  Integer variables      : 0               \n",
      "\n",
      "Optimizer started.\n",
      "Presolve started.\n",
      "Linear dependency checker started.\n",
      "Linear dependency checker terminated.\n",
      "Eliminator started.\n",
      "Freed constraints in eliminator : 0\n",
      "Eliminator terminated.\n",
      "Eliminator - tries                  : 1                 time                   : 0.00            \n",
      "Lin. dep.  - tries                  : 1                 time                   : 0.01            \n",
      "Lin. dep.  - number                 : 0               \n",
      "Presolve terminated. Time: 0.04    \n",
      "Problem\n",
      "  Name                   :                 \n",
      "  Objective sense        : min             \n",
      "  Type                   : LO (linear optimization problem)\n",
      "  Constraints            : 3803            \n",
      "  Cones                  : 0               \n",
      "  Scalar variables       : 623             \n",
      "  Matrix variables       : 0               \n",
      "  Integer variables      : 0               \n",
      "\n",
      "Optimizer  - threads                : 4               \n",
      "Optimizer  - solved problem         : the dual        \n",
      "Optimizer  - Constraints            : 264\n",
      "Optimizer  - Cones                  : 0\n",
      "Optimizer  - Scalar variables       : 3889              conic                  : 0               \n",
      "Optimizer  - Semi-definite variables: 0                 scalarized             : 0               \n",
      "Factor     - setup time             : 0.01              dense det. time        : 0.00            \n",
      "Factor     - ML order time          : 0.00              GP order time          : 0.00            \n",
      "Factor     - nonzeros before factor : 3.24e+04          after factor           : 3.45e+04        \n",
      "Factor     - dense dim.             : 0                 flops                  : 6.14e+06        \n",
      "ITE PFEAS    DFEAS    GFEAS    PRSTATUS   POBJ              DOBJ              MU       TIME  \n",
      "0   7.6e+05  1.0e+04  4.9e+06  0.00e+00   -4.275500000e+03  3.847950000e+04   1.3e+04  0.08  \n",
      "1   3.0e+05  4.1e+03  2.0e+06  -9.97e-01  -4.086789387e+03  3.821366960e+04   5.3e+03  0.31  \n",
      "2   2.4e+04  3.2e+02  1.5e+05  -9.56e-01  -5.760363753e+02  3.005558820e+04   4.1e+02  0.32  \n",
      "3   4.0e+03  5.4e+01  2.6e+04  -3.76e-01  2.948148292e+03   1.496076472e+04   7.0e+01  0.32  \n",
      "4   1.4e+03  1.9e+01  9.3e+03  4.31e-01   2.912381481e+03   8.266141877e+03   2.5e+01  0.33  \n",
      "5   7.0e+02  9.4e+00  4.5e+03  4.03e-01   2.482063411e+03   5.464259033e+03   1.2e+01  0.34  \n",
      "6   8.5e+01  1.1e+00  5.5e+02  7.60e-01   2.116037903e+03   2.532876604e+03   1.5e+00  0.35  \n",
      "7   3.7e+01  5.0e-01  2.4e+02  4.45e-01   1.797484781e+03   2.051138614e+03   6.4e-01  0.35  \n",
      "8   2.3e+01  3.1e-01  1.5e+02  3.40e-01   1.572848897e+03   1.771327828e+03   4.0e-01  0.36  \n",
      "9   1.2e+01  1.7e-01  8.0e+01  3.14e-01   1.307106944e+03   1.433732938e+03   2.2e-01  0.37  \n",
      "10  7.5e+00  1.0e-01  4.8e+01  6.11e-01   1.165449719e+03   1.250139199e+03   1.3e-01  0.37  \n",
      "11  4.3e+00  5.7e-02  2.8e+01  5.60e-01   1.027302890e+03   1.086341516e+03   7.4e-02  0.38  \n",
      "12  2.7e+00  3.6e-02  1.7e+01  5.34e-01   9.099223681e+02   9.554495907e+02   4.6e-02  0.39  \n",
      "13  1.7e+00  2.3e-02  1.1e+01  6.49e-01   8.180031859e+02   8.511943783e+02   3.0e-02  0.40  \n",
      "14  1.0e+00  1.4e-02  6.5e+00  7.48e-01   7.421280540e+02   7.623934328e+02   1.8e-02  0.41  \n",
      "15  7.4e-01  1.0e-02  4.8e+00  8.65e-01   7.137729473e+02   7.291124975e+02   1.3e-02  0.41  \n",
      "16  1.4e-01  1.8e-03  8.8e-01  9.36e-01   6.494339305e+02   6.523056038e+02   2.4e-03  0.42  \n",
      "17  1.1e-02  1.5e-04  7.0e-02  9.58e-01   6.361927929e+02   6.364206950e+02   1.9e-04  0.43  \n",
      "18  1.6e-03  2.2e-05  1.0e-02  9.93e-01   6.356725902e+02   6.357068056e+02   2.8e-05  0.43  \n",
      "19  5.5e-05  7.4e-07  3.6e-04  9.86e-01   6.353028188e+02   6.353039936e+02   9.6e-07  0.44  \n",
      "20  5.7e-09  7.7e-11  3.7e-08  1.00e+00   6.353000003e+02   6.353000004e+02   1.0e-10  0.45  \n",
      "Basis identification started.\n",
      "Primal basis identification phase started.\n",
      "Primal basis identification phase terminated. Time: 0.01\n",
      "Dual basis identification phase started.\n",
      "Dual basis identification phase terminated. Time: 0.00\n",
      "Basis identification terminated. Time: 0.03\n",
      "Optimizer terminated. Time: 0.55    \n",
      "\n",
      "\n",
      "Interior-point solution summary\n",
      "  Problem status  : PRIMAL_AND_DUAL_FEASIBLE\n",
      "  Solution status : OPTIMAL\n",
      "  Primal.  obj: 6.3530000031e+02    nrm: 7e+03    Viol.  con: 2e-08    var: 0e+00  \n",
      "  Dual.    obj: 6.3530000042e+02    nrm: 9e+02    Viol.  con: 0e+00    var: 2e-07  \n",
      "\n",
      "Basic solution summary\n",
      "  Problem status  : PRIMAL_AND_DUAL_FEASIBLE\n",
      "  Solution status : OPTIMAL\n",
      "  Primal.  obj: 6.3530000019e+02    nrm: 7e+03    Viol.  con: 8e-06    var: 0e+00  \n",
      "  Dual.    obj: 6.3530000000e+02    nrm: 1e+03    Viol.  con: 6e-16    var: 5e-13  \n"
     ]
    }
   ],
   "source": [
    "# define and solve the CNLS model\n",
    "model = ICQER.ICQR(y=data.y, x=data.x, tau = 0.9, z=None, cet = CET_ADDI, fun = FUN_PROD, rts = RTS_VRS)\n",
    "model.optimize(OPT_LOCAL)"
   ]
  },
  {
   "cell_type": "code",
   "execution_count": 7,
   "metadata": {},
   "outputs": [
    {
     "output_type": "stream",
     "name": "stdout",
     "text": [
      "epsilon : error term\n    Size=89, Index=I\n    Key : Lower : Value               : Upper : Fixed : Stale : Domain\n      0 :  None : -2.0000000585763473 :  None : False : False :  Reals\n      1 :  None : -15.000000004675286 :  None : False : False :  Reals\n      2 :  None :  -52.00000001331236 :  None : False : False :  Reals\n      3 :  None :  -598.0000000387961 :  None : False : False :  Reals\n      4 :  None : -13.000000025656604 :  None : False : False :  Reals\n      5 :  None :                 0.0 :  None : False : False :  Reals\n      6 :  None :  -33.00000000223801 :  None : False : False :  Reals\n      7 :  None :  -32.00000001823642 :  None : False : False :  Reals\n      8 :  None :                 0.0 :  None : False : False :  Reals\n      9 :  None :                 0.0 :  None : False : False :  Reals\n     10 :  None :                 0.0 :  None : False : False :  Reals\n     11 :  None :                 0.0 :  None : False : False :  Reals\n     12 :  None : -13.000000048550817 :  None : False : False :  Reals\n     13 :  None :  -23.00000003023723 :  None : False : False :  Reals\n     14 :  None :                 0.0 :  None : False : False :  Reals\n     15 :  None :                 0.0 :  None : False : False :  Reals\n     16 :  None :                 0.0 :  None : False : False :  Reals\n     17 :  None : -15.999999997940435 :  None : False : False :  Reals\n     18 :  None :  -15.00000002283329 :  None : False : False :  Reals\n     19 :  None : -44.000000035849325 :  None : False : False :  Reals\n     20 :  None : -3.0000000208020765 :  None : False : False :  Reals\n     21 :  None :                 0.0 :  None : False : False :  Reals\n     22 :  None :  -5.000000006124903 :  None : False : False :  Reals\n     23 :  None : -51.000000013636054 :  None : False : False :  Reals\n     24 :  None :                 0.0 :  None : False : False :  Reals\n     25 :  None :  -35.00000001887551 :  None : False : False :  Reals\n     26 :  None :  -55.00000003708632 :  None : False : False :  Reals\n     27 :  None :   -669.000000018664 :  None : False : False :  Reals\n     28 :  None :   46.00000001772695 :  None : False : False :  Reals\n     29 :  None :  -38.00000001753969 :  None : False : False :  Reals\n     30 :  None :  -4.000000020999849 :  None : False : False :  Reals\n     31 :  None :                 0.0 :  None : False : False :  Reals\n     32 :  None :                 0.0 :  None : False : False :  Reals\n     33 :  None :                 0.0 :  None : False : False :  Reals\n     34 :  None : -31.000000075463532 :  None : False : False :  Reals\n     35 :  None :  -375.9999999928058 :  None : False : False :  Reals\n     36 :  None : -124.00000003926698 :  None : False : False :  Reals\n     37 :  None :  -4.000000023050092 :  None : False : False :  Reals\n     38 :  None :                 0.0 :  None : False : False :  Reals\n     39 :  None :  -58.00000008155314 :  None : False : False :  Reals\n     40 :  None :  -84.00000004521075 :  None : False : False :  Reals\n     41 :  None :  -7.000000037017369 :  None : False : False :  Reals\n     42 :  None : -421.00000000610316 :  None : False : False :  Reals\n     43 :  None :                 0.0 :  None : False : False :  Reals\n     44 :  None :                 0.0 :  None : False : False :  Reals\n     45 :  None : -15.000000055715475 :  None : False : False :  Reals\n     46 :  None :  -255.0000000771537 :  None : False : False :  Reals\n     47 :  None : -11.000000035055653 :  None : False : False :  Reals\n     48 :  None : -225.00000001842943 :  None : False : False :  Reals\n     49 :  None :                 0.0 :  None : False : False :  Reals\n     50 :  None : -1.0000000055104579 :  None : False : False :  Reals\n     51 :  None :  -72.00000002571426 :  None : False : False :  Reals\n     52 :  None :  -2.000000035597978 :  None : False : False :  Reals\n     53 :  None : -54.000000023528116 :  None : False : False :  Reals\n     54 :  None :                 0.0 :  None : False : False :  Reals\n     55 :  None :                 0.0 :  None : False : False :  Reals\n     56 :  None :                 0.0 :  None : False : False :  Reals\n     57 :  None :                 0.0 :  None : False : False :  Reals\n     58 :  None :                 0.0 :  None : False : False :  Reals\n     59 :  None :  -86.00000005375867 :  None : False : False :  Reals\n     60 :  None :                 0.0 :  None : False : False :  Reals\n     61 :  None :  -666.0000000219147 :  None : False : False :  Reals\n     62 :  None :                 0.0 :  None : False : False :  Reals\n     63 :  None :  -162.0000000082789 :  None : False : False :  Reals\n     64 :  None :  -35.00000004916345 :  None : False : False :  Reals\n     65 :  None :  -33.99999998791455 :  None : False : False :  Reals\n     66 :  None : -58.000000011384316 :  None : False : False :  Reals\n     67 :  None :  -309.0000002284221 :  None : False : False :  Reals\n     68 :  None :  -34.00000002350998 :  None : False : False :  Reals\n     69 :  None :   -86.0000000240965 :  None : False : False :  Reals\n     70 :  None : -53.000000067759174 :  None : False : False :  Reals\n     71 :  None :  -32.00000001020965 :  None : False : False :  Reals\n     72 :  None :                 0.0 :  None : False : False :  Reals\n     73 :  None :                 0.0 :  None : False : False :  Reals\n     74 :  None :                 0.0 :  None : False : False :  Reals\n     75 :  None :  -99.00000003719373 :  None : False : False :  Reals\n     76 :  None :                 0.0 :  None : False : False :  Reals\n     77 :  None :  -3.000000042640508 :  None : False : False :  Reals\n     78 :  None : -206.00000002186187 :  None : False : False :  Reals\n     79 :  None : -247.00000000270063 :  None : False : False :  Reals\n     80 :  None :  -21.00000004023866 :  None : False : False :  Reals\n     81 :  None :                 0.0 :  None : False : False :  Reals\n     82 :  None :  -90.00000007757922 :  None : False : False :  Reals\n     83 :  None :                 0.0 :  None : False : False :  Reals\n     84 :  None : -230.00000000390503 :  None : False : False :  Reals\n     85 :  None :                 0.0 :  None : False : False :  Reals\n     86 :  None :                 0.0 :  None : False : False :  Reals\n     87 :  None :  -7.000000022242691 :  None : False : False :  Reals\n     88 :  None :  -25.00000000488575 :  None : False : False :  Reals\n"
     ]
    }
   ],
   "source": [
    "# display residuals\n",
    "model.display_residual()"
   ]
  }
 ],
 "metadata": {
  "kernelspec": {
   "name": "python385jvsc74a57bd094a1946ca23e1f569e799abdffc00c9e53ed85c926ab87b3c18579d13d535572",
   "display_name": "Python 3.8.5 64-bit ('base': conda)"
  },
  "language_info": {
   "codemirror_mode": {
    "name": "ipython",
    "version": 3
   },
   "file_extension": ".py",
   "mimetype": "text/x-python",
   "name": "python",
   "nbconvert_exporter": "python",
   "pygments_lexer": "ipython3",
   "version": "3.8.5"
  }
 },
 "nbformat": 4,
 "nbformat_minor": 4
}