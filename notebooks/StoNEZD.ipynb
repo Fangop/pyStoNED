{
 "cells": [
  {
   "cell_type": "markdown",
   "metadata": {},
   "source": [
    "# StoNED with Z variables"
   ]
  },
  {
   "cell_type": "markdown",
   "metadata": {},
   "source": [
    "A firm’s ability to operate efficiently often depends on operational conditions \n",
    "and practices, such as the production environment and the firm specific \n",
    "characteristics for  example  technology  selection  or  managerial  \n",
    "practices.  Banker  and  Natarajan (2008) refer to both variables that \n",
    "characterize operational conditions and practices as `contextual variables`.\n",
    "\n",
    "* Contextual variables are often (but not always) **external factors** that are beyond the control of firms\n",
    "\n",
    "    - Examples: competition, regulation, weather, location\n",
    "\n",
    "    - Need to adjust efficiency estimates for operating environment\n",
    "\n",
    "    - Policy makers may influence the operating environment\n",
    "\n",
    "* Contextual variables can also be **internal factors**\n",
    "\n",
    "    - Examples: management practices, ownership\n",
    "    \n",
    "    - Better understanding of the impacts of internal factors can help the firm to improve performance\n",
    "\n",
    "\n",
    "Taking the multiplicative model as our starting point, \n",
    "we introduce the contextual variables, represented by `r`-dimensional vectorszi that \n",
    "represent the measured values of operational conditions and practices, to obtain \n",
    "the following semi-nonparametric, partial log-linear equation\n",
    "\n",
    "\n",
    "   \\begin{align*}\n",
    "        \\text{ln} y_i = \\text{ln} f(\\bf x_i) + \\delta^{'}Z_i + v_i - u_i.\n",
    "   \\end{align*}\n",
    "\n",
    "In this equation, parameter vector $\\delta=(\\delta_1...\\delta_r)$ represents the \n",
    "marginal effects ofcontextual variables on output. All other variables maintain their \n",
    "previous definitions.\n",
    "\n",
    "Following Johnson and Kuosmanen (2011), we incorporate the contextual variables in step 1 of \n",
    "the StoNED estimation routine and refine the multiplicative CNLS problem as follows:\n",
    "\n",
    "   \\begin{align*}\n",
    "        & \\underset{\\alpha, \\beta, \\varepsilon} {min} \\sum_{i=1}^n\\varepsilon_i^2 \\\\\n",
    "        & \\text{s.t.} \\\\\n",
    "        &  \\text{ln} y_i = \\text{ln}(\\phi_i+1) + \\delta^{'}z_i + \\varepsilon_i  \\quad \\forall i\\\\\n",
    "        &   \\phi_i  = \\alpha_i + \\beta_i^{'}X_i -1 \\quad \\forall i \\\\\n",
    "        &  \\alpha_i + \\beta_i^{'}X_i \\le \\alpha_j + \\beta_j^{'}X_i  \\quad  \\forall i, j\\\\\n",
    "        &  \\beta_i \\ge 0 \\quad  \\forall i \\\\\n",
    "   \\end{align*}\n",
    "\n",
    "Denote by $\\delta^{StoNEZD}$ the coefficients  of  the contextual variables \n",
    "obtained as theoptimal solution to above nonlinear problem. Johnson and Kuosmanen (2011) examine the statisticalproperties of this estimator in \n",
    "detail, showing its unbiasedness, consistency, and asymptotic efficiency."
   ]
  },
  {
   "cell_type": "code",
   "execution_count": 2,
   "metadata": {},
   "outputs": [],
   "source": [
    "# import packages\n",
    "from pystoned import CNLS, StoNED\n",
    "from pystoned.constant import CET_MULT, FUN_COST, RTS_CRS, RED_MOM\n",
    "from pystoned.dataset import load_Finnish_electricity_firm"
   ]
  },
  {
   "cell_type": "code",
   "execution_count": 3,
   "metadata": {},
   "outputs": [],
   "source": [
    "# import all data (including the contextual varibale)\n",
    "data = load_Finnish_electricity_firm(x_select=['Energy', 'Length', 'Customers'],                                                       y_select=['TOTEX'],\n",
    "                                     z_select=['PerUndGr'])"
   ]
  },
  {
   "cell_type": "code",
   "execution_count": 6,
   "metadata": {},
   "outputs": [
    {
     "output_type": "stream",
     "name": "stdout",
     "text": [
      "Estimating the multiplicative model remotely with knitro solver\n"
     ]
    }
   ],
   "source": [
    "# define and solve the StoNED model using MoM approach\n",
    "model = CNLS.CNLS(y=data.y, x=data.x, z=data.x, cet = CET_MULT, fun = FUN_COST, rts = RTS_CRS) \n",
    "model.optimize('email@address')"
   ]
  },
  {
   "cell_type": "code",
   "execution_count": 7,
   "metadata": {},
   "outputs": [
    {
     "output_type": "stream",
     "name": "stdout",
     "text": [
      "[1.08916061 1.09188925 1.1369331  1.08124125 1.13270793 1.06007301\n 1.08163766 1.11100273 1.20074018 1.07434471 1.10178213 1.1186953\n 1.14933216 1.15766319 1.09040662 1.06107244 1.1338048  1.12496059\n 1.08132584 1.06780871 1.06146434 1.04559871 1.12932897 1.06484192\n 1.11288677 1.09594845 1.15153834 1.04873165 1.10334554 1.08834052\n 1.08102293 1.03629458 1.07312974 1.13494491 1.08260288 1.12598414\n 1.05066701 1.05701637 1.06307238 1.077258   1.07168848 1.09497439\n 1.10090295 1.07007805 1.06562119 1.06276572 1.09208358 1.10536326\n 1.05975081 1.06299183 1.13716002 1.0781226  1.13450688 1.13940064\n 1.09058708 1.05119009 1.04953651 1.06599966 1.05269145 1.08802938\n 1.04941228 1.06534899 1.07987373 1.08703571 1.1977919  1.06493775\n 1.0985614  1.07521614 1.09760677 1.04791826 1.07830906 1.09729233\n 1.05691667 1.06644982 1.06596914 1.07573973 1.08567771 1.13294297\n 1.08210102 1.07067186 1.07441897 1.06941042 1.06302565 1.09880699\n 1.083022   1.07739132 1.10408602 1.16897697 1.09984748]\n"
     ]
    }
   ],
   "source": [
    "# Residual decomposition\n",
    "rd = StoNED.StoNED(model)\n",
    "print(rd.get_technical_inefficiency(RED_MOM))"
   ]
  }
 ],
 "metadata": {
  "kernelspec": {
   "name": "python388jvsc74a57bd097ae724bfa85b9b34df7982b8bb8c7216f435b92902d749e4263f71162bea840",
   "display_name": "Python 3.8.8 64-bit ('base': conda)"
  },
  "language_info": {
   "codemirror_mode": {
    "name": "ipython",
    "version": 3
   },
   "file_extension": ".py",
   "mimetype": "text/x-python",
   "name": "python",
   "nbconvert_exporter": "python",
   "pygments_lexer": "ipython3",
   "version": "3.8.8"
  }
 },
 "nbformat": 4,
 "nbformat_minor": 4
}