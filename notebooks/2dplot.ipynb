{
 "cells": [
  {
   "cell_type": "markdown",
   "metadata": {},
   "source": [
    "## Plot of estimated function/frontier: one-input and one-output"
   ]
  },
  {
   "cell_type": "code",
   "execution_count": 1,
   "metadata": {},
   "outputs": [],
   "source": [
    "# import packages\n",
    "from pystoned import CNLS, CQER\n",
    "from pystoned.plot import plot2d\n",
    "from pystoned.constant import CET_ADDI, FUN_PROD, OPT_LOCAL, RTS_VRS\n",
    "from pystoned.dataset import load_Tim_Coelli_frontier"
   ]
  },
  {
   "cell_type": "code",
   "execution_count": 2,
   "metadata": {},
   "outputs": [],
   "source": [
    "# import the data from Tim Coelli Frontier 4.1 \n",
    "data = load_Tim_Coelli_frontier(x_select=['labour'],\n",
    "                                y_select=['output'])"
   ]
  },
  {
   "cell_type": "code",
   "execution_count": 3,
   "metadata": {},
   "outputs": [
    {
     "name": "stdout",
     "output_type": "stream",
     "text": [
      "Optimizing locally.\n",
      "Estimating the additive model locally with mosek solver\n",
      "Problem\n",
      "  Name                   :                 \n",
      "  Objective sense        : min             \n",
      "  Type                   : QO (quadratic optimization problem)\n",
      "  Constraints            : 3600            \n",
      "  Cones                  : 0               \n",
      "  Scalar variables       : 240             \n",
      "  Matrix variables       : 0               \n",
      "  Integer variables      : 0               \n",
      "\n",
      "Optimizer started.\n",
      "Quadratic to conic reformulation started.\n",
      "Quadratic to conic reformulation terminated. Time: 0.00    \n",
      "Presolve started.\n",
      "Linear dependency checker started.\n",
      "Linear dependency checker terminated.\n",
      "Eliminator started.\n",
      "Freed constraints in eliminator : 60\n",
      "Eliminator terminated.\n",
      "Eliminator started.\n",
      "Freed constraints in eliminator : 0\n",
      "Eliminator terminated.\n",
      "Eliminator - tries                  : 2                 time                   : 0.00            \n",
      "Lin. dep.  - tries                  : 1                 time                   : 0.00            \n",
      "Lin. dep.  - number                 : 0               \n",
      "Presolve terminated. Time: 0.01    \n",
      "Problem\n",
      "  Name                   :                 \n",
      "  Objective sense        : min             \n",
      "  Type                   : QO (quadratic optimization problem)\n",
      "  Constraints            : 3600            \n",
      "  Cones                  : 0               \n",
      "  Scalar variables       : 240             \n",
      "  Matrix variables       : 0               \n",
      "  Integer variables      : 0               \n",
      "\n",
      "Optimizer  - threads                : 4               \n",
      "Optimizer  - solved problem         : the dual        \n",
      "Optimizer  - Constraints            : 120\n",
      "Optimizer  - Cones                  : 1\n",
      "Optimizer  - Scalar variables       : 3661              conic                  : 61              \n",
      "Optimizer  - Semi-definite variables: 0                 scalarized             : 0               \n",
      "Factor     - setup time             : 0.00              dense det. time        : 0.00            \n",
      "Factor     - ML order time          : 0.00              GP order time          : 0.00            \n",
      "Factor     - nonzeros before factor : 7260              after factor           : 7260            \n",
      "Factor     - dense dim.             : 0                 flops                  : 6.69e+05        \n",
      "ITE PFEAS    DFEAS    GFEAS    PRSTATUS   POBJ              DOBJ              MU       TIME  \n",
      "0   5.2e+01  1.0e+00  2.0e+00  0.00e+00   5.000000000e-01   0.000000000e+00   1.0e+00  0.03  \n",
      "1   4.0e+01  7.7e-01  1.7e+00  -9.67e-01  4.158153911e+00   2.354552349e+00   7.7e-01  0.06  \n",
      "2   2.0e+01  3.8e-01  1.1e+00  -9.25e-01  5.258670564e+01   5.682026640e+01   3.8e-01  0.06  \n",
      "3   5.2e+00  9.9e-02  4.0e-01  -7.07e-01  7.015397855e+02   8.163911489e+02   9.9e-02  0.06  \n",
      "4   2.2e+00  4.3e-02  9.9e-02  4.15e-01   1.528805058e+03   1.574744585e+03   4.3e-02  0.06  \n",
      "5   6.6e-01  1.2e-02  1.4e-02  8.55e-01   2.321892758e+03   2.332298351e+03   1.2e-02  0.06  \n",
      "6   3.3e-01  6.2e-03  4.3e-03  1.30e+00   2.485706341e+03   2.489725023e+03   6.2e-03  0.06  \n",
      "7   5.0e-02  9.6e-04  2.5e-04  1.11e+00   2.622613890e+03   2.623142655e+03   9.6e-04  0.08  \n",
      "8   8.4e-03  1.6e-04  1.6e-05  1.09e+00   2.639987777e+03   2.640065244e+03   1.6e-04  0.08  \n",
      "9   4.9e-03  9.3e-05  7.0e-06  1.10e+00   2.636620539e+03   2.636665009e+03   9.3e-05  0.08  \n",
      "10  3.8e-03  7.2e-05  4.8e-06  1.07e+00   2.633604966e+03   2.633640802e+03   7.2e-05  0.08  \n",
      "11  2.6e-03  5.0e-05  2.8e-06  1.07e+00   2.628004861e+03   2.628030542e+03   5.0e-05  0.08  \n",
      "12  2.3e-03  4.3e-05  2.2e-06  1.04e+00   2.625926886e+03   2.625948989e+03   4.3e-05  0.08  \n",
      "13  1.7e-03  3.2e-05  1.4e-06  9.89e-01   2.620619872e+03   2.620637558e+03   3.2e-05  0.08  \n",
      "14  1.1e-03  2.2e-05  7.8e-07  1.04e+00   2.615162302e+03   2.615173061e+03   2.2e-05  0.09  \n",
      "15  8.1e-04  1.5e-05  5.0e-07  9.28e-01   2.610891544e+03   2.610900747e+03   1.5e-05  0.09  \n",
      "16  3.4e-04  6.5e-06  1.3e-07  1.04e+00   2.604162830e+03   2.604166212e+03   6.5e-06  0.09  \n",
      "17  1.7e-04  3.3e-06  4.9e-08  9.64e-01   2.600668529e+03   2.600670446e+03   3.3e-06  0.09  \n",
      "18  5.6e-05  1.1e-06  8.9e-09  1.03e+00   2.598254807e+03   2.598255430e+03   1.1e-06  0.09  \n",
      "19  3.3e-05  6.3e-07  4.1e-09  9.76e-01   2.597670221e+03   2.597670602e+03   6.3e-07  0.09  \n",
      "20  4.1e-06  7.8e-08  1.8e-10  1.00e+00   2.596925065e+03   2.596925115e+03   7.8e-08  0.11  \n",
      "21  1.7e-07  3.2e-09  1.5e-12  9.99e-01   2.596802194e+03   2.596802196e+03   3.2e-09  0.11  \n",
      "Optimizer terminated. Time: 0.11    \n",
      "\n",
      "\n",
      "Interior-point solution summary\n",
      "  Problem status  : PRIMAL_AND_DUAL_FEASIBLE\n",
      "  Solution status : OPTIMAL\n",
      "  Primal.  obj: 2.5968021679e+03    nrm: 4e+01    Viol.  con: 5e-14    var: 0e+00  \n",
      "  Dual.    obj: 2.5968022227e+03    nrm: 2e+02    Viol.  con: 2e-06    var: 1e-03  \n"
     ]
    }
   ],
   "source": [
    "# define and solve the CNLS model\n",
    "CNLS_model = CNLS.CNLS(y=data.y, x=data.x, z=None, cet = CET_ADDI, fun = FUN_PROD, rts = RTS_VRS)\n",
    "CNLS_model.optimize(OPT_LOCAL)"
   ]
  },
  {
   "cell_type": "code",
   "execution_count": 4,
   "metadata": {},
   "outputs": [
    {
     "data": {
      "image/png": "[encoded data removed]",
      "text/plain": [
       "<Figure size 432x288 with 1 Axes>"
      ]
     },
     "metadata": {
      "needs_background": "light"
     },
     "output_type": "display_data"
    }
   ],
   "source": [
    "# Plot the estimated function \n",
    "plot2d(CNLS_model, x_select=0, label_name=\"CNLS estimated function\", fig_name=\"CNLS_2d\")"
   ]
  },
  {
   "cell_type": "code",
   "execution_count": 7,
   "metadata": {},
   "outputs": [
    {
     "name": "stdout",
     "output_type": "stream",
     "text": [
      "Optimizing locally.\n",
      "Estimating the additive model locally with mosek solver\n",
      "Problem\n",
      "  Name                   :                 \n",
      "  Objective sense        : min             \n",
      "  Type                   : LO (linear optimization problem)\n",
      "  Constraints            : 3660            \n",
      "  Cones                  : 0               \n",
      "  Scalar variables       : 360             \n",
      "  Matrix variables       : 0               \n",
      "  Integer variables      : 0               \n",
      "\n",
      "Optimizer started.\n",
      "Presolve started.\n",
      "Linear dependency checker started.\n",
      "Linear dependency checker terminated.\n",
      "Eliminator started.\n",
      "Freed constraints in eliminator : 0\n",
      "Eliminator terminated.\n",
      "Eliminator - tries                  : 1                 time                   : 0.00            \n",
      "Lin. dep.  - tries                  : 1                 time                   : 0.00            \n",
      "Lin. dep.  - number                 : 0               \n",
      "Presolve terminated. Time: 0.00    \n",
      "Problem\n",
      "  Name                   :                 \n",
      "  Objective sense        : min             \n",
      "  Type                   : LO (linear optimization problem)\n",
      "  Constraints            : 3660            \n",
      "  Cones                  : 0               \n",
      "  Scalar variables       : 360             \n",
      "  Matrix variables       : 0               \n",
      "  Integer variables      : 0               \n",
      "\n",
      "Optimizer  - threads                : 4               \n",
      "Optimizer  - solved problem         : the dual        \n",
      "Optimizer  - Constraints            : 120\n",
      "Optimizer  - Cones                  : 0\n",
      "Optimizer  - Scalar variables       : 3660              conic                  : 0               \n",
      "Optimizer  - Semi-definite variables: 0                 scalarized             : 0               \n",
      "Factor     - setup time             : 0.00              dense det. time        : 0.00            \n",
      "Factor     - ML order time          : 0.00              GP order time          : 0.00            \n",
      "Factor     - nonzeros before factor : 7260              after factor           : 7260            \n",
      "Factor     - dense dim.             : 0                 flops                  : 6.55e+05        \n",
      "ITE PFEAS    DFEAS    GFEAS    PRSTATUS   POBJ              DOBJ              MU       TIME  \n",
      "0   3.3e+02  3.1e+02  8.7e+03  0.00e+00   -4.986210000e+02  4.986210000e+02   7.6e+01  0.02  \n",
      "1   7.1e+01  6.6e+01  1.9e+03  -8.96e-01  -1.618701585e+02  4.213037387e+02   1.6e+01  0.03  \n",
      "2   1.5e+01  1.3e+01  3.8e+02  7.88e-01   8.018502229e+01   2.011855900e+02   3.3e+00  0.03  \n",
      "3   3.5e+00  3.3e+00  9.2e+01  8.72e-01   1.242711471e+02   1.548796708e+02   8.1e-01  0.03  \n",
      "4   3.0e-01  2.8e-01  7.8e+00  1.05e+00   1.391264421e+02   1.416560046e+02   6.8e-02  0.03  \n",
      "5   1.7e-01  1.5e-01  4.4e+00  8.25e-01   1.392171395e+02   1.406606438e+02   3.8e-02  0.05  \n",
      "6   5.8e-02  5.4e-02  1.5e+00  9.69e-01   1.390600555e+02   1.395559535e+02   1.3e-02  0.05  \n",
      "7   5.7e-02  5.3e-02  1.5e+00  8.54e-01   1.390465812e+02   1.395581977e+02   1.3e-02  0.05  \n",
      "8   4.5e-02  4.2e-02  1.2e+00  9.30e-01   1.388742469e+02   1.392720899e+02   1.0e-02  0.05  \n",
      "9   1.1e-02  1.1e-02  3.0e-01  1.14e+00   1.384877420e+02   1.385834501e+02   2.6e-03  0.05  \n",
      "10  5.2e-03  4.8e-03  1.4e-01  9.31e-01   1.383451813e+02   1.383877903e+02   1.2e-03  0.05  \n",
      "11  4.5e-04  4.2e-04  1.2e-02  1.08e+00   1.382373692e+02   1.382408399e+02   1.0e-04  0.05  \n",
      "12  1.7e-04  1.6e-04  4.4e-03  1.03e+00   1.382294112e+02   1.382306839e+02   3.8e-05  0.06  \n",
      "13  9.1e-06  8.4e-06  2.4e-04  1.01e+00   1.382250889e+02   1.382251572e+02   2.1e-06  0.06  \n",
      "14  6.8e-09  5.6e-09  1.6e-07  1.00e+00   1.382248970e+02   1.382248970e+02   1.3e-09  0.06  \n",
      "Basis identification started.\n",
      "Primal basis identification phase started.\n",
      "Primal basis identification phase terminated. Time: 0.00\n",
      "Dual basis identification phase started.\n",
      "Dual basis identification phase terminated. Time: 0.00\n",
      "Basis identification terminated. Time: 0.00\n",
      "Optimizer terminated. Time: 0.09    \n",
      "\n",
      "\n",
      "Interior-point solution summary\n",
      "  Problem status  : PRIMAL_AND_DUAL_FEASIBLE\n",
      "  Solution status : OPTIMAL\n",
      "  Primal.  obj: 1.3822489702e+02    nrm: 4e+01    Viol.  con: 2e-09    var: 0e+00  \n",
      "  Dual.    obj: 1.3822489704e+02    nrm: 2e+00    Viol.  con: 0e+00    var: 1e-07  \n",
      "\n",
      "Basic solution summary\n",
      "  Problem status  : PRIMAL_AND_DUAL_FEASIBLE\n",
      "  Solution status : OPTIMAL\n",
      "  Primal.  obj: 1.3822489689e+02    nrm: 4e+01    Viol.  con: 3e-13    var: 0e+00  \n",
      "  Dual.    obj: 1.3822489689e+02    nrm: 2e+00    Viol.  con: 1e-08    var: 1e-14  \n"
     ]
    }
   ],
   "source": [
    "# define and solve the CQR model\n",
    "CQR_model=CQER.CQR(y=data.y, x=data.x, tau=0.5, z=None, cet=CET_ADDI, fun=FUN_PROD, rts=RTS_VRS)\n",
    "CQR_model.optimize(OPT_LOCAL)"
   ]
  },
  {
   "cell_type": "code",
   "execution_count": 8,
   "metadata": {},
   "outputs": [
    {
     "data": {
      "image/png": "[encoded data removed]",
      "text/plain": [
       "<Figure size 432x288 with 1 Axes>"
      ]
     },
     "metadata": {
      "needs_background": "light"
     },
     "output_type": "display_data"
    }
   ],
   "source": [
    "# Plot the estimated function \n",
    "plot2d(CQR_model, x_select=0, label_name=\"CQR estimated function\", fig_name=\"CQR_2d\")"
   ]
  }
 ],
 "metadata": {
  "kernelspec": {
   "display_name": "Python 3",
   "language": "python",
   "name": "python3"
  },
  "language_info": {
   "codemirror_mode": {
    "name": "ipython",
    "version": 3
   },
   "file_extension": ".py",
   "mimetype": "text/x-python",
   "name": "python",
   "nbconvert_exporter": "python",
   "pygments_lexer": "ipython3",
   "version": "3.8.10"
  }
 },
 "nbformat": 4,
 "nbformat_minor": 2
}
