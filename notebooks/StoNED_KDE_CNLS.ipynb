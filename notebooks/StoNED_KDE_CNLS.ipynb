{
 "cells": [
  {
   "cell_type": "markdown",
   "source": [
    "# StoNED: Kernel Density Estimation"
   ],
   "metadata": {}
  },
  {
   "cell_type": "markdown",
   "source": [
    "while method of moments and quasi-likelihood approaches require additional distributional assumptions for the inefficiency and noise terms, a fully nonparametric estimation of the expected inefficiency $\\mu$ is also available by applying nonparametric kernel deconvolution, proposed by Hall and Simar (2002). Note that the residuals $\\hat{\\varepsilon}_i^{CNLS}$ are consistent estimators of $e^o = \\varepsilon_i + \\mu$ (for production model). Following Kuosmanen and Johnson (2017), the density function of ${e^o}$\n",
    "\\begin{align}\n",
    "    \\hat{f}_{e^o}(z) = (nh)^{-1} \\sum_{i=1}^{n}K\\bigg(\\frac{z-e_i^o}{h} \\bigg) \\notag\n",
    "\\end{align}\n",
    "where $K(\\cdot)$ is a compactly supported kernel and $h$ is a bandwidth. Hall and Simar (2002) show that the first derivative of the density function of the composite error term ($f_\\varepsilon^{'}$)is proportional to that of the inefficiency term ($f_u^{'}$) in the neighborhood of $\\mu$. Therefore, a robust nonparametric estimator of expected inefficiency $\\mu$ is obtained as\n",
    "\\begin{align}\n",
    "    \\hat{\\mu} = \\arg \\max_{z \\in C}(\\hat{f^{'}}_{e^o}(z)) \\notag\n",
    "\\end{align}\n",
    "where $C$ is a closed interval in he right tail of $f_{e^o}$."
   ],
   "metadata": {}
  },
  {
   "cell_type": "code",
   "execution_count": 1,
   "source": [
    "# import packages\r\n",
    "from pystoned import CNLS, StoNED\r\n",
    "from pystoned.dataset import load_Finnish_electricity_firm\r\n",
    "from pystoned.constant import CET_MULT, FUN_COST, RTS_VRS, RED_KDE"
   ],
   "outputs": [],
   "metadata": {}
  },
  {
   "cell_type": "code",
   "execution_count": 2,
   "source": [
    "# import Finnish electricity distribution firms data\r\n",
    "data = load_Finnish_electricity_firm(x_select=['Energy', 'Length', 'Customers'],\r\n",
    "                                        y_select=['TOTEX'])"
   ],
   "outputs": [],
   "metadata": {}
  },
  {
   "cell_type": "code",
   "execution_count": 3,
   "source": [
    "# build and optimize the CNLS model\r\n",
    "model = CNLS.CNLS(data.y, data.x, z=None, cet=CET_MULT, fun=FUN_COST, rts=RTS_VRS)\r\n",
    "model.optimize('email@address')"
   ],
   "outputs": [
    {
     "output_type": "stream",
     "name": "stdout",
     "text": [
      "Estimating the multiplicative model remotely with knitro solver\n"
     ]
    }
   ],
   "metadata": {}
  },
  {
   "cell_type": "code",
   "execution_count": 4,
   "source": [
    "# retrive the unconditional expected inefficiency \\mu\r\n",
    "rd = StoNED.StoNED(model)\r\n",
    "print(rd.get_unconditional_expected_inefficiency(RED_KDE))"
   ],
   "outputs": [
    {
     "output_type": "stream",
     "name": "stdout",
     "text": [
      "3.1922738772885135\n"
     ]
    }
   ],
   "metadata": {}
  }
 ],
 "metadata": {
  "kernelspec": {
   "name": "python3",
   "display_name": "Python 3.8.8 64-bit ('base': conda)"
  },
  "language_info": {
   "codemirror_mode": {
    "name": "ipython",
    "version": 3
   },
   "file_extension": ".py",
   "mimetype": "text/x-python",
   "name": "python",
   "nbconvert_exporter": "python",
   "pygments_lexer": "ipython3",
   "version": "3.8.8"
  },
  "interpreter": {
   "hash": "d615cd69d76bbfeb794299333df0c3d566ae9a0a286576ecbdfd9810108dcdf5"
  }
 },
 "nbformat": 4,
 "nbformat_minor": 4
}