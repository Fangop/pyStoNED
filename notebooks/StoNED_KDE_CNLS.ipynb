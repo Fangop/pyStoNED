{
 "cells": [
  {
   "cell_type": "markdown",
   "metadata": {},
   "source": [
    "# StoNED: Kernel Density Estimation"
   ]
  },
  {
   "cell_type": "markdown",
   "metadata": {},
   "source": [
    "while method of moments and quasi-likelihood approaches require additional distributional assumptions for the inefficiency and noise terms, a fully nonparametric estimation of the expected inefficiency $\\mu$ is also available by applying nonparametric kernel deconvolution, proposed by Hall and Simar (2002). Note that the residuals $\\hat{\\varepsilon}_i^{CNLS}$ are consistent estimators of $e^o = \\varepsilon_i + \\mu$ (for production model). Following Kuosmanen and Johnson (2017), the density function of ${e^o}$\n",
    "\\begin{align}\n",
    "    \\hat{f}_{e^o}(z) = (nh)^{-1} \\sum_{i=1}^{n}K\\bigg(\\frac{z-e_i^o}{h} \\bigg) \\notag\n",
    "\\end{align}\n",
    "where $K(\\cdot)$ is a compactly supported kernel and $h$ is a bandwidth. Hall and Simar (2002) show that the first derivative of the density function of the composite error term ($f_\\varepsilon^{'}$)is proportional to that of the inefficiency term ($f_u^{'}$) in the neighborhood of $\\mu$. Therefore, a robust nonparametric estimator of expected inefficiency $\\mu$ is obtained as\n",
    "\\begin{align}\n",
    "    \\hat{\\mu} = \\arg \\max_{z \\in C}(\\hat{f^{'}}_{e^o}(z)) \\notag\n",
    "\\end{align}\n",
    "where $C$ is a closed interval in he right tail of $f_{e^o}$."
   ]
  },
  {
   "cell_type": "code",
   "execution_count": 1,
   "metadata": {},
   "outputs": [],
   "source": [
    "# import packages\n",
    "from pystoned import CNLS, StoNED\n",
    "from pystoned.dataset import load_Finnish_electricity_firm\n",
    "from pystoned.constant import CET_MULT, FUN_COST, RTS_VRS, RED_KDE"
   ]
  },
  {
   "cell_type": "code",
   "execution_count": 2,
   "metadata": {},
   "outputs": [],
   "source": [
    "# import Finnish electricity distribution firms data\n",
    "data = load_Finnish_electricity_firm(x_select=['OPEX', 'CAPEX'], y_select=['Energy'])"
   ]
  },
  {
   "cell_type": "code",
   "execution_count": 3,
   "metadata": {},
   "outputs": [
    {
     "name": "stdout",
     "output_type": "stream",
     "text": [
      "Estimating the multiplicative model remotely with knitro solver\n"
     ]
    }
   ],
   "source": [
    "# build and optimize the CNLS model\n",
    "model = CNLS.CNLS(data.y, data.x, z=None, cet=CET_MULT, fun=FUN_COST, rts=RTS_VRS)\n",
    "model.optimize('email@address')"
   ]
  },
  {
   "cell_type": "code",
   "execution_count": 4,
   "metadata": {},
   "outputs": [
    {
     "name": "stdout",
     "output_type": "stream",
     "text": [
      "0.5399094053734644\n"
     ]
    }
   ],
   "source": [
    "# retrive the unconditional expected inefficiency \\mu\n",
    "rd = StoNED.StoNED(model)\n",
    "print(rd.get_unconditional_expected_inefficiency(RED_KDE))"
   ]
  }
 ],
 "metadata": {
  "kernelspec": {
   "display_name": "Python 3",
   "language": "python",
   "name": "python3"
  },
  "language_info": {
   "codemirror_mode": {
    "name": "ipython",
    "version": 3
   },
   "file_extension": ".py",
   "mimetype": "text/x-python",
   "name": "python",
   "nbconvert_exporter": "python",
   "pygments_lexer": "ipython3",
   "version": "3.8.10"
  }
 },
 "nbformat": 4,
 "nbformat_minor": 4
}
