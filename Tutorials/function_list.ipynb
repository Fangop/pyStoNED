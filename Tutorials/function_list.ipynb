{
 "cells": [
  {
   "cell_type": "markdown",
   "metadata": {},
   "source": [
    "# pyStoNED: Function list"
   ]
  },
  {
   "cell_type": "markdown",
   "metadata": {},
   "source": [
    "## Main functions"
   ]
  },
  {
   "cell_type": "markdown",
   "metadata": {},
   "source": [
    "- `cnls()` function\n",
    "\n",
    "    Returns the Convex Nonparametric Least Square (CNLS) estimates for a specific function, error term, and returns to scale. This function is the fundamental function in the entire pyStoNED package.\n",
    "\n",
    "    **Syntax**\n",
    "\n",
    "    cnls(y, x, crt, func, pps)\n",
    "\n",
    "    The `cnls()` function syntax has the following arguments:\n",
    "    \n",
    "     + **y**  Required. Output variable.\n",
    "     + **x**  Required. Input variable.\n",
    "     + **crt**   Required. crt = \"addi\", additive composite error term; crt = \"mult\", multiplicative composite error term.\n",
    "     + **func**  Required. func = \"prod\", production frontier; func = \"cost\", cost frontier.\n",
    "     + **pps**   Required. pps = \"vrs\", variable returns to scale; pps = \"crs\", constant returns to scale."
   ]
  },
  {
   "cell_type": "markdown",
   "metadata": {},
   "source": [
    "+ `stoned()` function\n",
    "\n",
    "    Returns the technical inefficiency with a specific function, decomposed methods, and error term. This function is used to decompose the residuals and also the fundamental function in the entire pyStoNED package.\n",
    "    \n",
    "    **Syntax**\n",
    "\n",
    "    stoned(eps, func, method, crt)\n",
    "\n",
    "    The `stoned()` function syntax has the following arguments:\n",
    "    \n",
    "    + **eps** Required. Residuals estimated by function `cnls()` or other functions such as `cnlsz()`.\n",
    "    + **func**  Required. func = \"prod\", production frontier; func = \"cost\", cost frontier.\n",
    "    + **method** Required. method = \"MOM\", residual decomposition by method of moments;  method = \"QLE\", residual decomposition by quasi-likelihood estimation; method = \"NKD\", residual decomposition by Nonparametric kernel deconvolution.\n",
    "    + **crt**   Required. crt = \"addi\", additive composite error term; crt = \"mult\", multiplicative composite error term.     "
   ]
  },
  {
   "cell_type": "markdown",
   "metadata": {},
   "source": [
    "+ `cnlsz()` function\n",
    "    \n",
    "    Returns the Convex Nonparametric Least Square (CNLS) estimates for a specific function, error term, and returns to scale. This function is the first step when using the stochastic semi-nonparametric envelopment of z variables data (StoNEZD).\n",
    "\n",
    "    **Syntax**\n",
    "\n",
    "    cnlsz(y, x, z, crt, func, pps)\n",
    "\n",
    "    The `cnlsz()` function syntax has the following arguments:\n",
    "    \n",
    "     + **y**  Required. Output variable.\n",
    "     + **x**  Required. Input variable.\n",
    "     + **z**  Required. Z variable (contextual variable).\n",
    "     + **crt**   Required. crt = \"addi\", additive composite error term; crt = \"mult\", multiplicative composite error term.\n",
    "     + **func**  Required. func = \"prod\", production frontier; func = \"cost\", cost frontier.\n",
    "     + **pps**   Required. pps = \"vrs\", variable returns to scale; pps = \"crs\", constant returns to scale."
   ]
  },
  {
   "cell_type": "markdown",
   "metadata": {},
   "source": [
    "+ `icnls()` function\n",
    "\n",
    "    Returns the Isotonic Convex Nonparametric Least Square estimates for a specific function, error term, and returns to scale. This function is the convexity relaxed `CNLS()` and can be directly compared with FDH estimator. \n",
    "    \n",
    "    **Syntax**\n",
    "\n",
    "    icnls(y, x, p, crt, func, pps)\n",
    "\n",
    "    The `icnls()` function syntax has the following arguments:\n",
    "    \n",
    "     + **y**  Required. Output variable.\n",
    "     + **x**  Required. Input variable.\n",
    "     + **crt**   Required. crt = \"addi\", additive composite error term; crt = \"mult\", multiplicative composite error term.\n",
    "     + **func**  Required. func = \"prod\", production frontier; func = \"cost\", cost frontier.\n",
    "     + **pps**   Required. pps = \"vrs\", variable returns to scale; pps = \"crs\", constant returns to scale.\n"
   ]
  },
  {
   "cell_type": "markdown",
   "metadata": {},
   "source": [
    "## Auxiliary functions"
   ]
  },
  {
   "cell_type": "markdown",
   "metadata": {},
   "source": [
    "### to be continued..."
   ]
  }
 ],
 "metadata": {
  "kernelspec": {
   "display_name": "Python 3",
   "language": "python",
   "name": "python3"
  },
  "language_info": {
   "codemirror_mode": {
    "name": "ipython",
    "version": 3
   },
   "file_extension": ".py",
   "mimetype": "text/x-python",
   "name": "python",
   "nbconvert_exporter": "python",
   "pygments_lexer": "ipython3",
   "version": "3.7.6"
  }
 },
 "nbformat": 4,
 "nbformat_minor": 4
}
