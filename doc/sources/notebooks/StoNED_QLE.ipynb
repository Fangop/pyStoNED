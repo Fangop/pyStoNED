{
 "cells": [
  {
   "cell_type": "markdown",
   "metadata": {},
   "source": [
    "# StoNED: Quasi-likelihood Estimation"
   ]
  },
  {
   "cell_type": "markdown",
   "metadata": {},
   "source": [
    "Quassi-likelihood approach is alternative to decomposing the $\\sigma_u$ and $\\sigma_v$ suggested\n",
    "by Fan et al. (1996). In this method we apply the standard maximum likelihood method to \n",
    "estimate the parameters $\\sigma_u$ and $\\sigma_v$, taking the shape of `CNLS` curve\n",
    "as given. The quasi-likelihood function is formulated as\n",
    "   \\begin{align*}\n",
    "        \\text{ln} L(\\lambda) & = -n\\text{ln}(\\hat{\\sigma}) + \\sum \\text{ln} \\Phi\\bigg[\\frac{-\\hat{\\varepsilon}_i \\lambda}{\\hat{\\sigma}}\\bigg] - \\frac{1}{2\\hat{\\sigma}^2}\\sum\\hat{\\varepsilon}_i^2 \n",
    "    \\end{align*}\n",
    "\n",
    "where\n",
    "\n",
    "   \\begin{align*}\n",
    "        \\hat{\\varepsilon}_i &= \\hat{\\varepsilon}_i^{CNLS}-(\\sqrt{2}\\lambda\\hat{\\sigma})/[\\pi(1+\\lambda^2)]^{1/2}    \\\\\n",
    "        \\hat{\\sigma} &= \\Bigg\\{\\frac{1}{n}\\sum(\\hat{\\varepsilon}_i^{CNLS})^2 / \\bigg[1 - \\frac{2\\lambda^2}{\\pi(1+\\lambda^2)}\\bigg]  \\Bigg\\}  \n",
    "   \\end{align*}"
   ]
  },
  {
   "cell_type": "code",
   "execution_count": 1,
   "metadata": {},
   "outputs": [],
   "source": [
    "# import packages\n",
    "from pystoned import StoNED\n",
    "import pandas as pd\n",
    "import numpy as np"
   ]
  },
  {
   "cell_type": "code",
   "execution_count": 2,
   "metadata": {},
   "outputs": [
    {
     "data": {
      "text/html": [
       "<div>\n",
       "<style scoped>\n",
       "    .dataframe tbody tr th:only-of-type {\n",
       "        vertical-align: middle;\n",
       "    }\n",
       "\n",
       "    .dataframe tbody tr th {\n",
       "        vertical-align: top;\n",
       "    }\n",
       "\n",
       "    .dataframe thead th {\n",
       "        text-align: right;\n",
       "    }\n",
       "</style>\n",
       "<table border=\"1\" class=\"dataframe\">\n",
       "  <thead>\n",
       "    <tr style=\"text-align: right;\">\n",
       "      <th></th>\n",
       "      <th>OPEX</th>\n",
       "      <th>CAPEX</th>\n",
       "      <th>TOTEX</th>\n",
       "      <th>Energy</th>\n",
       "      <th>Length</th>\n",
       "      <th>Customers</th>\n",
       "      <th>PerUndGr</th>\n",
       "    </tr>\n",
       "  </thead>\n",
       "  <tbody>\n",
       "    <tr>\n",
       "      <th>0</th>\n",
       "      <td>681</td>\n",
       "      <td>729</td>\n",
       "      <td>1612</td>\n",
       "      <td>75</td>\n",
       "      <td>878</td>\n",
       "      <td>4933</td>\n",
       "      <td>0.11</td>\n",
       "    </tr>\n",
       "    <tr>\n",
       "      <th>1</th>\n",
       "      <td>559</td>\n",
       "      <td>673</td>\n",
       "      <td>1659</td>\n",
       "      <td>62</td>\n",
       "      <td>964</td>\n",
       "      <td>6149</td>\n",
       "      <td>0.21</td>\n",
       "    </tr>\n",
       "    <tr>\n",
       "      <th>2</th>\n",
       "      <td>836</td>\n",
       "      <td>851</td>\n",
       "      <td>1708</td>\n",
       "      <td>78</td>\n",
       "      <td>676</td>\n",
       "      <td>6098</td>\n",
       "      <td>0.75</td>\n",
       "    </tr>\n",
       "    <tr>\n",
       "      <th>3</th>\n",
       "      <td>7559</td>\n",
       "      <td>8384</td>\n",
       "      <td>18918</td>\n",
       "      <td>683</td>\n",
       "      <td>12522</td>\n",
       "      <td>55226</td>\n",
       "      <td>0.13</td>\n",
       "    </tr>\n",
       "    <tr>\n",
       "      <th>4</th>\n",
       "      <td>424</td>\n",
       "      <td>562</td>\n",
       "      <td>1167</td>\n",
       "      <td>27</td>\n",
       "      <td>697</td>\n",
       "      <td>1670</td>\n",
       "      <td>0.03</td>\n",
       "    </tr>\n",
       "  </tbody>\n",
       "</table>\n",
       "</div>"
      ],
      "text/plain": [
       "   OPEX  CAPEX  TOTEX  Energy  Length  Customers  PerUndGr\n",
       "0   681    729   1612      75     878       4933      0.11\n",
       "1   559    673   1659      62     964       6149      0.21\n",
       "2   836    851   1708      78     676       6098      0.75\n",
       "3  7559   8384  18918     683   12522      55226      0.13\n",
       "4   424    562   1167      27     697       1670      0.03"
      ]
     },
     "execution_count": 2,
     "metadata": {},
     "output_type": "execute_result"
    }
   ],
   "source": [
    "# import Finnish electricity distribution firms data\n",
    "url = 'https://raw.githubusercontent.com/ds2010/pyStoNED/master/sources/data/firms.csv'\n",
    "df = pd.read_csv(url, error_bad_lines=False)\n",
    "df.head(5)"
   ]
  },
  {
   "cell_type": "code",
   "execution_count": 3,
   "metadata": {},
   "outputs": [],
   "source": [
    "# output (total cost)\n",
    "y  = df['TOTEX']\n",
    "\n",
    "# inputs \n",
    "x1  = df['Energy']\n",
    "x1  = np.asmatrix(x1).T\n",
    "x2  = df['Length']\n",
    "x2  = np.asmatrix(x2).T\n",
    "x3  = df['Customers']\n",
    "x3  = np.asmatrix(x3).T\n",
    "x   = np.concatenate((x1, x2, x3), axis=1)"
   ]
  },
  {
   "cell_type": "code",
   "execution_count": 4,
   "metadata": {},
   "outputs": [
    {
     "name": "stdout",
     "output_type": "stream",
     "text": [
      "Estimating the multiplicative model remotely with knitro solver\n"
     ]
    }
   ],
   "source": [
    "# define and solve the StoNED model using QLE approach\n",
    "model = StoNED.StoNED(y, x, z= None, cet = \"mult\", fun = \"cost\", rts = \"vrs\")\n",
    "model.optimize(remote=True)"
   ]
  },
  {
   "cell_type": "code",
   "execution_count": 5,
   "metadata": {},
   "outputs": [
    {
     "name": "stdout",
     "output_type": "stream",
     "text": [
      "0.05776223709846952\n"
     ]
    }
   ],
   "source": [
    "# retrive the unconditional expected inefficiency \\mu\n",
    "print(model.get_unconditional_expected_inefficiency('QLE'))"
   ]
  },
  {
   "cell_type": "code",
   "execution_count": 6,
   "metadata": {},
   "outputs": [
    {
     "name": "stdout",
     "output_type": "stream",
     "text": [
      "[1.06163339 1.06064246 1.08175385 1.06324521 1.0757863  1.04776927\n",
      " 1.05663965 1.07677887 1.11824137 1.05445531 1.05737782 1.05466855\n",
      " 1.0894665  1.09715943 1.05509864 1.04871151 1.0769085  1.07492914\n",
      " 1.05749631 1.05114349 1.05005029 1.03588754 1.047703   1.04687987\n",
      " 1.07260957 1.06556885 1.09339349 1.04575595 1.06513924 1.05959889\n",
      " 1.05565744 1.03258429 1.05341809 1.08089344 1.06083138 1.08763043\n",
      " 1.04252759 1.04335538 1.04421417 1.05624011 1.04887067 1.0557306\n",
      " 1.06880798 1.05071141 1.0477588  1.04509071 1.06356029 1.0526112\n",
      " 1.04817711 1.04625314 1.07993998 1.05932736 1.08170306 1.09080085\n",
      " 1.06198979 1.04134444 1.04057026 1.05050022 1.04223237 1.06535996\n",
      " 1.02780504 1.05531078 1.05638237 1.0633443  1.10710045 1.04869269\n",
      " 1.0686272  1.05793051 1.0672415  1.04061444 1.0575737  1.06760141\n",
      " 1.04255793 1.04649439 1.04809723 1.05865379 1.05832334 1.06719377\n",
      " 1.05822633 1.05531692 1.05280491 1.05001973 1.05100218 1.05790436\n",
      " 1.06311377 1.04618785 1.05779577 1.06537653 1.06291691]\n"
     ]
    }
   ],
   "source": [
    "# retrive the technical inefficiency\n",
    "print(model.get_technical_inefficiency(method='QLE'))"
   ]
  }
 ],
 "metadata": {
  "kernelspec": {
   "display_name": "Python 3",
   "language": "python",
   "name": "python3"
  },
  "language_info": {
   "codemirror_mode": {
    "name": "ipython",
    "version": 3
   },
   "file_extension": ".py",
   "mimetype": "text/x-python",
   "name": "python",
   "nbconvert_exporter": "python",
   "pygments_lexer": "ipython3",
   "version": "3.7.9"
  }
 },
 "nbformat": 4,
 "nbformat_minor": 4
}
