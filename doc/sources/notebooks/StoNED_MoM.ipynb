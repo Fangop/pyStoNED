{
 "cells": [
  {
   "cell_type": "markdown",
   "metadata": {},
   "source": [
    "# StoNED: Method of Moment"
   ]
  },
  {
   "cell_type": "markdown",
   "metadata": {},
   "source": [
    "The method of moments requires some additional parametric distributional assumptions. \n",
    "Following Kuosmanen et al. (2015), under the maintained assumptions of half-normal inefficiency and normal noise, \n",
    "the second and third central moments of the composite error distribution are given \n",
    "by\n",
    "\n",
    "   \\begin{align*}\n",
    "        M_2 &= \\bigg[\\frac{\\pi-2}{\\pi}\\bigg] \\sigma_u^2 + \\sigma_v^2  \\\\\n",
    "        M_3 &= \\bigg(\\sqrt{\\frac{2}{\\pi}}\\bigg)\\bigg[1-\\frac{4}{\\pi}\\bigg]\\sigma_u^2\n",
    "   \\end{align*}\n",
    "\n",
    "These central moments can be estimated by using the CNLS residuals:\n",
    "    \n",
    "   \\begin{align*}\n",
    "    \\hat{M_2} &= \\sum_{i=1}^{n}(\\hat{\\varepsilon}_i-\\bar{\\varepsilon})^{2}/n  \\\\\n",
    "    \\hat{M_3} &= \\sum_{i=1}^{n}(\\hat{\\varepsilon}_i-\\bar{\\varepsilon})^{3}/n  \n",
    "   \\end{align*}\n",
    "\n",
    "Note that the third moment $M_3$ (which measures the skewness of the distribution) \n",
    "only depends on the standard deviation parameter $\\sigma_u$ of the inefficiency distribution. \n",
    "Thus, given the estimated $\\hat{M}_3$ (which should be positive in the case of a cost \n",
    "frontier), we can estimate σu parameter by\n",
    "  \n",
    "   \\begin{align*}\n",
    "        \\hat{\\sigma}_u &= \\sqrt[3]{\\frac{\\hat{M_3}}{\\bigg(\\sqrt{\\frac{2}{\\pi}}\\bigg)\\bigg[1-\\frac{4}{\\pi}\\bigg]}} \\\\\n",
    "        \\hat{\\sigma}_v &= \\sqrt[2]{\\hat{M_2}-\\bigg[\\frac{\\pi-2}{\\pi}\\bigg] \\hat{\\sigma}_u^2 }\n",
    "   \\end{align*}"
   ]
  },
  {
   "cell_type": "code",
   "execution_count": 1,
   "metadata": {},
   "outputs": [],
   "source": [
    "# import packages\n",
    "from pystoned import StoNED\n",
    "import pandas as pd\n",
    "import numpy as np"
   ]
  },
  {
   "cell_type": "code",
   "execution_count": 2,
   "metadata": {},
   "outputs": [
    {
     "data": {
      "text/html": [
       "<div>\n",
       "<style scoped>\n",
       "    .dataframe tbody tr th:only-of-type {\n",
       "        vertical-align: middle;\n",
       "    }\n",
       "\n",
       "    .dataframe tbody tr th {\n",
       "        vertical-align: top;\n",
       "    }\n",
       "\n",
       "    .dataframe thead th {\n",
       "        text-align: right;\n",
       "    }\n",
       "</style>\n",
       "<table border=\"1\" class=\"dataframe\">\n",
       "  <thead>\n",
       "    <tr style=\"text-align: right;\">\n",
       "      <th></th>\n",
       "      <th>OPEX</th>\n",
       "      <th>CAPEX</th>\n",
       "      <th>TOTEX</th>\n",
       "      <th>Energy</th>\n",
       "      <th>Length</th>\n",
       "      <th>Customers</th>\n",
       "      <th>PerUndGr</th>\n",
       "    </tr>\n",
       "  </thead>\n",
       "  <tbody>\n",
       "    <tr>\n",
       "      <th>0</th>\n",
       "      <td>681</td>\n",
       "      <td>729</td>\n",
       "      <td>1612</td>\n",
       "      <td>75</td>\n",
       "      <td>878</td>\n",
       "      <td>4933</td>\n",
       "      <td>0.11</td>\n",
       "    </tr>\n",
       "    <tr>\n",
       "      <th>1</th>\n",
       "      <td>559</td>\n",
       "      <td>673</td>\n",
       "      <td>1659</td>\n",
       "      <td>62</td>\n",
       "      <td>964</td>\n",
       "      <td>6149</td>\n",
       "      <td>0.21</td>\n",
       "    </tr>\n",
       "    <tr>\n",
       "      <th>2</th>\n",
       "      <td>836</td>\n",
       "      <td>851</td>\n",
       "      <td>1708</td>\n",
       "      <td>78</td>\n",
       "      <td>676</td>\n",
       "      <td>6098</td>\n",
       "      <td>0.75</td>\n",
       "    </tr>\n",
       "    <tr>\n",
       "      <th>3</th>\n",
       "      <td>7559</td>\n",
       "      <td>8384</td>\n",
       "      <td>18918</td>\n",
       "      <td>683</td>\n",
       "      <td>12522</td>\n",
       "      <td>55226</td>\n",
       "      <td>0.13</td>\n",
       "    </tr>\n",
       "    <tr>\n",
       "      <th>4</th>\n",
       "      <td>424</td>\n",
       "      <td>562</td>\n",
       "      <td>1167</td>\n",
       "      <td>27</td>\n",
       "      <td>697</td>\n",
       "      <td>1670</td>\n",
       "      <td>0.03</td>\n",
       "    </tr>\n",
       "  </tbody>\n",
       "</table>\n",
       "</div>"
      ],
      "text/plain": [
       "   OPEX  CAPEX  TOTEX  Energy  Length  Customers  PerUndGr\n",
       "0   681    729   1612      75     878       4933      0.11\n",
       "1   559    673   1659      62     964       6149      0.21\n",
       "2   836    851   1708      78     676       6098      0.75\n",
       "3  7559   8384  18918     683   12522      55226      0.13\n",
       "4   424    562   1167      27     697       1670      0.03"
      ]
     },
     "execution_count": 2,
     "metadata": {},
     "output_type": "execute_result"
    }
   ],
   "source": [
    "# import Finnish electricity distribution firms data\n",
    "url = 'https://raw.githubusercontent.com/ds2010/pyStoNED/master/sources/data/firms.csv'\n",
    "df = pd.read_csv(url, error_bad_lines=False)\n",
    "df.head(5)"
   ]
  },
  {
   "cell_type": "code",
   "execution_count": 3,
   "metadata": {},
   "outputs": [],
   "source": [
    "# output (total cost)\n",
    "y  = df['TOTEX']\n",
    "\n",
    "# inputs \n",
    "x1  = df['Energy']\n",
    "x1  = np.asmatrix(x1).T\n",
    "x2  = df['Length']\n",
    "x2  = np.asmatrix(x2).T\n",
    "x3  = df['Customers']\n",
    "x3  = np.asmatrix(x3).T\n",
    "x   = np.concatenate((x1, x2, x3), axis=1)"
   ]
  },
  {
   "cell_type": "code",
   "execution_count": 4,
   "metadata": {},
   "outputs": [
    {
     "name": "stdout",
     "output_type": "stream",
     "text": [
      "Estimating the multiplicative model remotely with knitro solver\n"
     ]
    }
   ],
   "source": [
    "# define and solve the StoNED model using MoM approach\n",
    "model = StoNED.StoNED(y, x, z= None, cet = \"mult\", fun = \"cost\", rts = \"vrs\")\n",
    "model.optimize(remote=True)"
   ]
  },
  {
   "cell_type": "code",
   "execution_count": 5,
   "metadata": {},
   "outputs": [
    {
     "name": "stdout",
     "output_type": "stream",
     "text": [
      "0.028561358246550088\n"
     ]
    }
   ],
   "source": [
    "# retrive the unconditional expected inefficiency \\mu\n",
    "print(model.get_unconditional_expected_inefficiency('MOM'))"
   ]
  },
  {
   "cell_type": "code",
   "execution_count": 6,
   "metadata": {},
   "outputs": [
    {
     "name": "stdout",
     "output_type": "stream",
     "text": [
      "[1.02973796 1.02951642 1.03407124 1.03011444 1.03285024 1.02624629\n",
      " 1.0285504  1.03305544 1.04092674 1.02799994 1.02872777 1.02804135\n",
      " 1.03559258 1.03705968 1.02816494 1.02650301 1.03308035 1.03267095\n",
      " 1.02876302 1.02715934 1.02686102 1.02263209 1.02622874 1.02599893\n",
      " 1.03218233 1.03064021 1.03634408 1.02568779 1.03054701 1.02926455\n",
      " 1.02830216 1.02147777 1.02773701 1.033903   1.0295535  1.03524256\n",
      " 1.02474773 1.02498512 1.0252393  1.02845237 1.0265423  1.02832144\n",
      " 1.03136496 1.02703561 1.02624159 1.02549137 1.03019208 1.02753237\n",
      " 1.02635402 1.02582063 1.03370403 1.02919558 1.03405885 1.03584897\n",
      " 1.02982251 1.02438668 1.02414836 1.02698301 1.02465315 1.03060146\n",
      " 1.01963478 1.02821997 1.02848125 1.03013664 1.03890764 1.02650281\n",
      " 1.03132281 1.02885932 1.03101893 1.02415888 1.02877008 1.03109663\n",
      " 1.0247582  1.02589057 1.02633101 1.02903992 1.02896052 1.03100504\n",
      " 1.02893211 1.02821329 1.02758765 1.02685737 1.02711777 1.02884019\n",
      " 1.03008101 1.02580161 1.02882632 1.03059938 1.03004173]\n"
     ]
    }
   ],
   "source": [
    "# retrive the technical inefficiency\n",
    "print(model.get_technical_inefficiency(method='MOM'))"
   ]
  }
 ],
 "metadata": {
  "kernelspec": {
   "display_name": "Python 3",
   "language": "python",
   "name": "python3"
  },
  "language_info": {
   "codemirror_mode": {
    "name": "ipython",
    "version": 3
   },
   "file_extension": ".py",
   "mimetype": "text/x-python",
   "name": "python",
   "nbconvert_exporter": "python",
   "pygments_lexer": "ipython3",
   "version": "3.7.9"
  }
 },
 "nbformat": 4,
 "nbformat_minor": 4
}
