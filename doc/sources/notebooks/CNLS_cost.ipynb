{
 "cells": [
  {
   "cell_type": "markdown",
   "metadata": {},
   "source": [
    "## Cost function"
   ]
  },
  {
   "cell_type": "markdown",
   "metadata": {},
   "source": [
    "We now consider the `CNLS` builds upon the assumption that the true but unknown cost function $f$ belongs to the set of continuous, monotonic increasing and globally convex functions, imposing exactly the same production axioms as standard DEA. "
   ]
  },
  {
   "cell_type": "markdown",
   "metadata": {},
   "source": [
    "+ The multivariate `CNLS` formulation is defined as:\n",
    "\n",
    "\\begin{align*}\n",
    "& \\underset{\\alpha, \\beta, \\varepsilon} {min} \\sum_{i=1}^n\\varepsilon_i^2 \\\\\n",
    "& \\text{s.t.} \\\\\n",
    "&  y_i = \\alpha_i + \\beta_i^{'}X_i + \\varepsilon_i \\quad \\forall i \\\\\n",
    "&  \\alpha_i + \\beta_i^{'}X_i \\ge \\alpha_j + \\beta_j^{'}X_i  \\quad  \\forall i, j\\\\\n",
    "&  \\beta_i \\ge 0 \\quad  \\forall i \\\\\n",
    "\\end{align*}"
   ]
  },
  {
   "cell_type": "markdown",
   "metadata": {},
   "source": [
    "   where $\\alpha_i$ and $\\beta_i$ define the intercept and slope parameters of tangent hyperplanes that characterize the estimated piece-wise linear frontier. $\\varepsilon_i$ denotes the CNLS residuals. The first constraint can be interpreted as a multivariate regression equation, the second constraint imposes concavity, and the third constraint imposes monotonicity."
   ]
  },
  {
   "cell_type": "code",
   "execution_count": 7,
   "metadata": {},
   "outputs": [],
   "source": [
    "# import packages\n",
    "from pystoned import CNLS\n",
    "import pandas as pd\n",
    "import numpy as np"
   ]
  },
  {
   "cell_type": "code",
   "execution_count": 8,
   "metadata": {},
   "outputs": [
    {
     "data": {
      "text/html": [
       "<div>\n",
       "<style scoped>\n",
       "    .dataframe tbody tr th:only-of-type {\n",
       "        vertical-align: middle;\n",
       "    }\n",
       "\n",
       "    .dataframe tbody tr th {\n",
       "        vertical-align: top;\n",
       "    }\n",
       "\n",
       "    .dataframe thead th {\n",
       "        text-align: right;\n",
       "    }\n",
       "</style>\n",
       "<table border=\"1\" class=\"dataframe\">\n",
       "  <thead>\n",
       "    <tr style=\"text-align: right;\">\n",
       "      <th></th>\n",
       "      <th>OPEX</th>\n",
       "      <th>CAPEX</th>\n",
       "      <th>TOTEX</th>\n",
       "      <th>Energy</th>\n",
       "      <th>Length</th>\n",
       "      <th>Customers</th>\n",
       "      <th>PerUndGr</th>\n",
       "    </tr>\n",
       "  </thead>\n",
       "  <tbody>\n",
       "    <tr>\n",
       "      <th>0</th>\n",
       "      <td>681</td>\n",
       "      <td>729</td>\n",
       "      <td>1612</td>\n",
       "      <td>75</td>\n",
       "      <td>878</td>\n",
       "      <td>4933</td>\n",
       "      <td>0.11</td>\n",
       "    </tr>\n",
       "    <tr>\n",
       "      <th>1</th>\n",
       "      <td>559</td>\n",
       "      <td>673</td>\n",
       "      <td>1659</td>\n",
       "      <td>62</td>\n",
       "      <td>964</td>\n",
       "      <td>6149</td>\n",
       "      <td>0.21</td>\n",
       "    </tr>\n",
       "    <tr>\n",
       "      <th>2</th>\n",
       "      <td>836</td>\n",
       "      <td>851</td>\n",
       "      <td>1708</td>\n",
       "      <td>78</td>\n",
       "      <td>676</td>\n",
       "      <td>6098</td>\n",
       "      <td>0.75</td>\n",
       "    </tr>\n",
       "    <tr>\n",
       "      <th>3</th>\n",
       "      <td>7559</td>\n",
       "      <td>8384</td>\n",
       "      <td>18918</td>\n",
       "      <td>683</td>\n",
       "      <td>12522</td>\n",
       "      <td>55226</td>\n",
       "      <td>0.13</td>\n",
       "    </tr>\n",
       "    <tr>\n",
       "      <th>4</th>\n",
       "      <td>424</td>\n",
       "      <td>562</td>\n",
       "      <td>1167</td>\n",
       "      <td>27</td>\n",
       "      <td>697</td>\n",
       "      <td>1670</td>\n",
       "      <td>0.03</td>\n",
       "    </tr>\n",
       "  </tbody>\n",
       "</table>\n",
       "</div>"
      ],
      "text/plain": [
       "   OPEX  CAPEX  TOTEX  Energy  Length  Customers  PerUndGr\n",
       "0   681    729   1612      75     878       4933      0.11\n",
       "1   559    673   1659      62     964       6149      0.21\n",
       "2   836    851   1708      78     676       6098      0.75\n",
       "3  7559   8384  18918     683   12522      55226      0.13\n",
       "4   424    562   1167      27     697       1670      0.03"
      ]
     },
     "execution_count": 8,
     "metadata": {},
     "output_type": "execute_result"
    }
   ],
   "source": [
    "# import Finnish electricity distribution firms data\n",
    "url = 'https://raw.githubusercontent.com/ds2010/pyStoNED/master/sources/data/firms.csv'\n",
    "df = pd.read_csv(url, error_bad_lines=True)\n",
    "df.head(5)"
   ]
  },
  {
   "cell_type": "code",
   "execution_count": 9,
   "metadata": {},
   "outputs": [],
   "source": [
    "# output\n",
    "y = df['TOTEX']\n",
    "\n",
    "# inputs\n",
    "x1 = df['Energy']\n",
    "x1 = np.asmatrix(x1).T\n",
    "x2 = df['Length']\n",
    "x2 = np.asmatrix(x2).T\n",
    "x3 = df['Customers']\n",
    "x3 = np.asmatrix(x3).T\n",
    "x = np.concatenate((x1, x2, x3), axis=1)"
   ]
  },
  {
   "cell_type": "code",
   "execution_count": 10,
   "metadata": {},
   "outputs": [
    {
     "name": "stdout",
     "output_type": "stream",
     "text": [
      "Estimating the additive model remotely with mosek solver\n"
     ]
    }
   ],
   "source": [
    "# define and solve the CNLS model\n",
    "model = CNLS.CNLS(y, x, z=None, cet = \"addi\", fun = \"cost\", rts = \"vrs\")\n",
    "model.optimize(remote=True)"
   ]
  },
  {
   "cell_type": "code",
   "execution_count": 11,
   "metadata": {},
   "outputs": [
    {
     "name": "stdout",
     "output_type": "stream",
     "text": [
      "[-5.86078754e+00 -7.97422976e+00  1.92976736e+02  1.37287973e+03\n",
      "  7.56061630e+01 -3.25415280e+02 -8.10214888e+01  4.89744160e+02\n",
      "  2.25924909e+02 -4.71325678e+01  1.01868778e+03 -1.70910103e+03\n",
      "  2.39218176e+02  6.04842123e+02 -2.15114923e+02 -3.48637848e+02\n",
      "  1.62907386e+01  4.30970535e+01 -6.39131039e+01 -3.06872062e+02\n",
      " -2.16252884e+02 -6.55452892e+02 -3.19992009e+02 -2.14711315e+02\n",
      "  8.30129190e+01  7.88897192e+01  3.60871105e+02 -2.80051578e+03\n",
      " -7.23629425e+01  8.98186720e+01 -9.24065978e+01 -9.69882194e+02\n",
      " -4.72877306e+01  4.13673763e+02  4.76532195e+01  1.14314922e+03\n",
      " -7.12329729e+02 -2.92234324e+02 -2.25268482e+02  1.95272145e+02\n",
      " -1.97362195e+01 -9.53625770e+01  3.08476865e+03 -1.61718779e+02\n",
      " -2.13367046e+02 -2.24707259e+02  7.87095019e+02 -1.44646463e+02\n",
      " -4.26946306e+02 -9.47599016e+02  9.14284421e+01  1.20009086e+02\n",
      "  1.25036255e+02  1.44873034e+03 -8.86691383e+00 -1.21689225e+03\n",
      " -9.42629512e+02 -1.64679490e+02 -4.10072663e+02  2.44118250e+02\n",
      " -4.69391307e+02  2.23164831e+02  2.87904909e+02  5.67098006e+02\n",
      "  2.89960534e+02 -1.90474357e+02  3.31226821e+02  2.97080761e+02\n",
      "  2.89288712e+02 -9.90687362e+02  8.94056782e+02  3.21213125e+02\n",
      " -1.79340854e+03 -1.92263500e+02 -2.12096714e+02  1.19710609e+02\n",
      "  7.55296020e+02 -1.26821829e+01  5.54221075e+02  1.40369080e+01\n",
      " -9.05592065e+01 -2.57160409e+02 -2.47935955e+02  1.74531510e+03\n",
      "  4.22452905e+02 -2.50662976e+02 -1.79522107e+02 -1.11382054e+02\n",
      "  3.81127221e-01]\n"
     ]
    }
   ],
   "source": [
    "# print the residuals\n",
    "print(model.get_residual())"
   ]
  }
 ],
 "metadata": {
  "kernelspec": {
   "display_name": "Python 3",
   "language": "python",
   "name": "python3"
  },
  "language_info": {
   "codemirror_mode": {
    "name": "ipython",
    "version": 3
   },
   "file_extension": ".py",
   "mimetype": "text/x-python",
   "name": "python",
   "nbconvert_exporter": "python",
   "pygments_lexer": "ipython3",
   "version": "3.7.9"
  }
 },
 "nbformat": 4,
 "nbformat_minor": 4
}
