{
 "cells": [
  {
   "cell_type": "markdown",
   "metadata": {},
   "source": [
    "# StoNED: Kernel Density Estimation"
   ]
  },
  {
   "cell_type": "markdown",
   "metadata": {},
   "source": [
    "While both method of moments and quasi-likelihood techniques require parametric assumptions,\n",
    "a fully nonparametric alternative is available for estimating the signal-to-noise ratio $\\lambda$,\n",
    "as proposed by Hall and Simar (2002). A robust nonparametric estimator of expected inefficiency\n",
    "$\\mu$ is obtained as\n",
    "\n",
    "   \\begin{align*}\n",
    "        \\hat{\\mu} = \\text{arg} \\max_{z \\in C}(\\hat{f^{'}}_{\\varepsilon^+}(Z)),\n",
    "   \\end{align*}\n",
    "\n",
    "where C is a closed interval in he right tail of $f_{\\varepsilon^+}$."
   ]
  },
  {
   "cell_type": "code",
   "execution_count": 1,
   "metadata": {},
   "outputs": [],
   "source": [
    "# import package pystoned\n",
    "from pystoned import StoNED\n",
    "import pandas as pd\n",
    "import numpy as np"
   ]
  },
  {
   "cell_type": "code",
   "execution_count": 2,
   "metadata": {},
   "outputs": [
    {
     "data": {
      "text/html": [
       "<div>\n",
       "<style scoped>\n",
       "    .dataframe tbody tr th:only-of-type {\n",
       "        vertical-align: middle;\n",
       "    }\n",
       "\n",
       "    .dataframe tbody tr th {\n",
       "        vertical-align: top;\n",
       "    }\n",
       "\n",
       "    .dataframe thead th {\n",
       "        text-align: right;\n",
       "    }\n",
       "</style>\n",
       "<table border=\"1\" class=\"dataframe\">\n",
       "  <thead>\n",
       "    <tr style=\"text-align: right;\">\n",
       "      <th></th>\n",
       "      <th>OPEX</th>\n",
       "      <th>CAPEX</th>\n",
       "      <th>TOTEX</th>\n",
       "      <th>Energy</th>\n",
       "      <th>Length</th>\n",
       "      <th>Customers</th>\n",
       "      <th>PerUndGr</th>\n",
       "    </tr>\n",
       "  </thead>\n",
       "  <tbody>\n",
       "    <tr>\n",
       "      <th>0</th>\n",
       "      <td>681</td>\n",
       "      <td>729</td>\n",
       "      <td>1612</td>\n",
       "      <td>75</td>\n",
       "      <td>878</td>\n",
       "      <td>4933</td>\n",
       "      <td>0.11</td>\n",
       "    </tr>\n",
       "    <tr>\n",
       "      <th>1</th>\n",
       "      <td>559</td>\n",
       "      <td>673</td>\n",
       "      <td>1659</td>\n",
       "      <td>62</td>\n",
       "      <td>964</td>\n",
       "      <td>6149</td>\n",
       "      <td>0.21</td>\n",
       "    </tr>\n",
       "    <tr>\n",
       "      <th>2</th>\n",
       "      <td>836</td>\n",
       "      <td>851</td>\n",
       "      <td>1708</td>\n",
       "      <td>78</td>\n",
       "      <td>676</td>\n",
       "      <td>6098</td>\n",
       "      <td>0.75</td>\n",
       "    </tr>\n",
       "    <tr>\n",
       "      <th>3</th>\n",
       "      <td>7559</td>\n",
       "      <td>8384</td>\n",
       "      <td>18918</td>\n",
       "      <td>683</td>\n",
       "      <td>12522</td>\n",
       "      <td>55226</td>\n",
       "      <td>0.13</td>\n",
       "    </tr>\n",
       "    <tr>\n",
       "      <th>4</th>\n",
       "      <td>424</td>\n",
       "      <td>562</td>\n",
       "      <td>1167</td>\n",
       "      <td>27</td>\n",
       "      <td>697</td>\n",
       "      <td>1670</td>\n",
       "      <td>0.03</td>\n",
       "    </tr>\n",
       "  </tbody>\n",
       "</table>\n",
       "</div>"
      ],
      "text/plain": [
       "   OPEX  CAPEX  TOTEX  Energy  Length  Customers  PerUndGr\n",
       "0   681    729   1612      75     878       4933      0.11\n",
       "1   559    673   1659      62     964       6149      0.21\n",
       "2   836    851   1708      78     676       6098      0.75\n",
       "3  7559   8384  18918     683   12522      55226      0.13\n",
       "4   424    562   1167      27     697       1670      0.03"
      ]
     },
     "execution_count": 2,
     "metadata": {},
     "output_type": "execute_result"
    }
   ],
   "source": [
    "# import Finnish electricity distribution firms data\n",
    "url = 'https://raw.githubusercontent.com/ds2010/pyStoNED/master/sources/data/firms.csv'\n",
    "df = pd.read_csv(url, error_bad_lines=False)\n",
    "df.head(5)"
   ]
  },
  {
   "cell_type": "code",
   "execution_count": 3,
   "metadata": {},
   "outputs": [],
   "source": [
    "# output (total cost)\n",
    "y  = df['TOTEX']\n",
    "\n",
    "# inputs \n",
    "x1  = df['Energy']\n",
    "x1  = np.asmatrix(x1).T\n",
    "x2  = df['Length']\n",
    "x2  = np.asmatrix(x2).T\n",
    "x3  = df['Customers']\n",
    "x3  = np.asmatrix(x3).T\n",
    "x   = np.concatenate((x1, x2, x3), axis=1)"
   ]
  },
  {
   "cell_type": "code",
   "execution_count": 4,
   "metadata": {},
   "outputs": [
    {
     "name": "stdout",
     "output_type": "stream",
     "text": [
      "Estimating the multiplicative model remotely with knitro solver\n"
     ]
    }
   ],
   "source": [
    "# define and solve the StoNED model using KDE approach\n",
    "model = StoNED.StoNED(y, x, z= None, cet = \"mult\", fun = \"cost\", rts = \"vrs\")\n",
    "model.optimize(remote=True)"
   ]
  },
  {
   "cell_type": "code",
   "execution_count": 5,
   "metadata": {},
   "outputs": [
    {
     "name": "stdout",
     "output_type": "stream",
     "text": [
      "3.1932648065241334\n"
     ]
    }
   ],
   "source": [
    "# retrive the unconditional expected inefficiency \\mu\n",
    "print(model.get_unconditional_expected_inefficiency('KDE'))"
   ]
  }
 ],
 "metadata": {
  "kernelspec": {
   "display_name": "Python 3",
   "language": "python",
   "name": "python3"
  },
  "language_info": {
   "codemirror_mode": {
    "name": "ipython",
    "version": 3
   },
   "file_extension": ".py",
   "mimetype": "text/x-python",
   "name": "python",
   "nbconvert_exporter": "python",
   "pygments_lexer": "ipython3",
   "version": "3.7.9"
  }
 },
 "nbformat": 4,
 "nbformat_minor": 4
}
