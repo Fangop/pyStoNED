{
 "cells": [
  {
   "cell_type": "markdown",
   "metadata": {},
   "source": [
    "# StoNED with Z variables"
   ]
  },
  {
   "cell_type": "markdown",
   "metadata": {},
   "source": [
    "A firm’s ability to operate efficiently often depends on operational conditions \n",
    "and practices, such as the production environment and the firm specific \n",
    "characteristics for  example  technology  selection  or  managerial  \n",
    "practices.  Banker  and  Natarajan (2008) refer to both variables that \n",
    "characterize operational conditions and practices as `contextual variables`.\n",
    "\n",
    "* Contextual variables are often (but not always) **external factors** that are beyond the control of firms\n",
    "\n",
    "    - Examples: competition, regulation, weather, location\n",
    "\n",
    "    - Need to adjust efficiency estimates for operating environment\n",
    "\n",
    "    - Policy makers may influence the operating environment\n",
    "\n",
    "* Contextual variables can also be **internal factors**\n",
    "\n",
    "    - Examples: management practices, ownership\n",
    "    \n",
    "    - Better understanding of the impacts of internal factors can help the firm to improve performance\n",
    "\n",
    "\n",
    "Taking the multiplicative model as our starting point, \n",
    "we introduce the contextual variables, represented by `r`-dimensional vectorszi that \n",
    "represent the measured values of operational conditions and practices, to obtain \n",
    "the following semi-nonparametric, partial log-linear equation\n",
    "\n",
    "\n",
    "   \\begin{align*}\n",
    "        \\text{ln} y_i = \\text{ln} f(\\bf x_i) + \\delta^{'}Z_i + v_i - u_i.\n",
    "   \\end{align*}\n",
    "\n",
    "In this equation, parameter vector $\\delta=(\\delta_1...\\delta_r)$ represents the \n",
    "marginal effects ofcontextual variables on output. All other variables maintain their \n",
    "previous definitions.\n",
    "\n",
    "Following Johnson and Kuosmanen (2011), we incorporate the contextual variables in step 1 of \n",
    "the StoNED estimation routine and refine the multiplicative CNLS problem as follows:\n",
    "\n",
    "   \\begin{align*}\n",
    "        & \\underset{\\alpha, \\beta, \\varepsilon} {min} \\sum_{i=1}^n\\varepsilon_i^2 \\\\\n",
    "        & \\text{s.t.} \\\\\n",
    "        &  \\text{ln} y_i = \\text{ln}(\\phi_i+1) + \\delta^{'}z_i + \\varepsilon_i  \\quad \\forall i\\\\\n",
    "        &   \\phi_i  = \\alpha_i + \\beta_i^{'}X_i -1 \\quad \\forall i \\\\\n",
    "        &  \\alpha_i + \\beta_i^{'}X_i \\le \\alpha_j + \\beta_j^{'}X_i  \\quad  \\forall i, j\\\\\n",
    "        &  \\beta_i \\ge 0 \\quad  \\forall i \\\\\n",
    "   \\end{align*}\n",
    "\n",
    "Denote by $\\delta^{StoNEZD}$ the coefficients  of  the contextual variables \n",
    "obtained as theoptimal solution to above nonlinear problem. Johnson and Kuosmanen (2011) examine the statisticalproperties of this estimator in \n",
    "detail, showing its unbiasedness, consistency, and asymptotic efficiency."
   ]
  },
  {
   "cell_type": "code",
   "execution_count": 1,
   "metadata": {},
   "outputs": [],
   "source": [
    "# import packages\n",
    "from pystoned import StoNED\n",
    "import pandas as pd\n",
    "import numpy as np"
   ]
  },
  {
   "cell_type": "code",
   "execution_count": 3,
   "metadata": {},
   "outputs": [
    {
     "data": {
      "text/html": [
       "<div>\n",
       "<style scoped>\n",
       "    .dataframe tbody tr th:only-of-type {\n",
       "        vertical-align: middle;\n",
       "    }\n",
       "\n",
       "    .dataframe tbody tr th {\n",
       "        vertical-align: top;\n",
       "    }\n",
       "\n",
       "    .dataframe thead th {\n",
       "        text-align: right;\n",
       "    }\n",
       "</style>\n",
       "<table border=\"1\" class=\"dataframe\">\n",
       "  <thead>\n",
       "    <tr style=\"text-align: right;\">\n",
       "      <th></th>\n",
       "      <th>OPEX</th>\n",
       "      <th>CAPEX</th>\n",
       "      <th>TOTEX</th>\n",
       "      <th>Energy</th>\n",
       "      <th>Length</th>\n",
       "      <th>Customers</th>\n",
       "      <th>PerUndGr</th>\n",
       "    </tr>\n",
       "  </thead>\n",
       "  <tbody>\n",
       "    <tr>\n",
       "      <th>0</th>\n",
       "      <td>681</td>\n",
       "      <td>729</td>\n",
       "      <td>1612</td>\n",
       "      <td>75</td>\n",
       "      <td>878</td>\n",
       "      <td>4933</td>\n",
       "      <td>0.11</td>\n",
       "    </tr>\n",
       "    <tr>\n",
       "      <th>1</th>\n",
       "      <td>559</td>\n",
       "      <td>673</td>\n",
       "      <td>1659</td>\n",
       "      <td>62</td>\n",
       "      <td>964</td>\n",
       "      <td>6149</td>\n",
       "      <td>0.21</td>\n",
       "    </tr>\n",
       "    <tr>\n",
       "      <th>2</th>\n",
       "      <td>836</td>\n",
       "      <td>851</td>\n",
       "      <td>1708</td>\n",
       "      <td>78</td>\n",
       "      <td>676</td>\n",
       "      <td>6098</td>\n",
       "      <td>0.75</td>\n",
       "    </tr>\n",
       "    <tr>\n",
       "      <th>3</th>\n",
       "      <td>7559</td>\n",
       "      <td>8384</td>\n",
       "      <td>18918</td>\n",
       "      <td>683</td>\n",
       "      <td>12522</td>\n",
       "      <td>55226</td>\n",
       "      <td>0.13</td>\n",
       "    </tr>\n",
       "    <tr>\n",
       "      <th>4</th>\n",
       "      <td>424</td>\n",
       "      <td>562</td>\n",
       "      <td>1167</td>\n",
       "      <td>27</td>\n",
       "      <td>697</td>\n",
       "      <td>1670</td>\n",
       "      <td>0.03</td>\n",
       "    </tr>\n",
       "  </tbody>\n",
       "</table>\n",
       "</div>"
      ],
      "text/plain": [
       "   OPEX  CAPEX  TOTEX  Energy  Length  Customers  PerUndGr\n",
       "0   681    729   1612      75     878       4933      0.11\n",
       "1   559    673   1659      62     964       6149      0.21\n",
       "2   836    851   1708      78     676       6098      0.75\n",
       "3  7559   8384  18918     683   12522      55226      0.13\n",
       "4   424    562   1167      27     697       1670      0.03"
      ]
     },
     "execution_count": 3,
     "metadata": {},
     "output_type": "execute_result"
    }
   ],
   "source": [
    "# import Finnish electricity distribution firms data\n",
    "url = 'https://raw.githubusercontent.com/ds2010/pyStoNED/master/sources/data/firms.csv'\n",
    "df = pd.read_csv(url, error_bad_lines=False)\n",
    "df.head(5)"
   ]
  },
  {
   "cell_type": "code",
   "execution_count": 4,
   "metadata": {},
   "outputs": [],
   "source": [
    "# output (total cost)\n",
    "y  = df['TOTEX']\n",
    "\n",
    "# inputs \n",
    "x1  = df['Energy']\n",
    "x1  = np.asmatrix(x1).T\n",
    "x2  = df['Length']\n",
    "x2  = np.asmatrix(x2).T\n",
    "x3  = df['Customers']\n",
    "x3  = np.asmatrix(x3).T\n",
    "x   = np.concatenate((x1, x2, x3), axis=1)"
   ]
  },
  {
   "cell_type": "code",
   "execution_count": 5,
   "metadata": {},
   "outputs": [],
   "source": [
    "# Z variables\n",
    "z = df['PerUndGr']"
   ]
  },
  {
   "cell_type": "code",
   "execution_count": 6,
   "metadata": {},
   "outputs": [
    {
     "name": "stdout",
     "output_type": "stream",
     "text": [
      "Estimating the multiplicative model remotely with knitro solver\n"
     ]
    }
   ],
   "source": [
    "# define and solve the StoNED model using MoM approach\n",
    "model = StoNED.StoNED(y, x, z, cet = \"mult\", fun = \"cost\", rts = \"crs\")\n",
    "model.optimize(remote=True)"
   ]
  },
  {
   "cell_type": "code",
   "execution_count": 7,
   "metadata": {},
   "outputs": [
    {
     "name": "stdout",
     "output_type": "stream",
     "text": [
      "[1.14019318 1.12019573 1.12853371 1.10526798 1.21740693 1.07147982\n",
      " 1.10248408 1.19500296 1.24581116 1.078823   1.12411435 1.08170165\n",
      " 1.23855484 1.24384493 1.08746003 1.07471726 1.19236034 1.26689226\n",
      " 1.11583279 1.07649198 1.08401315 1.04319945 1.27664629 1.0732699\n",
      " 1.19371439 1.11734768 1.24774948 1.054387   1.21435035 1.09990317\n",
      " 1.09002821 1.04117802 1.09597759 1.24697686 1.0998877  1.19216685\n",
      " 1.05325707 1.05718105 1.06576915 1.10371384 1.10870425 1.11148136\n",
      " 1.16710793 1.07436745 1.07087126 1.06626849 1.12663516 1.1606251\n",
      " 1.06619533 1.06140358 1.25659629 1.12366326 1.18023456 1.22919845\n",
      " 1.1418339  1.05073495 1.06045053 1.09172299 1.05397693 1.0961019\n",
      " 1.06366561 1.08680063 1.09093216 1.12997678 1.29097093 1.08062683\n",
      " 1.17623298 1.08235818 1.12862379 1.04294507 1.09829237 1.12144504\n",
      " 1.06496089 1.07869276 1.06874922 1.09741481 1.10745816 1.18109028\n",
      " 1.09573569 1.08563667 1.09999072 1.07166877 1.06815367 1.12502119\n",
      " 1.11625943 1.11815312 1.13553093 1.30889362 1.13641974]\n"
     ]
    }
   ],
   "source": [
    "# retrive the technical inefficiency\n",
    "print(model.get_technical_inefficiency(method='MOM'))"
   ]
  }
 ],
 "metadata": {
  "kernelspec": {
   "display_name": "Python 3",
   "language": "python",
   "name": "python3"
  },
  "language_info": {
   "codemirror_mode": {
    "name": "ipython",
    "version": 3
   },
   "file_extension": ".py",
   "mimetype": "text/x-python",
   "name": "python",
   "nbconvert_exporter": "python",
   "pygments_lexer": "ipython3",
   "version": "3.7.9"
  }
 },
 "nbformat": 4,
 "nbformat_minor": 4
}
