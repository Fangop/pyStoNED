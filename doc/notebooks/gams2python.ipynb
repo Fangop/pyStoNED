{
 "cells": [
  {
   "cell_type": "markdown",
   "metadata": {},
   "source": [
    "# Rewrite GAMS codes in Python"
   ]
  },
  {
   "cell_type": "markdown",
   "metadata": {},
   "source": [
    "[PYOMO](http://www.pyomo.org/) provides a good coding environment that can help us smoothly transfer from GAMS to Python. Thus, we prepare a short tutorial to help GAMSers to understand how to rewrite the CNLS models, even other complicated models on Python."
   ]
  },
  {
   "cell_type": "code",
   "execution_count": 22,
   "metadata": {},
   "outputs": [],
   "source": [
    "### Import the pyomo module\n",
    "from pyomo.environ import *\n",
    "# Create a concrete Model\n",
    "model = ConcreteModel(name = \"CNLS\")"
   ]
  },
  {
   "cell_type": "code",
   "execution_count": 23,
   "metadata": {},
   "outputs": [],
   "source": [
    "#sets \n",
    "#     i        \"DMU's\"  /1*10/\n",
    "#     j        'outputs' /Energy, Length, Customers/;\n",
    "\n",
    "\n",
    "model.i = Set(initialize=['i1', 'i2', 'i3', 'i4', 'i5', 'i6','i7', 'i8', 'i9','i10'], doc='DMUS', ordered=True)\n",
    "model.j = Set(initialize=['Energy', 'Length', 'Customers'], doc='outputs')"
   ]
  },
  {
   "cell_type": "code",
   "execution_count": 24,
   "metadata": {},
   "outputs": [],
   "source": [
    "# alias(i,h);\n",
    "\n",
    "model.h = SetOf(model.i)"
   ]
  },
  {
   "cell_type": "code",
   "execution_count": 25,
   "metadata": {},
   "outputs": [],
   "source": [
    "#Table data(i,j)\n",
    "#$Include energy.txt;\n",
    "\n",
    "dtab = {\n",
    "    ('i1',  'Energy')   : 75,\n",
    "    ('i1',  'Length')   : 878,\n",
    "    ('i1',  'Customers'): 4933,\n",
    "    ('i2',  'Energy')   : 62,\n",
    "    ('i2',  'Length')   : 964,\n",
    "    ('i2',  'Customers'): 6149,\n",
    "    ('i3',  'Energy')   : 78,\n",
    "    ('i3',  'Length')   : 676,\n",
    "    ('i3',  'Customers'): 6098,\n",
    "    ('i4',  'Energy')   : 683,\n",
    "    ('i4',  'Length')   : 12522,\n",
    "    ('i4',  'Customers'): 55226,\n",
    "    ('i5',  'Energy')   : 27,\n",
    "    ('i5',  'Length')   : 697,\n",
    "    ('i5',  'Customers'): 1670,\n",
    "    ('i6',  'Energy')   : 295,\n",
    "    ('i6',  'Length')   : 953,\n",
    "    ('i6',  'Customers'): 22949,\n",
    "    ('i7',  'Energy')   : 44,\n",
    "    ('i7',  'Length')   : 917,\n",
    "    ('i7',  'Customers'): 3599,\n",
    "    ('i8',  'Energy')   : 171,\n",
    "    ('i8',  'Length')   : 1580,\n",
    "    ('i8',  'Customers'): 11081,\n",
    "    ('i9',  'Energy')   : 98,\n",
    "    ('i9',  'Length')   : 116,\n",
    "    ('i9',  'Customers'): 377,\n",
    "    ('i10', 'Energy')   : 203,\n",
    "    ('i10', 'Length')   : 740,\n",
    "    ('i10', 'Customers'): 10134,\n",
    "    }\n",
    "model.d = Param(model.i, model.j, initialize=dtab, doc='output data')"
   ]
  },
  {
   "cell_type": "code",
   "execution_count": 26,
   "metadata": {},
   "outputs": [],
   "source": [
    "#PARAMETERS\n",
    "#c(i)         \"Total cost of firm i\"\n",
    "#y(i,j)       \"Output j of firm i\";\n",
    "\n",
    "model.c = Param(model.i, initialize={'i1': 1612,\n",
    "                                     'i2': 1659,\n",
    "                                     'i3': 1708,\n",
    "                                     'i4': 18918,\n",
    "                                     'i5': 1167,\n",
    "                                     'i6': 3395,\n",
    "                                     'i7': 1333,\n",
    "                                     'i8': 3518,\n",
    "                                     'i9': 1415,\n",
    "                                     'i10':2469,\n",
    "                                     }, \n",
    "                doc='Cost data')\n",
    "\n",
    "def y_init(model, i, j):\n",
    "  return  model.d[i, j]\n",
    "model.y = Param(model.i, model.j, initialize=y_init, doc='output data')"
   ]
  },
  {
   "cell_type": "code",
   "execution_count": 27,
   "metadata": {},
   "outputs": [],
   "source": [
    "#VARIABLES\n",
    "#E(i)            \"Composite error term (v + u)\"\n",
    "#SSE             \"Sum of squares of residuals\";\n",
    "\n",
    "#POSITIVE VARIABLES\n",
    "#b(i,j)    \"Beta-coefficients (positivity ensures monotonicity)\"\n",
    "#Chat(i)  ;\n",
    "\n",
    "model.b = Var(model.i, model.j, bounds=(0.0,None), doc='beta-coeff')\n",
    "model.e = Var(model.i, doc='res')\n",
    "model.f = Var(model.i, bounds=(0.0,None), doc='frontier')"
   ]
  },
  {
   "cell_type": "code",
   "execution_count": 28,
   "metadata": {},
   "outputs": [],
   "source": [
    "#Equations\n",
    "#QSSE                  objective function = sum of squares of residuals\n",
    "#QREGRESSION(i)        log-transformed regression equation\n",
    "#Qlog(i)               supporting hyperplanes of the nonparametric cost function\n",
    "#QCONC(i,h)            concavity constraint (Afriat inequalities);\n",
    "\n",
    "#QSSE..                SSE=e=sum(i,E(i)*E(i)) ;\n",
    "#QREGRESSION(i)..      log(C(i)) =e= log(Chat(i) + 1) + E(i);\n",
    "#Qlog(i)..             Chat(i) =e= sum(j, b(i,j)*Y(i,j)) - 1;\n",
    "#QCONC(i,h)..          sum(j, b(i,j)*Y(i,j)) =g= sum(j, b(h,j)*Y(i,j));\n",
    "\n",
    "def objective_rule(model):\n",
    "  return sum(model.e[i]*model.e[i] for i in model.i)\n",
    "model.objective = Objective(rule=objective_rule, sense=minimize, doc='objective function')\n",
    "\n",
    "def qreg_rule(model, i):\n",
    "    return log(model.c[i]) == log(model.f[i] + 1) + model.e[i]\n",
    "model.qreg = Constraint(model.i, rule=qreg_rule, doc='log-transformed regression')\n",
    "\n",
    "def qlog_rule(model, i):\n",
    "    return model.f[i] == sum(model.b[i, j]*model.y[i, j] for j in model.j) - 1\n",
    "model.qlog = Constraint(model.i, rule=qlog_rule, doc='cost function')\n",
    "\n",
    "def qconvex_rule(model, i, h):\n",
    "    return sum(model.b[i,j]*model.y[i,j] for j in model.j) >= sum(model.b[h,j]*model.y[i,j] for j in model.j)\n",
    "model.qconvex = Constraint(model.i, model.h, rule=qconvex_rule, doc='convexity constraint')"
   ]
  },
  {
   "cell_type": "code",
   "execution_count": 29,
   "metadata": {},
   "outputs": [],
   "source": [
    "# Execute the model\n",
    "#MODEL StoNED /all/;\n",
    "#SOLVE StoNED using NLP Minimizing SSE;\n",
    "\n",
    "from pyomo.opt import SolverFactory\n",
    "import pyomo.environ\n",
    "solver_manager = SolverManagerFactory('neos')\n",
    "results = solver_manager.solve(model, opt='minos')"
   ]
  },
  {
   "cell_type": "code",
   "execution_count": 31,
   "metadata": {},
   "outputs": [
    {
     "name": "stdout",
     "output_type": "stream",
     "text": [
      "e : res\n",
      "    Size=10, Index=i\n",
      "    Key : Lower : Value                 : Upper : Fixed : Stale : Domain\n",
      "     i1 :  None : -0.032096679396871504 :  None : False : False :  Reals\n",
      "    i10 :  None :  -0.06413156735462289 :  None : False : False :  Reals\n",
      "     i2 :  None : -0.009706295145954136 :  None : False : False :  Reals\n",
      "     i3 :  None :   0.14091387439378697 :  None : False : False :  Reals\n",
      "     i4 :  None :  -0.07357647574238865 :  None : False : False :  Reals\n",
      "     i5 :  None :   0.06750602546432768 :  None : False : False :  Reals\n",
      "     i6 :  None :  -0.11941039400503946 :  None : False : False :  Reals\n",
      "     i7 :  None :  -0.07382034813946062 :  None : False : False :  Reals\n",
      "     i8 :  None :   0.05689878964359083 :  None : False : False :  Reals\n",
      "     i9 :  None :   0.10742325374875122 :  None : False : False :  Reals\n",
      "b : beta-coeff\n",
      "    Size=30, Index=b_index\n",
      "    Key                  : Lower : Value                : Upper : Fixed : Stale : Domain\n",
      "     ('i1', 'Customers') :   0.0 :  0.01654905352719829 :  None : False : False :  Reals\n",
      "        ('i1', 'Energy') :   0.0 :     8.08850607060402 :  None : False : False :  Reals\n",
      "        ('i1', 'Length') :   0.0 :    1.111964356352479 :  None : False : False :  Reals\n",
      "    ('i10', 'Customers') :   0.0 :                  0.0 :  None : False : False :  Reals\n",
      "       ('i10', 'Energy') :   0.0 :   12.968120514670339 :  None : False : False :  Reals\n",
      "       ('i10', 'Length') :   0.0 :                  0.0 :  None : False : False :  Reals\n",
      "     ('i2', 'Customers') :   0.0 :  0.12860156088281094 :  None : False : False :  Reals\n",
      "        ('i2', 'Energy') :   0.0 :                  0.0 :  None : False : False :  Reals\n",
      "        ('i2', 'Length') :   0.0 :   0.9174379130410503 :  None : False : False :  Reals\n",
      "     ('i3', 'Customers') :   0.0 : 0.016549053527195632 :  None : False : False :  Reals\n",
      "        ('i3', 'Energy') :   0.0 :    8.088506070604131 :  None : False : False :  Reals\n",
      "        ('i3', 'Length') :   0.0 :   1.1119643563524844 :  None : False : False :  Reals\n",
      "     ('i4', 'Customers') :   0.0 : 0.016549053527195896 :  None : False : False :  Reals\n",
      "        ('i4', 'Energy') :   0.0 :    8.088506070604131 :  None : False : False :  Reals\n",
      "        ('i4', 'Length') :   0.0 :   1.1119643563524833 :  None : False : False :  Reals\n",
      "     ('i5', 'Customers') :   0.0 :                  0.0 :  None : False : False :  Reals\n",
      "        ('i5', 'Energy') :   0.0 :                  0.0 :  None : False : False :  Reals\n",
      "        ('i5', 'Length') :   0.0 :    1.565022492394969 :  None : False : False :  Reals\n",
      "     ('i6', 'Customers') :   0.0 :   0.1286015860667995 :  None : False : False :  Reals\n",
      "        ('i6', 'Energy') :   0.0 :                  0.0 :  None : False : False :  Reals\n",
      "        ('i6', 'Length') :   0.0 :    0.917437306590522 :  None : False : False :  Reals\n",
      "     ('i7', 'Customers') :   0.0 :                  0.0 :  None : False : False :  Reals\n",
      "        ('i7', 'Energy') :   0.0 :                  0.0 :  None : False : False :  Reals\n",
      "        ('i7', 'Length') :   0.0 :    1.565022492394969 :  None : False : False :  Reals\n",
      "     ('i8', 'Customers') :   0.0 : 0.016549053527195642 :  None : False : False :  Reals\n",
      "        ('i8', 'Energy') :   0.0 :    8.088506070604137 :  None : False : False :  Reals\n",
      "        ('i8', 'Length') :   0.0 :   1.1119643563524837 :  None : False : False :  Reals\n",
      "     ('i9', 'Customers') :   0.0 :                  0.0 :  None : False : False :  Reals\n",
      "        ('i9', 'Energy') :   0.0 :   12.968120514670337 :  None : False : False :  Reals\n",
      "        ('i9', 'Length') :   0.0 :                  0.0 :  None : False : False :  Reals\n"
     ]
    }
   ],
   "source": [
    "#display E.l, b.l;\n",
    "\n",
    "model.e.display()\n",
    "model.b.display()"
   ]
  }
 ],
 "metadata": {
  "kernelspec": {
   "display_name": "Python 3",
   "language": "python",
   "name": "python3"
  },
  "language_info": {
   "codemirror_mode": {
    "name": "ipython",
    "version": 3
   },
   "file_extension": ".py",
   "mimetype": "text/x-python",
   "name": "python",
   "nbconvert_exporter": "python",
   "pygments_lexer": "ipython3",
   "version": "3.7.9"
  }
 },
 "nbformat": 4,
 "nbformat_minor": 4
}
